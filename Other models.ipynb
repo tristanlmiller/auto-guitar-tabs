{
 "cells": [
  {
   "cell_type": "markdown",
   "metadata": {},
   "source": [
    "# Other Models"
   ]
  },
  {
   "cell_type": "markdown",
   "metadata": {},
   "source": [
    "I'd like to try several other simple models.  SVM, Random Forest, Gradient Boosting (xgb), seem like good places to start.  I will make copies of `lr_train.py` for each model.  In principle I could use a different model for each of root, quality, add, and inversion.\n",
    "\n",
    "Warning: because I've updated the bash code, some of these commands will no longer work."
   ]
  },
  {
   "cell_type": "markdown",
   "metadata": {},
   "source": [
    "## Setup"
   ]
  },
  {
   "cell_type": "code",
   "execution_count": 1,
   "metadata": {
    "ExecuteTime": {
     "end_time": "2019-09-26T15:24:12.065145Z",
     "start_time": "2019-09-26T15:24:09.373851Z"
    }
   },
   "outputs": [],
   "source": [
    "import pandas as pd\n",
    "import numpy as np\n",
    "import librosa\n",
    "import librosa.display\n",
    "import matplotlib.pyplot as plt\n",
    "import sys, os\n",
    "from sklearn.model_selection import train_test_split\n",
    "import sklearn\n",
    "import re\n",
    "import pickle\n",
    "from sklearn.svm import SVC\n",
    "from sklearn.linear_model import LogisticRegression\n",
    "from sklearn.ensemble import RandomForestClassifier\n",
    "import xgboost as xgb\n",
    "import sklearn\n",
    "from sklearn.multiclass import OneVsRestClassifier\n",
    "from sklearn.preprocessing import MultiLabelBinarizer\n",
    "\n",
    "if 'chord_loader' in sys.modules:\n",
    "    del sys.modules['chord_loader']\n",
    "sys.path.append('.')\n",
    "import chord_loader"
   ]
  },
  {
   "cell_type": "code",
   "execution_count": 2,
   "metadata": {
    "ExecuteTime": {
     "end_time": "2019-09-26T15:24:12.293487Z",
     "start_time": "2019-09-26T15:24:12.067214Z"
    }
   },
   "outputs": [],
   "source": [
    "#copy code from lr_train so we can get to the point where these models can be tested. \n",
    "#Use 10% data for this purpose\n",
    "source = 'partial_lr'\n",
    "source_dir = 'Data/processed/'\n",
    "\n",
    "#get information from processed data directory\n",
    "data_info = pd.read_csv(source_dir + 'directory.csv')\n",
    "curr_data_info = data_info.loc[data_info['filepath']==source,:]\n",
    "if curr_data_info.shape[0] < 1:\n",
    "    print('Source not found in directory')\n",
    "    sys.exit(1)\n",
    "curr_data_info = curr_data_info.iloc[-1,:]\n",
    "\n",
    "#load data\n",
    "features_train = np.load(f'{source_dir}{source}_ftrain.npy')\n",
    "labels_train = np.load(f'{source_dir}{source}_ltrain.npy')\n",
    "features_valid = np.load(f'{source_dir}{source}_fvalid.npy')\n",
    "labels_valid = np.load(f'{source_dir}{source}_lvalid.npy')\n",
    "features_test = np.load(f'{source_dir}{source}_ftest.npy')\n",
    "labels_test = np.load(f'{source_dir}{source}_ltest.npy')\n",
    "if curr_data_info['standard']:\n",
    "    standard_features_train = np.load(f'{source_dir}{source}_fstrain.npy')\n",
    "    standard_labels_train = np.load(f'{source_dir}{source}_lstrain.npy')\n",
    "    standard_features_valid = np.load(f'{source_dir}{source}_fsvalid.npy')\n",
    "    standard_labels_valid = np.load(f'{source_dir}{source}_lsvalid.npy')\n",
    "    standard_features_test = np.load(f'{source_dir}{source}_fstest.npy')\n",
    "    standard_labels_test = np.load(f'{source_dir}{source}_lstest.npy')\n"
   ]
  },
  {
   "cell_type": "markdown",
   "metadata": {},
   "source": [
    "## Baseline: logistic regression"
   ]
  },
  {
   "cell_type": "markdown",
   "metadata": {},
   "source": [
    "I've trained a logistic regression model already, but I'll train it in this specific setting just to get a baseline for comparison."
   ]
  },
  {
   "cell_type": "code",
   "execution_count": 15,
   "metadata": {
    "ExecuteTime": {
     "end_time": "2019-09-24T23:48:02.572826Z",
     "start_time": "2019-09-24T23:46:57.743228Z"
    }
   },
   "outputs": [
    {
     "data": {
      "text/plain": [
       "LogisticRegression(C=1.0, class_weight='balanced', dual=False,\n",
       "                   fit_intercept=True, intercept_scaling=1, l1_ratio=None,\n",
       "                   max_iter=1000, multi_class='ovr', n_jobs=None, penalty='l2',\n",
       "                   random_state=None, solver='lbfgs', tol=0.0001, verbose=0,\n",
       "                   warm_start=False)"
      ]
     },
     "execution_count": 15,
     "metadata": {},
     "output_type": "execute_result"
    }
   ],
   "source": [
    "root_model = LogisticRegression(class_weight='balanced',multi_class='ovr',C=1.0,\n",
    "                                                    solver='lbfgs', max_iter=1000)\n",
    "root_model.fit(features_train, labels_train[:,0])"
   ]
  },
  {
   "cell_type": "code",
   "execution_count": 16,
   "metadata": {
    "ExecuteTime": {
     "end_time": "2019-09-24T23:51:41.771109Z",
     "start_time": "2019-09-24T23:51:41.517838Z"
    }
   },
   "outputs": [],
   "source": [
    "root_predict_train = root_model.predict(features_train)"
   ]
  },
  {
   "cell_type": "code",
   "execution_count": 17,
   "metadata": {
    "ExecuteTime": {
     "end_time": "2019-09-24T23:51:42.475811Z",
     "start_time": "2019-09-24T23:51:42.413788Z"
    }
   },
   "outputs": [
    {
     "data": {
      "text/plain": [
       "0.3485297784426872"
      ]
     },
     "execution_count": 17,
     "metadata": {},
     "output_type": "execute_result"
    }
   ],
   "source": [
    "sklearn.metrics.accuracy_score(labels_train[:,0],root_predict_train)"
   ]
  },
  {
   "cell_type": "markdown",
   "metadata": {},
   "source": [
    "1 minute to train, 35% accuracy.  Adequate"
   ]
  },
  {
   "cell_type": "markdown",
   "metadata": {},
   "source": [
    "## SVM"
   ]
  },
  {
   "cell_type": "code",
   "execution_count": 6,
   "metadata": {
    "ExecuteTime": {
     "end_time": "2019-09-24T22:31:36.074349Z",
     "start_time": "2019-09-24T22:20:04.940570Z"
    },
    "scrolled": true
   },
   "outputs": [
    {
     "name": "stderr",
     "output_type": "stream",
     "text": [
      "/anaconda3/envs/insight/lib/python3.7/site-packages/sklearn/svm/base.py:193: FutureWarning: The default value of gamma will change from 'auto' to 'scale' in version 0.22 to account better for unscaled features. Set gamma explicitly to 'auto' or 'scale' to avoid this warning.\n",
      "  \"avoid this warning.\", FutureWarning)\n",
      "/anaconda3/envs/insight/lib/python3.7/site-packages/sklearn/svm/base.py:241: ConvergenceWarning: Solver terminated early (max_iter=1000).  Consider pre-processing your data with StandardScaler or MinMaxScaler.\n",
      "  % self.max_iter, ConvergenceWarning)\n"
     ]
    },
    {
     "data": {
      "text/plain": [
       "SVC(C=1.0, cache_size=200, class_weight='balanced', coef0=0.0,\n",
       "    decision_function_shape='ovr', degree=3, gamma='auto_deprecated',\n",
       "    kernel='rbf', max_iter=1000, probability=False, random_state=None,\n",
       "    shrinking=True, tol=0.001, verbose=False)"
      ]
     },
     "execution_count": 6,
     "metadata": {},
     "output_type": "execute_result"
    }
   ],
   "source": [
    "#Make sure function behaves like I expect\n",
    "root_model = SVC(class_weight='balanced',decision_function_shape='ovr',C=1.0, max_iter=1000)\n",
    "root_model.fit(features_train, labels_train[:,0])"
   ]
  },
  {
   "cell_type": "code",
   "execution_count": 7,
   "metadata": {
    "ExecuteTime": {
     "end_time": "2019-09-24T23:33:02.984250Z",
     "start_time": "2019-09-24T22:51:43.737275Z"
    }
   },
   "outputs": [],
   "source": [
    "root_predict_train = root_model.predict(features_train)"
   ]
  },
  {
   "cell_type": "code",
   "execution_count": 12,
   "metadata": {
    "ExecuteTime": {
     "end_time": "2019-09-24T23:41:55.999562Z",
     "start_time": "2019-09-24T23:41:55.970225Z"
    }
   },
   "outputs": [
    {
     "data": {
      "text/plain": [
       "0.0361722590297072"
      ]
     },
     "execution_count": 12,
     "metadata": {},
     "output_type": "execute_result"
    }
   ],
   "source": [
    "sklearn.metrics.accuracy_score(labels_train[:,0],root_predict_train)"
   ]
  },
  {
   "cell_type": "markdown",
   "metadata": {},
   "source": [
    "11 minutes to train, 40 minutes to just make a prediction, and 4% accuracy!  Maybe SVM is bad for this problem."
   ]
  },
  {
   "cell_type": "markdown",
   "metadata": {},
   "source": [
    "## Random Forest"
   ]
  },
  {
   "cell_type": "code",
   "execution_count": 20,
   "metadata": {
    "ExecuteTime": {
     "end_time": "2019-09-25T00:14:44.845569Z",
     "start_time": "2019-09-25T00:09:50.687101Z"
    }
   },
   "outputs": [
    {
     "data": {
      "text/plain": [
       "RandomForestClassifier(bootstrap=True, class_weight=None, criterion='gini',\n",
       "                       max_depth=None, max_features='sqrt', max_leaf_nodes=None,\n",
       "                       min_impurity_decrease=0.0, min_impurity_split=None,\n",
       "                       min_samples_leaf=1, min_samples_split=2,\n",
       "                       min_weight_fraction_leaf=0.0, n_estimators=100,\n",
       "                       n_jobs=None, oob_score=False, random_state=None,\n",
       "                       verbose=0, warm_start=False)"
      ]
     },
     "execution_count": 20,
     "metadata": {},
     "output_type": "execute_result"
    }
   ],
   "source": [
    "root_model = RandomForestClassifier(n_estimators=100,max_features='sqrt',class_weight=None)\n",
    "root_model.fit(features_train, labels_train[:,0])"
   ]
  },
  {
   "cell_type": "code",
   "execution_count": 21,
   "metadata": {
    "ExecuteTime": {
     "end_time": "2019-09-25T00:18:55.022124Z",
     "start_time": "2019-09-25T00:18:43.082439Z"
    }
   },
   "outputs": [],
   "source": [
    "root_predict_train = root_model.predict(features_train)"
   ]
  },
  {
   "cell_type": "code",
   "execution_count": 22,
   "metadata": {
    "ExecuteTime": {
     "end_time": "2019-09-25T00:18:58.363381Z",
     "start_time": "2019-09-25T00:18:58.325088Z"
    }
   },
   "outputs": [
    {
     "data": {
      "text/plain": [
       "0.995672152169267"
      ]
     },
     "execution_count": 22,
     "metadata": {},
     "output_type": "execute_result"
    }
   ],
   "source": [
    "sklearn.metrics.accuracy_score(labels_train[:,0],root_predict_train)"
   ]
  },
  {
   "cell_type": "code",
   "execution_count": 29,
   "metadata": {
    "ExecuteTime": {
     "end_time": "2019-09-25T00:33:32.523349Z",
     "start_time": "2019-09-25T00:33:31.798185Z"
    }
   },
   "outputs": [
    {
     "data": {
      "text/plain": [
       "0.3724286152901443"
      ]
     },
     "execution_count": 29,
     "metadata": {},
     "output_type": "execute_result"
    }
   ],
   "source": [
    "#let's try that again on the validation set\n",
    "root_predict_valid = root_model.predict(features_valid)\n",
    "sklearn.metrics.accuracy_score(labels_valid[:,0],root_predict_valid)"
   ]
  },
  {
   "cell_type": "markdown",
   "metadata": {},
   "source": [
    "It's obviously in the high variance regime, but that might improve as I add more data.  This one is worth trying."
   ]
  },
  {
   "cell_type": "markdown",
   "metadata": {
    "ExecuteTime": {
     "end_time": "2019-09-25T00:35:23.728462Z",
     "start_time": "2019-09-25T00:35:23.718009Z"
    }
   },
   "source": [
    "`python rf_train.py full_lr rf100 --num 100 --depth 15`"
   ]
  },
  {
   "cell_type": "markdown",
   "metadata": {},
   "source": [
    "Without any maximum depth, each tree takes 250 MB, which is prohibitive. Currently testing a maximum depth.  At depth 15, it only takes 8 MB per tree"
   ]
  },
  {
   "cell_type": "code",
   "execution_count": 31,
   "metadata": {
    "ExecuteTime": {
     "end_time": "2019-09-25T16:36:01.486502Z",
     "start_time": "2019-09-25T16:36:01.441557Z"
    }
   },
   "outputs": [],
   "source": [
    "metrics = pickle.load(open(\"Models/rf100_metrics.pkl\", 'rb'))"
   ]
  },
  {
   "cell_type": "code",
   "execution_count": 38,
   "metadata": {
    "ExecuteTime": {
     "end_time": "2019-09-25T16:38:41.623825Z",
     "start_time": "2019-09-25T16:38:41.617181Z"
    },
    "scrolled": true
   },
   "outputs": [
    {
     "name": "stdout",
     "output_type": "stream",
     "text": [
      "Root F1 score: 0.39229078171883525\n",
      "Quality F1 score: 0.6361815109707816\n",
      "Add F1 score: 0.6700417121123365\n",
      "Inversion F1 score: 0.9372211221390009\n",
      "Total accuracy: 0.23050278477149616\n"
     ]
    }
   ],
   "source": [
    "#without weighting\n",
    "print(f\"Root F1 score: {metrics['root_F1_valid']}\")\n",
    "print(f\"Quality F1 score: {metrics['quality_F1_valid']}\")\n",
    "print(f\"Add F1 score: {metrics['add_F1_valid']}\")\n",
    "print(f\"Inversion F1 score: {metrics['inv_F1_valid']}\")\n",
    "print(f\"Total accuracy: {metrics['total_acc_valid']}\")\n",
    "#it performs slightly worse than logistic regression on each measure"
   ]
  },
  {
   "cell_type": "markdown",
   "metadata": {},
   "source": [
    "Without weighting, it performs very similarly to logistic regression.  I think this might be because in either model, it's mostly just predicting the common class."
   ]
  },
  {
   "cell_type": "markdown",
   "metadata": {},
   "source": [
    "`python rf_train.py full_lr rf100w --weighted --num 100 --depth 15`"
   ]
  },
  {
   "cell_type": "code",
   "execution_count": 40,
   "metadata": {
    "ExecuteTime": {
     "end_time": "2019-09-25T20:04:19.298199Z",
     "start_time": "2019-09-25T20:04:19.281470Z"
    }
   },
   "outputs": [],
   "source": [
    "metricsw = pickle.load(open(\"Models/rf100w_metrics.pkl\", 'rb'))"
   ]
  },
  {
   "cell_type": "code",
   "execution_count": 43,
   "metadata": {
    "ExecuteTime": {
     "end_time": "2019-09-25T20:06:23.794074Z",
     "start_time": "2019-09-25T20:06:23.787442Z"
    }
   },
   "outputs": [
    {
     "name": "stdout",
     "output_type": "stream",
     "text": [
      "Root F1 score: 0.3877600988680455\n",
      "Quality F1 score: 0.6513733965117582\n",
      "Add F1 score: 0.6590535491232389\n",
      "Inversion F1 score: 0.9267973410028639\n",
      "Total accuracy: 0.20070191500724804\n"
     ]
    }
   ],
   "source": [
    "#with weighting\n",
    "print(f\"Root F1 score: {metricsw['root_F1_valid']}\")\n",
    "print(f\"Quality F1 score: {metricsw['quality_F1_valid']}\")\n",
    "print(f\"Add F1 score: {metricsw['add_F1_valid']}\")\n",
    "print(f\"Inversion F1 score: {metricsw['inv_F1_valid']}\")\n",
    "print(f\"Total accuracy: {metricsw['total_acc_valid']}\")\n",
    "#it performs slightly worse than logistic regression on each measure"
   ]
  },
  {
   "cell_type": "markdown",
   "metadata": {},
   "source": [
    "This seems to perform very slightly better than (unweighted) logistic regression for quality, which I think is an improvement?  But a very small improvement"
   ]
  },
  {
   "cell_type": "markdown",
   "metadata": {},
   "source": [
    "## XGBoosting"
   ]
  },
  {
   "cell_type": "code",
   "execution_count": 3,
   "metadata": {
    "ExecuteTime": {
     "end_time": "2019-09-26T15:24:23.086779Z",
     "start_time": "2019-09-26T15:24:23.082125Z"
    }
   },
   "outputs": [],
   "source": [
    "model_options = {'max_depth': 4,\n",
    "                 'learning_rate': 0.1,\n",
    "                 'n_estimators':5,\n",
    "                 'n_jobs':4\n",
    "                        }\n",
    "root_model = xgb.XGBClassifier(**model_options)"
   ]
  },
  {
   "cell_type": "code",
   "execution_count": 29,
   "metadata": {
    "ExecuteTime": {
     "end_time": "2019-09-26T15:35:55.008600Z",
     "start_time": "2019-09-26T15:35:55.001655Z"
    }
   },
   "outputs": [],
   "source": [
    "def get_weights(labels):\n",
    "    '''Given a set of categorical labels, produces a weight for each label which is inverse to its frequency'''\n",
    "    values,counts = np.unique(labels,return_counts=True)\n",
    "    class_weight = {}\n",
    "    for value,count in zip(values,counts):\n",
    "        class_weight[value] = 1/(count+1) #add one to prevent divide-by-zero errors\n",
    "    weights = np.vectorize(class_weight.get)(labels)\n",
    "    mult = labels.shape[0]/sum(weights)\n",
    "    return weights*mult"
   ]
  },
  {
   "cell_type": "code",
   "execution_count": 30,
   "metadata": {
    "ExecuteTime": {
     "end_time": "2019-09-26T15:36:38.992297Z",
     "start_time": "2019-09-26T15:35:55.200805Z"
    }
   },
   "outputs": [
    {
     "data": {
      "text/plain": [
       "XGBClassifier(base_score=0.5, booster='gbtree', colsample_bylevel=1,\n",
       "              colsample_bynode=1, colsample_bytree=1, gamma=0,\n",
       "              learning_rate=0.1, max_delta_step=0, max_depth=4,\n",
       "              min_child_weight=1, missing=None, n_estimators=5, n_jobs=4,\n",
       "              nthread=None, objective='multi:softprob', random_state=0,\n",
       "              reg_alpha=0, reg_lambda=1, scale_pos_weight=1, seed=None,\n",
       "              silent=None, subsample=1, verbosity=1)"
      ]
     },
     "execution_count": 30,
     "metadata": {},
     "output_type": "execute_result"
    }
   ],
   "source": [
    "root_model.fit(features_train, labels_train[:,0],sample_weight = get_weights(labels_train[:,0]))"
   ]
  },
  {
   "cell_type": "code",
   "execution_count": 31,
   "metadata": {
    "ExecuteTime": {
     "end_time": "2019-09-26T15:36:40.506303Z",
     "start_time": "2019-09-26T15:36:38.994409Z"
    }
   },
   "outputs": [],
   "source": [
    "root_predict_train = root_model.predict(features_train)"
   ]
  },
  {
   "cell_type": "code",
   "execution_count": 32,
   "metadata": {
    "ExecuteTime": {
     "end_time": "2019-09-26T15:36:40.537009Z",
     "start_time": "2019-09-26T15:36:40.508495Z"
    }
   },
   "outputs": [
    {
     "data": {
      "text/plain": [
       "0.29192936524898483"
      ]
     },
     "execution_count": 32,
     "metadata": {},
     "output_type": "execute_result"
    }
   ],
   "source": [
    "sklearn.metrics.accuracy_score(labels_train[:,0],root_predict_train)"
   ]
  },
  {
   "cell_type": "code",
   "execution_count": 33,
   "metadata": {
    "ExecuteTime": {
     "end_time": "2019-09-26T15:36:40.758725Z",
     "start_time": "2019-09-26T15:36:40.539037Z"
    }
   },
   "outputs": [],
   "source": [
    "cmat = sklearn.metrics.confusion_matrix(labels_train[:,0],root_predict_train)"
   ]
  },
  {
   "cell_type": "code",
   "execution_count": 34,
   "metadata": {
    "ExecuteTime": {
     "end_time": "2019-09-26T15:36:40.933841Z",
     "start_time": "2019-09-26T15:36:40.760502Z"
    }
   },
   "outputs": [
    {
     "data": {
      "image/png": "[encoded data removed]",
      "text/plain": [
       "<Figure size 432x288 with 1 Axes>"
      ]
     },
     "metadata": {
      "needs_background": "light"
     },
     "output_type": "display_data"
    }
   ],
   "source": [
    "curr_metric = 'root_cmat_train'\n",
    "ticks = np.arange(0,cmat.shape[1],1.0)\n",
    "ticklabels = [chord_loader.num_to_root[x-1] for x in ticks]\n",
    "ticks += 0.5\n",
    "plt.pcolor(np.log(cmat))\n",
    "#plt.pcolor(metrics[2][curr_metric])\n",
    "plt.xticks(ticks=ticks, labels=ticklabels)\n",
    "plt.yticks(ticks=ticks, labels=ticklabels)\n",
    "plt.xlabel('Prediction')\n",
    "plt.ylabel('Truth')\n",
    "plt.rc('font', size=15)\n",
    "plt.tight_layout()"
   ]
  },
  {
   "cell_type": "markdown",
   "metadata": {},
   "source": [
    "Test that the new chord_train works.\n",
    "\n",
    "```python chord_train.py partial_lr xgb_partial xgb --params T 10 5 0.1```"
   ]
  },
  {
   "cell_type": "markdown",
   "metadata": {},
   "source": [
    "## Focusing on XGB\n",
    "Due to time constraints, I need to focus on just one model and tune the parameters.  Let's go with XGB, and switch later if it can't beat the random forest / logistic regression baseline."
   ]
  },
  {
   "cell_type": "markdown",
   "metadata": {},
   "source": [
    "### Max depth\n",
    "Because a major constraint is disk space usage, I will vary max depth and num_estimators simultaneously, so as to take a constant amount of disk space.  First, figure out the space per estimator..."
   ]
  },
  {
   "cell_type": "markdown",
   "metadata": {},
   "source": [
    "```python chord_train.py full xgb_d3 xgb --params T 1 3 0.1;\n",
    "python chord_train.py full xgb_d5 xgb --params T 1 5 0.1;\n",
    "python chord_train.py full xgb_d10 xgb --params T 1 10 0.1;\n",
    "python chord_train.py full xgb_d15 xgb --params T 1 15 0.1;\n",
    "```"
   ]
  },
  {
   "cell_type": "markdown",
   "metadata": {},
   "source": [
    "Using 100 MB per model:\n",
    "\n",
    "```python chord_train.py full xgb_d3 xgb --params T 3000 3 0.1;\n",
    "python chord_train.py full xgb_d5 xgb --params T 1000 5 0.1;\n",
    "python chord_train.py full xgb_d10 xgb --params T 70 10 0.1;\n",
    "python chord_train.py full xgb_d15 xgb --params T 9 15 0.1;\n",
    "```"
   ]
  },
  {
   "cell_type": "code",
   "execution_count": 37,
   "metadata": {
    "ExecuteTime": {
     "end_time": "2019-09-26T18:09:12.374906Z",
     "start_time": "2019-09-26T18:09:12.365510Z"
    }
   },
   "outputs": [],
   "source": [
    "metrics = [pickle.load(open(\"Models/xgb_d3_metrics.pkl\", 'rb'))]\n",
    "metrics.append(pickle.load(open(\"Models/xgb_d5_metrics.pkl\", 'rb')))\n",
    "metrics.append(pickle.load(open(\"Models/xgb_d10_metrics.pkl\", 'rb')))\n",
    "metrics.append(pickle.load(open(\"Models/xgb_d15_metrics.pkl\", 'rb')))"
   ]
  },
  {
   "cell_type": "code",
   "execution_count": 39,
   "metadata": {
    "ExecuteTime": {
     "end_time": "2019-09-26T18:09:19.358650Z",
     "start_time": "2019-09-26T18:09:18.893992Z"
    }
   },
   "outputs": [
    {
     "data": {
      "image/png": "[encoded data removed]",
      "text/plain": [
       "<Figure size 432x288 with 1 Axes>"
      ]
     },
     "metadata": {
      "needs_background": "light"
     },
     "output_type": "display_data"
    }
   ],
   "source": [
    "L2weight = [3,5,10,15]\n",
    "plt.plot(L2weight, [m['root_acc_train'] for m in metrics]);\n",
    "plt.plot(L2weight, [m['quality_acc_train'] for m in metrics]);\n",
    "plt.plot(L2weight, [m['add_acc_train'] for m in metrics]);\n",
    "plt.plot(L2weight, [m['inv_acc_train'] for m in metrics]);\n",
    "plt.xscale('log')\n",
    "plt.legend(['root','quality','add','inv'])\n",
    "plt.tight_layout()"
   ]
  },
  {
   "cell_type": "code",
   "execution_count": 48,
   "metadata": {
    "ExecuteTime": {
     "end_time": "2019-09-26T18:15:45.259593Z",
     "start_time": "2019-09-26T18:15:45.110458Z"
    }
   },
   "outputs": [
    {
     "data": {
      "image/png": "[encoded data removed]",
      "text/plain": [
       "<Figure size 432x288 with 1 Axes>"
      ]
     },
     "metadata": {
      "needs_background": "light"
     },
     "output_type": "display_data"
    }
   ],
   "source": [
    "curr_metric = 'root_cmat_train'\n",
    "ticks = np.arange(0,metrics[2][curr_metric].shape[1],1.0)\n",
    "ticklabels = [chord_loader.num_to_root[x-1] for x in ticks]\n",
    "ticks += 0.5\n",
    "plt.pcolor(np.log(metrics[2][curr_metric]))\n",
    "#plt.pcolor(metrics[2][curr_metric])\n",
    "plt.xticks(ticks=ticks, labels=ticklabels)\n",
    "plt.yticks(ticks=ticks, labels=ticklabels)\n",
    "plt.xlabel('Prediction')\n",
    "plt.ylabel('Truth')\n",
    "plt.rc('font', size=15)\n",
    "plt.tight_layout()"
   ]
  },
  {
   "cell_type": "code",
   "execution_count": 46,
   "metadata": {
    "ExecuteTime": {
     "end_time": "2019-09-26T18:15:00.203634Z",
     "start_time": "2019-09-26T18:15:00.195522Z"
    }
   },
   "outputs": [
    {
     "name": "stdout",
     "output_type": "stream",
     "text": [
      "Root F1 score: 0.3382309438654171\n",
      "Quality F1 score: 0.5118355744723413\n",
      "Add F1 score: 0.48922456748269594\n",
      "Inversion F1 score: 0.8782291512403755\n",
      "Total accuracy: 0.08496171000589077\n"
     ]
    }
   ],
   "source": [
    "#with weighting\n",
    "print(f\"Root F1 score: {metrics[3]['root_F1_valid']}\")\n",
    "print(f\"Quality F1 score: {metrics[3]['quality_F1_valid']}\")\n",
    "print(f\"Add F1 score: {metrics[3]['add_F1_valid']}\")\n",
    "print(f\"Inversion F1 score: {metrics[3]['inv_F1_valid']}\")\n",
    "print(f\"Total accuracy: {metrics[3]['total_acc_valid']}\")\n",
    "#it performs slightly worse than logistic regression on each measure"
   ]
  },
  {
   "cell_type": "code",
   "execution_count": 49,
   "metadata": {
    "ExecuteTime": {
     "end_time": "2019-09-26T18:17:17.345984Z",
     "start_time": "2019-09-26T18:17:17.340878Z"
    }
   },
   "outputs": [],
   "source": [
    "import time\n",
    "start_time = time.time()"
   ]
  },
  {
   "cell_type": "code",
   "execution_count": 71,
   "metadata": {
    "ExecuteTime": {
     "end_time": "2019-09-26T18:19:58.061394Z",
     "start_time": "2019-09-26T18:19:58.057850Z"
    }
   },
   "outputs": [],
   "source": [
    "checkpoint = time.time()"
   ]
  },
  {
   "cell_type": "code",
   "execution_count": 72,
   "metadata": {
    "ExecuteTime": {
     "end_time": "2019-09-26T18:19:59.373363Z",
     "start_time": "2019-09-26T18:19:59.369352Z"
    }
   },
   "outputs": [],
   "source": [
    "runtime = time.time() - checkpoint"
   ]
  },
  {
   "cell_type": "code",
   "execution_count": 73,
   "metadata": {
    "ExecuteTime": {
     "end_time": "2019-09-26T18:20:00.416600Z",
     "start_time": "2019-09-26T18:20:00.410680Z"
    }
   },
   "outputs": [
    {
     "data": {
      "text/plain": [
       "1.3118901252746582"
      ]
     },
     "execution_count": 73,
     "metadata": {},
     "output_type": "execute_result"
    }
   ],
   "source": [
    "runtime"
   ]
  },
  {
   "cell_type": "code",
   "execution_count": 75,
   "metadata": {
    "ExecuteTime": {
     "end_time": "2019-09-26T18:24:36.064379Z",
     "start_time": "2019-09-26T18:24:36.060241Z"
    }
   },
   "outputs": [
    {
     "name": "stdout",
     "output_type": "stream",
     "text": [
      "1.31\n"
     ]
    }
   ],
   "source": [
    "print(f'{runtime:.2f}')"
   ]
  },
  {
   "cell_type": "code",
   "execution_count": null,
   "metadata": {},
   "outputs": [],
   "source": []
  }
 ],
 "metadata": {
  "kernelspec": {
   "display_name": "Python 3",
   "language": "python",
   "name": "python3"
  },
  "language_info": {
   "codemirror_mode": {
    "name": "ipython",
    "version": 3
   },
   "file_extension": ".py",
   "mimetype": "text/x-python",
   "name": "python",
   "nbconvert_exporter": "python",
   "pygments_lexer": "ipython3",
   "version": "3.7.4"
  },
  "toc": {
   "base_numbering": 1,
   "nav_menu": {},
   "number_sections": true,
   "sideBar": true,
   "skip_h1_title": true,
   "title_cell": "Table of Contents",
   "title_sidebar": "Contents",
   "toc_cell": false,
   "toc_position": {},
   "toc_section_display": true,
   "toc_window_display": false
  }
 },
 "nbformat": 4,
 "nbformat_minor": 2
}
