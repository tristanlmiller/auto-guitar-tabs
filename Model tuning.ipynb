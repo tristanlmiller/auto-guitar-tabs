{
 "cells": [
  {
   "cell_type": "markdown",
   "metadata": {
    "ExecuteTime": {
     "end_time": "2019-09-29T06:13:10.695815Z",
     "start_time": "2019-09-29T06:13:10.692544Z"
    }
   },
   "source": [
    "# Model Tuning\n",
    "Tristan Miller\n",
    "\n",
    "Although I've settled on the XGB model, I think it can be improved further by including features from previous timeblocks (as a sort of poor man's LSTM).  So now I need to optimize the model again.  The four knobs I want to tune are:\n",
    "1. Number of previous timeblocks to include.\n",
    "1. Maximum Depth\n",
    "1. Number estimators\n",
    "1. Learning rate\n",
    "\n",
    "I also have two constraints:\n",
    "1. Time.  Performing a full grid search takes a prohibitive amount of it.  And if I use trees with larger maximum depth, there will need to be fewer number of estimators.\n",
    "1. Disk space.  I'd like to avoid paying for another AWS machine, so the data must be 5 GB at most.  That means that if I include features from previous timeblocks, I also need to select only a subset of what is currently used.\n",
    "\n",
    "As far as disk space goes, I have a solution.  Previously, I multiplied the training set size by including transposed copies of it.  I think I can preserve the diversity of the set by randomly transposing each timeblock rather than including transposed copies of each timeblock.  This will reduce the disk space usage by a factor of 12.\n",
    "\n",
    "Max depth and learning rate are hard to optimize, because in principle they should depend on how large the training set is, so using a fraction of the training set isn't really a valid method of tuning.  Increased max depth, increased number of estimators, and increased learning rate (I think) all result in a lower-bias model, which is better for a larger training set.\n",
    "\n",
    "So here's my roadmap to tuning the model:\n",
    "1. Create a data set that includes the previous 7 timeblocks, and train a relatively fast-to-train XGB model.  Look at feature importance and see if there's a time when it drops off.\n",
    "2. Estimate training time for different values of max_depth, and for each value of max_depth, set num_estimators so the training time is a constant (say 1 or 2 hours).\n",
    "3. Using a single value of learning_rate, scan max_depth.\n",
    "4. Using the best value of max_depth, scan learning_rate."
   ]
  },
  {
   "cell_type": "markdown",
   "metadata": {},
   "source": [
    "## Setup"
   ]
  },
  {
   "cell_type": "code",
   "execution_count": 135,
   "metadata": {
    "ExecuteTime": {
     "end_time": "2019-09-29T08:15:58.139849Z",
     "start_time": "2019-09-29T08:15:58.081971Z"
    }
   },
   "outputs": [],
   "source": [
    "import pandas as pd\n",
    "import numpy as np\n",
    "import librosa\n",
    "import librosa.display\n",
    "import matplotlib.pyplot as plt\n",
    "import sys, os\n",
    "from sklearn.model_selection import train_test_split\n",
    "import sklearn\n",
    "import re\n",
    "import pickle\n",
    "import xgboost as xgb\n",
    "import sklearn\n",
    "from xgboost import plot_importance\n",
    "\n",
    "if 'chord_loader' in sys.modules:\n",
    "    del sys.modules['chord_loader']\n",
    "sys.path.append('.')\n",
    "import chord_loader"
   ]
  },
  {
   "cell_type": "markdown",
   "metadata": {},
   "source": [
    "## Feature engineering"
   ]
  },
  {
   "cell_type": "code",
   "execution_count": 107,
   "metadata": {
    "ExecuteTime": {
     "end_time": "2019-09-29T07:52:50.866957Z",
     "start_time": "2019-09-29T07:52:50.849258Z"
    }
   },
   "outputs": [],
   "source": [
    "def multi_feature_reduce(features, n_multi):\n",
    "    '''Eliminates additional transposed copies of training set, \n",
    "    and generates multiple copies of features from previous timeblocks'''\n",
    "    og_size = int(features.shape[0]/12)\n",
    "    n_features = features.shape[1]-1\n",
    "    np.random.seed(35402374)\n",
    "    randomizer = np.random.randint(12,size=og_size)*og_size+range(og_size)\n",
    "    \n",
    "    output = np.ndarray((og_size,n_features*n_multi+1))\n",
    "    output[:,:(n_features+1)] = features[:og_size,:]\n",
    "    within_song = (1 - features[1:og_size,0]).reshape(og_size-1,1)\n",
    "    for i in range(1,n_multi):\n",
    "        output[i:,(n_features*i+1):(n_features*(i+1)+1)] = features[randomizer[i:]-i,1:] * within_song\n",
    "        within_song = np.logical_and(within_song[1:],within_song[:-1]).reshape(og_size-i-1,1)\n",
    "    return output\n",
    "\n",
    "def multi_feature(features, n_multi):\n",
    "    '''Generates multiple copies of features from previous timeblocks'''\n",
    "    n_samples = features.shape[0]\n",
    "    n_features = features.shape[1]-1\n",
    "    \n",
    "    output = np.ndarray((n_samples,n_features*n_multi+1))\n",
    "    output[:,:(n_features+1)] = features[:,:]\n",
    "    within_song = (1 - features[1:,0]).reshape(n_samples-1,1)\n",
    "    for i in range(1,n_multi):\n",
    "        output[i:,(n_features*i+1):(n_features*(i+1)+1)] = features[:(-i),1:] * within_song\n",
    "        within_song = np.logical_and(within_song[1:],within_song[:-1]).reshape(n_samples-i-1,1)\n",
    "    return output"
   ]
  },
  {
   "cell_type": "code",
   "execution_count": 109,
   "metadata": {
    "ExecuteTime": {
     "end_time": "2019-09-29T08:03:24.293239Z",
     "start_time": "2019-09-29T08:03:24.287941Z"
    }
   },
   "outputs": [],
   "source": [
    "n_multi = 8"
   ]
  },
  {
   "cell_type": "code",
   "execution_count": 121,
   "metadata": {
    "ExecuteTime": {
     "end_time": "2019-09-29T08:07:07.911646Z",
     "start_time": "2019-09-29T08:06:52.594134Z"
    }
   },
   "outputs": [],
   "source": [
    "og_features_train = np.load(f'Data/processed/full_ftrain.npy')\n",
    "mixed_features_train = multi_feature_reduce(og_features_train,n_multi)\n",
    "og_size = int(og_features_train.shape[0]/12)\n",
    "features_train = multi_feature(og_features_train[:og_size,:],n_multi)\n",
    "og_labels_train = np.load(f'Data/processed/full_ltrain.npy')\n",
    "labels_train = labels_train[:og_size,:]\n",
    "np.random.seed(35402374)\n",
    "randomizer = np.random.randint(12,size=og_size)*og_size+range(og_size)\n",
    "mixed_labels_train = og_labels_train[randomizer,:]\n",
    "np.save(f'Data/processed/multi_ftrain.npy',mixed_features_train)\n",
    "np.save(f'Data/processed/multi_ltrain.npy',mixed_labels_train)\n",
    "standard_features_train, standard_labels_train = chord_loader.standardize_root(features_train,labels_train,1,transposed=False)\n",
    "np.save(f'Data/processed/multi_fstrain.npy',standard_features_train)\n",
    "np.save(f'Data/processed/multi_lstrain.npy',standard_labels_train)\n",
    "\n",
    "features_valid = multi_feature(np.load(f'Data/processed/full_fvalid.npy'),n_multi)\n",
    "labels_valid = np.load(f'Data/processed/full_lvalid.npy')\n",
    "np.save(f'Data/processed/multi_fvalid.npy',features_valid)\n",
    "np.save(f'Data/processed/multi_lvalid.npy',labels_valid)\n",
    "standard_features_valid, standard_labels_valid = chord_loader.standardize_root(features_valid,labels_valid,1,transposed=False)\n",
    "np.save(f'Data/processed/multi_fsvalid.npy',standard_features_valid)\n",
    "np.save(f'Data/processed/multi_lsvalid.npy',standard_labels_valid)\n",
    "\n",
    "features_test = multi_feature(np.load(f'Data/processed/full_ftest.npy'),n_multi)\n",
    "labels_test = np.load(f'Data/processed/full_ltest.npy')\n",
    "np.save(f'Data/processed/multi_ftest.npy',features_test)\n",
    "np.save(f'Data/processed/multi_ltest.npy',labels_test)\n",
    "standard_features_test, standard_labels_test = chord_loader.standardize_root(features_test,labels_test,1,transposed=False)\n",
    "np.save(f'Data/processed/multi_fstest.npy',standard_features_test)\n",
    "np.save(f'Data/processed/multi_lstest.npy',standard_labels_test)"
   ]
  },
  {
   "cell_type": "markdown",
   "metadata": {},
   "source": [
    "## Testing feature importance"
   ]
  },
  {
   "cell_type": "markdown",
   "metadata": {},
   "source": [
    "Just train a small forest for now.  Note that the metric calculation step doesn't work, but I'll fix that later.\n",
    "\n",
    "```python chord_train.py multi xgb_multitest xgb --params T 10 5 0.1```"
   ]
  },
  {
   "cell_type": "code",
   "execution_count": 136,
   "metadata": {
    "ExecuteTime": {
     "end_time": "2019-09-29T14:16:16.261691Z",
     "start_time": "2019-09-29T14:16:16.149390Z"
    }
   },
   "outputs": [
    {
     "name": "stderr",
     "output_type": "stream",
     "text": [
      "/anaconda3/envs/insight/lib/python3.7/site-packages/sklearn/base.py:306: UserWarning: Trying to unpickle estimator LabelEncoder from version 0.20.3 when using version 0.21.2. This might lead to breaking code or invalid results. Use at your own risk.\n",
      "  UserWarning)\n"
     ]
    }
   ],
   "source": [
    "with open(f\"Models/xgb_multitest.pkl\", 'rb') as f:\n",
    "    root_model = pickle.load(f)\n",
    "    quality_model = pickle.load(f)\n",
    "    add_model = pickle.load(f)\n",
    "    inv_model = pickle.load(f)"
   ]
  },
  {
   "cell_type": "code",
   "execution_count": 161,
   "metadata": {
    "ExecuteTime": {
     "end_time": "2019-09-29T14:24:27.250388Z",
     "start_time": "2019-09-29T14:24:27.184655Z"
    }
   },
   "outputs": [],
   "source": [
    "root_feature_importance = np.mean(root_model.feature_importances_[1:].reshape(95,8),axis=0)\n",
    "quality_feature_importance = np.mean(quality_model.feature_importances_[1:].reshape(95,8),axis=0)\n",
    "add_feature_importance = np.mean(add_model.feature_importances_[1:].reshape(95,8),axis=0)\n",
    "inv_feature_importance = np.mean(inv_model.feature_importances_[1:].reshape(95,8),axis=0)"
   ]
  },
  {
   "cell_type": "code",
   "execution_count": 172,
   "metadata": {
    "ExecuteTime": {
     "end_time": "2019-09-29T14:27:42.364097Z",
     "start_time": "2019-09-29T14:27:41.980292Z"
    }
   },
   "outputs": [
    {
     "data": {
      "image/png": "[encoded data removed]",
      "text/plain": [
       "<Figure size 432x288 with 4 Axes>"
      ]
     },
     "metadata": {
      "needs_background": "light"
     },
     "output_type": "display_data"
    }
   ],
   "source": [
    "plt.rc('font', size=10)\n",
    "plt.subplot(2,2,1)\n",
    "plt.plot(np.arange(0,-4,-0.5),root_feature_importance)\n",
    "plt.xlabel('seconds before present')\n",
    "plt.ylabel('Feature importance')\n",
    "plt.subplot(2,2,2)\n",
    "plt.plot(np.arange(0,-4,-0.5),quality_feature_importance)\n",
    "plt.xlabel('seconds before present')\n",
    "plt.ylabel('Feature importance')\n",
    "plt.subplot(2,2,3)\n",
    "plt.plot(np.arange(0,-4,-0.5),add_feature_importance)\n",
    "plt.xlabel('seconds before present')\n",
    "plt.ylabel('Feature importance')\n",
    "plt.subplot(2,2,4)\n",
    "plt.plot(np.arange(0,-4,-0.5),inv_feature_importance)\n",
    "plt.xlabel('seconds before present')\n",
    "plt.ylabel('Feature importance')\n",
    "plt.tight_layout()"
   ]
  },
  {
   "cell_type": "markdown",
   "metadata": {},
   "source": [
    "These results are pretty noisy, but the majority of results suggest I get the most benefit by going back just 1 s in time."
   ]
  },
  {
   "cell_type": "code",
   "execution_count": 173,
   "metadata": {
    "ExecuteTime": {
     "end_time": "2019-09-29T14:29:20.959329Z",
     "start_time": "2019-09-29T14:29:20.954709Z"
    }
   },
   "outputs": [],
   "source": [
    "n_multi = 3"
   ]
  },
  {
   "cell_type": "code",
   "execution_count": 174,
   "metadata": {
    "ExecuteTime": {
     "end_time": "2019-09-29T14:29:32.281111Z",
     "start_time": "2019-09-29T14:29:24.793414Z"
    }
   },
   "outputs": [],
   "source": [
    "og_features_train = np.load(f'Data/processed/full_ftrain.npy')\n",
    "mixed_features_train = multi_feature_reduce(og_features_train,n_multi)\n",
    "og_size = int(og_features_train.shape[0]/12)\n",
    "features_train = multi_feature(og_features_train[:og_size,:],n_multi)\n",
    "og_labels_train = np.load(f'Data/processed/full_ltrain.npy')\n",
    "labels_train = labels_train[:og_size,:]\n",
    "np.random.seed(35402374)\n",
    "randomizer = np.random.randint(12,size=og_size)*og_size+range(og_size)\n",
    "mixed_labels_train = og_labels_train[randomizer,:]\n",
    "np.save(f'Data/processed/multi_ftrain.npy',mixed_features_train)\n",
    "np.save(f'Data/processed/multi_ltrain.npy',mixed_labels_train)\n",
    "standard_features_train, standard_labels_train = chord_loader.standardize_root(features_train,labels_train,1,transposed=False)\n",
    "np.save(f'Data/processed/multi_fstrain.npy',standard_features_train)\n",
    "np.save(f'Data/processed/multi_lstrain.npy',standard_labels_train)\n",
    "\n",
    "features_valid = multi_feature(np.load(f'Data/processed/full_fvalid.npy'),n_multi)\n",
    "labels_valid = np.load(f'Data/processed/full_lvalid.npy')\n",
    "np.save(f'Data/processed/multi_fvalid.npy',features_valid)\n",
    "np.save(f'Data/processed/multi_lvalid.npy',labels_valid)\n",
    "standard_features_valid, standard_labels_valid = chord_loader.standardize_root(features_valid,labels_valid,1,transposed=False)\n",
    "np.save(f'Data/processed/multi_fsvalid.npy',standard_features_valid)\n",
    "np.save(f'Data/processed/multi_lsvalid.npy',standard_labels_valid)\n",
    "\n",
    "features_test = multi_feature(np.load(f'Data/processed/full_ftest.npy'),n_multi)\n",
    "labels_test = np.load(f'Data/processed/full_ltest.npy')\n",
    "np.save(f'Data/processed/multi_ftest.npy',features_test)\n",
    "np.save(f'Data/processed/multi_ltest.npy',labels_test)\n",
    "standard_features_test, standard_labels_test = chord_loader.standardize_root(features_test,labels_test,1,transposed=False)\n",
    "np.save(f'Data/processed/multi_fstest.npy',standard_features_test)\n",
    "np.save(f'Data/processed/multi_lstest.npy',standard_labels_test)"
   ]
  },
  {
   "cell_type": "markdown",
   "metadata": {},
   "source": [
    "## Tuning max_depth"
   ]
  },
  {
   "cell_type": "markdown",
   "metadata": {},
   "source": [
    "Test computation times:\n",
    "\n",
    "```python chord_train.py multi xgb_d3 xgb --noT --params T 1 3 0.1;\n",
    "python chord_train.py multi xgb_d5 xgb --noT --params T 1 5 0.1;\n",
    "python chord_train.py multi xgb_d7 xgb --noT --params T 1 7 0.1;\n",
    "python chord_train.py multi xgb_d9 xgb --noT --params T 1 9 0.1;\n",
    "python chord_train.py multi xgb_d3 xgb --noT --params T 2 3 0.1;\n",
    "python chord_train.py multi xgb_d5 xgb --noT --params T 2 5 0.1;\n",
    "python chord_train.py multi xgb_d7 xgb --noT --params T 2 7 0.1;\n",
    "python chord_train.py multi xgb_d9 xgb --noT --params T 2 9 0.1;```"
   ]
  },
  {
   "cell_type": "markdown",
   "metadata": {},
   "source": [
    "Let's aim for one hour per model.  This can be calculated by taking the difference between one and two trees, and dividing 60 minutes.\n",
    "\n",
    "Times:\n",
    "- depth=3: 1.95 - 1.24 => 84 trees \n",
    "- depth=5: 2.96 - 1.74 => 49 trees \n",
    "- depth=7: 3.98 - 2.26 => 35 trees\n",
    "- depth=9: 5.06 - 2.79 => 26 trees"
   ]
  },
  {
   "cell_type": "markdown",
   "metadata": {},
   "source": [
    "```python chord_train.py multi xgb_d3 xgb --noT --params T 84 3 0.1;\n",
    "python chord_train.py multi xgb_d5 xgb --noT --params T 49 5 0.1;\n",
    "python chord_train.py multi xgb_d7 xgb --noT --params T 35 7 0.1;\n",
    "python chord_train.py multi xgb_d9 xgb --noT --params T 26 9 0.1;```"
   ]
  },
  {
   "cell_type": "code",
   "execution_count": 188,
   "metadata": {
    "ExecuteTime": {
     "end_time": "2019-09-30T01:18:57.270942Z",
     "start_time": "2019-09-30T01:18:57.215509Z"
    }
   },
   "outputs": [],
   "source": [
    "metrics = [pickle.load(open(\"Models/xgb_d3_metrics.pkl\", 'rb'))]\n",
    "metrics.append(pickle.load(open(\"Models/xgb_d5_metrics.pkl\", 'rb')))\n",
    "metrics.append(pickle.load(open(\"Models/xgb_d7_metrics.pkl\", 'rb')))\n",
    "metrics.append(pickle.load(open(\"Models/xgb_d9_metrics.pkl\", 'rb')))"
   ]
  },
  {
   "cell_type": "code",
   "execution_count": 190,
   "metadata": {
    "ExecuteTime": {
     "end_time": "2019-09-30T01:28:26.521406Z",
     "start_time": "2019-09-30T01:28:26.332634Z"
    }
   },
   "outputs": [
    {
     "data": {
      "image/png": "[encoded data removed]",
      "text/plain": [
       "<Figure size 432x288 with 1 Axes>"
      ]
     },
     "metadata": {
      "needs_background": "light"
     },
     "output_type": "display_data"
    }
   ],
   "source": [
    "max_depth = [3,5,7,9]\n",
    "plt.plot(max_depth, [m['root_macro_valid'] for m in metrics]);\n",
    "plt.plot(max_depth, [m['quality_macro_valid'] for m in metrics]);\n",
    "plt.plot(max_depth, [m['add_macro_valid'] for m in metrics]);\n",
    "plt.plot(max_depth, [m['inv_macro_valid'] for m in metrics]);\n",
    "plt.plot(max_depth, [m['total_acc_valid'] for m in metrics]);\n",
    "#plt.xscale('log')\n",
    "plt.legend(['root','quality','add','inv','acc'])\n",
    "plt.tight_layout()"
   ]
  },
  {
   "cell_type": "markdown",
   "metadata": {},
   "source": [
    "Okay, let's use depth 5 for root, and depth 9 for all the others."
   ]
  },
  {
   "cell_type": "code",
   "execution_count": 199,
   "metadata": {
    "ExecuteTime": {
     "end_time": "2019-09-30T02:02:48.948903Z",
     "start_time": "2019-09-30T02:02:48.835402Z"
    }
   },
   "outputs": [
    {
     "name": "stderr",
     "output_type": "stream",
     "text": [
      "/anaconda3/envs/insight/lib/python3.7/site-packages/ipykernel_launcher.py:5: RuntimeWarning: divide by zero encountered in log\n",
      "  \"\"\"\n"
     ]
    },
    {
     "data": {
      "image/png": "[encoded data removed]",
      "text/plain": [
       "<Figure size 432x288 with 1 Axes>"
      ]
     },
     "metadata": {
      "needs_background": "light"
     },
     "output_type": "display_data"
    }
   ],
   "source": [
    "curr_metric = 'quality_cmat_valid'\n",
    "ticks = np.arange(0,metrics[1][curr_metric].shape[1],1.0)\n",
    "ticklabels = [chord_loader.num_to_quality[x] for x in ticks]\n",
    "ticks += 0.5\n",
    "plt.pcolor(np.log(metrics[1][curr_metric]))\n",
    "#plt.pcolor(metrics[2][curr_metric])\n",
    "plt.xticks(ticks=ticks, labels=ticklabels)\n",
    "plt.yticks(ticks=ticks, labels=ticklabels)\n",
    "plt.xlabel('Prediction')\n",
    "plt.ylabel('Truth')\n",
    "plt.rc('font', size=15)\n",
    "plt.tight_layout()"
   ]
  },
  {
   "cell_type": "markdown",
   "metadata": {},
   "source": [
    "## Tuning learning_rate\n",
    "\n",
    "```python chord_train.py multi xgb_l002 xgb_supertuned --noT --params T 49 26 26 26 5 9 9 9 0.02 0.02 0.02 0.02;\n",
    "python chord_train.py multi xgb_l005 xgb_supertuned --noT --params T 49 26 26 26 5 9 9 9 0.05 0.05 0.05 0.05;\n",
    "python chord_train.py multi xgb_l01 xgb_supertuned --noT --params T 49 26 26 26 5 9 9 9 0.1 0.1 0.1 0.1;\n",
    "python chord_train.py multi xgb_l02 xgb_supertuned --noT --params T 49 26 26 26 5 9 9 9 0.2 0.2 0.2 0.2;\n",
    "python chord_train.py multi xgb_l04 xgb_supertuned --noT --params T 49 26 26 26 5 9 9 9 0.4 0.4 0.4 0.4;\n",
    "python chord_train.py multi xgb_l06 xgb_supertuned --noT --params T 49 26 26 26 5 9 9 9 0.6 0.6 0.6 0.6;\n",
    "python chord_train.py multi xgb_l08 xgb_supertuned --noT --params T 49 26 26 26 5 9 9 9 0.8 0.8 0.8 0.8;```"
   ]
  },
  {
   "cell_type": "code",
   "execution_count": 204,
   "metadata": {
    "ExecuteTime": {
     "end_time": "2019-09-30T18:56:59.885508Z",
     "start_time": "2019-09-30T18:56:59.845929Z"
    }
   },
   "outputs": [],
   "source": [
    "metrics = [pickle.load(open(\"Models/xgb_l002_metrics.pkl\", 'rb'))]\n",
    "metrics.append(pickle.load(open(\"Models/xgb_l005_metrics.pkl\", 'rb')))\n",
    "metrics.append(pickle.load(open(\"Models/xgb_l01_metrics.pkl\", 'rb')))\n",
    "metrics.append(pickle.load(open(\"Models/xgb_l02_metrics.pkl\", 'rb')))\n",
    "metrics.append(pickle.load(open(\"Models/xgb_l04_metrics.pkl\", 'rb')))\n",
    "metrics.append(pickle.load(open(\"Models/xgb_l06_metrics.pkl\", 'rb')))\n",
    "metrics.append(pickle.load(open(\"Models/xgb_l08_metrics.pkl\", 'rb')))"
   ]
  },
  {
   "cell_type": "code",
   "execution_count": 218,
   "metadata": {
    "ExecuteTime": {
     "end_time": "2019-09-30T19:02:36.403805Z",
     "start_time": "2019-09-30T19:02:36.079876Z"
    }
   },
   "outputs": [
    {
     "data": {
      "image/png": "[encoded data removed]",
      "text/plain": [
       "<Figure size 576x288 with 1 Axes>"
      ]
     },
     "metadata": {
      "needs_background": "light"
     },
     "output_type": "display_data"
    }
   ],
   "source": [
    "learning_rate = [0.02,0.05,0.1,0.2,0.4,0.6,0.8]\n",
    "plt.rc('font', size=20)\n",
    "plt.figure(figsize=(8,4))\n",
    "plt.plot(learning_rate, [m['root_macro_valid'] for m in metrics],'-o');\n",
    "plt.plot(learning_rate, [m['quality_macro_valid'] for m in metrics],'-o');\n",
    "plt.plot(learning_rate, [m['add_macro_valid'] for m in metrics],'-o');\n",
    "plt.plot(learning_rate, [m['inv_macro_valid'] for m in metrics],'-o');\n",
    "#plt.plot(learning_rate, [m['total_acc_valid'] for m in metrics],'-o');\n",
    "plt.xlabel('Learning rate')\n",
    "plt.ylabel('Macro-F1')\n",
    "plt.xscale('log')\n",
    "plt.legend(['Root','Quality','Add','Inversion'],bbox_to_anchor=(1.4, .5),loc='center')\n",
    "plt.tight_layout()\n",
    "plt.savefig('images/xgb_validation')"
   ]
  },
  {
   "cell_type": "markdown",
   "metadata": {},
   "source": [
    "## Best model\n",
    "One notable thing is that the root model is actually doing worse than before my feature engineering.  I think this is because I reduced the training set size by including random transpositions rather than copies of each possible transposition.  The other three models are doing better.  Maybe I could go back to a larger training set with the larger feature set, but I think even if I don't have time for that, this is an improvement."
   ]
  },
  {
   "cell_type": "markdown",
   "metadata": {},
   "source": [
    "```python chord_train.py multi xgb_multifinal xgb_supertuned --noT --params T 98 52 52 52 5 9 9 9 0.2 0.4 0.1 0.4;```"
   ]
  },
  {
   "cell_type": "code",
   "execution_count": 219,
   "metadata": {
    "ExecuteTime": {
     "end_time": "2019-09-30T21:09:44.074301Z",
     "start_time": "2019-09-30T21:09:43.995347Z"
    }
   },
   "outputs": [],
   "source": [
    "metrics = pickle.load(open(\"Models/xgb_multifinal_metrics.pkl\", 'rb'))"
   ]
  },
  {
   "cell_type": "code",
   "execution_count": 222,
   "metadata": {
    "ExecuteTime": {
     "end_time": "2019-09-30T21:10:28.467647Z",
     "start_time": "2019-09-30T21:10:28.453529Z"
    }
   },
   "outputs": [
    {
     "name": "stdout",
     "output_type": "stream",
     "text": [
      "training set:\n",
      "Root F1 score: 0.48724706134800744\n",
      "Quality F1 score: 0.9531070770451715\n",
      "Add F1 score: 0.6776300462271979\n",
      "Inversion F1 score: 0.9513227609199878\n",
      "Total accuracy: 0.3878694414120936\n"
     ]
    }
   ],
   "source": [
    "print('training set:')\n",
    "print(f\"Root F1 score: {metrics['root_macro_train']}\")\n",
    "print(f\"Quality F1 score: {metrics['quality_macro_train']}\")\n",
    "print(f\"Add F1 score: {metrics['add_macro_train']}\")\n",
    "print(f\"Inversion F1 score: {metrics['inv_macro_train']}\")\n",
    "print(f\"Total accuracy: {metrics['total_acc_train']}\")"
   ]
  },
  {
   "cell_type": "code",
   "execution_count": 220,
   "metadata": {
    "ExecuteTime": {
     "end_time": "2019-09-30T21:09:44.793068Z",
     "start_time": "2019-09-30T21:09:44.761790Z"
    }
   },
   "outputs": [
    {
     "name": "stdout",
     "output_type": "stream",
     "text": [
      "Validation set:\n",
      "Root F1 score: 0.36582465365483396\n",
      "Quality F1 score: 0.20994537063103133\n",
      "Add F1 score: 0.1688243502147203\n",
      "Inversion F1 score: 0.42055701605789286\n",
      "Total accuracy: 0.1938399394092401\n"
     ]
    }
   ],
   "source": [
    "print('Validation set:')\n",
    "print(f\"Root F1 score: {metrics['root_macro_valid']}\")\n",
    "print(f\"Quality F1 score: {metrics['quality_macro_valid']}\")\n",
    "print(f\"Add F1 score: {metrics['add_macro_valid']}\")\n",
    "print(f\"Inversion F1 score: {metrics['inv_macro_valid']}\")\n",
    "print(f\"Total accuracy: {metrics['total_acc_valid']}\")"
   ]
  },
  {
   "cell_type": "code",
   "execution_count": 223,
   "metadata": {
    "ExecuteTime": {
     "end_time": "2019-09-30T21:21:35.239506Z",
     "start_time": "2019-09-30T21:21:35.214029Z"
    }
   },
   "outputs": [
    {
     "name": "stdout",
     "output_type": "stream",
     "text": [
      "Test set:\n",
      "Root F1 score: 0.3739851968673274\n",
      "Quality F1 score: 0.7062287529490442\n",
      "Add F1 score: 0.5529899128754807\n",
      "Inversion F1 score: 0.93656071780201\n",
      "Total accuracy: 0.18774530009498377\n"
     ]
    }
   ],
   "source": [
    "print('Test set:')\n",
    "print(f\"Root F1 score: {metrics['root_acc_test']}\")\n",
    "print(f\"Quality F1 score: {metrics['quality_acc_test']}\")\n",
    "print(f\"Add F1 score: {metrics['add_acc_test']}\")\n",
    "print(f\"Inversion F1 score: {metrics['inv_acc_test']}\")\n",
    "print(f\"Total accuracy: {metrics['total_acc_test']}\")"
   ]
  },
  {
   "cell_type": "code",
   "execution_count": null,
   "metadata": {},
   "outputs": [],
   "source": []
  }
 ],
 "metadata": {
  "kernelspec": {
   "display_name": "Python 3",
   "language": "python",
   "name": "python3"
  },
  "language_info": {
   "codemirror_mode": {
    "name": "ipython",
    "version": 3
   },
   "file_extension": ".py",
   "mimetype": "text/x-python",
   "name": "python",
   "nbconvert_exporter": "python",
   "pygments_lexer": "ipython3",
   "version": "3.7.4"
  },
  "toc": {
   "base_numbering": 1,
   "nav_menu": {},
   "number_sections": true,
   "sideBar": true,
   "skip_h1_title": true,
   "title_cell": "Table of Contents",
   "title_sidebar": "Contents",
   "toc_cell": false,
   "toc_position": {},
   "toc_section_display": true,
   "toc_window_display": false
  }
 },
 "nbformat": 4,
 "nbformat_minor": 2
}
