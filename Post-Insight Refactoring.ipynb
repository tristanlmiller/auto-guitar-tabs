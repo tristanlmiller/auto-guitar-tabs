{
 "cells": [
  {
   "cell_type": "markdown",
   "metadata": {},
   "source": [
    "# Post-Insight Refactoring\n",
    "Tristan Miller, 12/6/2019\n",
    "\n",
    "I originally spent three weeks on this project, which required that several components were rushed.  Looking back, there are several parts I would do differently, and this notebook is dedicated to tracking those changes.\n",
    "\n",
    "An outline of planned changes:\n",
    "1. Previously, musical frequencies outside of range were set to zero after feature normalization.  They should be set to zero before feature normalization.\n",
    "1. Review chord parsing.\n",
    "1. Create a mini training set, especially for training models that are too high bias to need the data.\n",
    "1. Allow code to train root models separately, for faster iteration.\n",
    "1. Try convolutional and recurrent neural networks.\n",
    "1. Use random hyperparameter searching."
   ]
  },
  {
   "cell_type": "markdown",
   "metadata": {},
   "source": [
    "## Recalculating features"
   ]
  },
  {
   "cell_type": "code",
   "execution_count": null,
   "metadata": {},
   "outputs": [],
   "source": []
  }
 ],
 "metadata": {
  "kernelspec": {
   "display_name": "Python 3",
   "language": "python",
   "name": "python3"
  },
  "language_info": {
   "codemirror_mode": {
    "name": "ipython",
    "version": 3
   },
   "file_extension": ".py",
   "mimetype": "text/x-python",
   "name": "python",
   "nbconvert_exporter": "python",
   "pygments_lexer": "ipython3",
   "version": "3.7.4"
  },
  "toc": {
   "base_numbering": 1,
   "nav_menu": {},
   "number_sections": true,
   "sideBar": true,
   "skip_h1_title": true,
   "title_cell": "Table of Contents",
   "title_sidebar": "Contents",
   "toc_cell": false,
   "toc_position": {
    "height": "calc(100% - 180px)",
    "left": "10px",
    "top": "150px",
    "width": "242.43206787109375px"
   },
   "toc_section_display": true,
   "toc_window_display": true
  }
 },
 "nbformat": 4,
 "nbformat_minor": 2
}
