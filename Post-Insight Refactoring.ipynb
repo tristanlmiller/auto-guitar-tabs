{
 "cells": [
  {
   "cell_type": "markdown",
   "metadata": {},
   "source": [
    "# Post-Insight Refactoring\n",
    "Tristan Miller, 12/6/2019\n",
    "\n",
    "I originally spent three weeks on this project, which required that several components were rushed.  Looking back, there are several parts I would do differently, and this notebook is dedicated to making and tracking those changes.\n",
    "\n",
    "An outline of planned changes:\n",
    "1. Previously, musical frequencies outside of range were set to zero after feature normalization.  They should be set to zero before feature normalization.\n",
    "1. Review chord parsing.\n",
    "1. Create a mini training set, especially for training models that are too high bias to need the data.\n",
    "1. Allow code to train root models separately, for faster iteration.\n",
    "1. Try convolutional and recurrent neural networks.\n",
    "1. Use random hyperparameter searching."
   ]
  },
  {
   "cell_type": "markdown",
   "metadata": {
    "toc": true
   },
   "source": [
    "<h1>Table of Contents<span class=\"tocSkip\"></span></h1>\n",
    "<div class=\"toc\"><ul class=\"toc-item\"><li><span><a href=\"#Setup\" data-toc-modified-id=\"Setup-1\"><span class=\"toc-item-num\">1&nbsp;&nbsp;</span>Setup</a></span></li><li><span><a href=\"#Recalculating-features\" data-toc-modified-id=\"Recalculating-features-2\"><span class=\"toc-item-num\">2&nbsp;&nbsp;</span>Recalculating features</a></span><ul class=\"toc-item\"><li><span><a href=\"#Reviewing-chord-parsing\" data-toc-modified-id=\"Reviewing-chord-parsing-2.1\"><span class=\"toc-item-num\">2.1&nbsp;&nbsp;</span>Reviewing chord parsing</a></span></li></ul></li></ul></div>"
   ]
  },
  {
   "cell_type": "markdown",
   "metadata": {},
   "source": [
    "## Setup"
   ]
  },
  {
   "cell_type": "code",
   "execution_count": 58,
   "metadata": {
    "ExecuteTime": {
     "end_time": "2019-12-06T21:05:28.567941Z",
     "start_time": "2019-12-06T21:05:28.554803Z"
    }
   },
   "outputs": [],
   "source": [
    "import pandas as pd\n",
    "import numpy as np\n",
    "import librosa\n",
    "import librosa.display\n",
    "import matplotlib.pyplot as plt\n",
    "import sys, os\n",
    "from sklearn.model_selection import train_test_split\n",
    "import sklearn\n",
    "import re\n",
    "import pickle\n",
    "import xgboost as xgb\n",
    "import sklearn\n",
    "from xgboost import plot_importance\n",
    "\n",
    "if 'chord_loader' in sys.modules:\n",
    "    del sys.modules['chord_loader']\n",
    "sys.path.append('.')\n",
    "import chord_loader"
   ]
  },
  {
   "cell_type": "markdown",
   "metadata": {},
   "source": [
    "## Recalculating features"
   ]
  },
  {
   "cell_type": "markdown",
   "metadata": {},
   "source": [
    "### Reviewing chord parsing\n",
    "This is all contained in chord_loader.py.  A list of changes:\n",
    "1. C# is now the canonical representation of the note instead of Db.\n",
    "1. Removed any special processing of sus2 chords.  They now read as power chords with an added 2nd.\n",
    "1. Combined the list of intervals from the shorthand and written intervals.  This leads to more consistent identification of the quality and add.\n",
    "\n",
    "The code below tests that my functions still works, and returns a list of all chords and labels."
   ]
  },
  {
   "cell_type": "code",
   "execution_count": 81,
   "metadata": {
    "ExecuteTime": {
     "end_time": "2019-12-06T21:21:57.919016Z",
     "start_time": "2019-12-06T21:19:50.424632Z"
    }
   },
   "outputs": [],
   "source": [
    "block_length = chord_loader.get_true_block(0.5,24.5,7,1)\n",
    "song_directory = pd.read_csv('song_directory.csv')\n",
    "valid_directory = song_directory.loc[np.logical_and(\n",
    "    ~pd.isna(song_directory['mp3_filepath']),\n",
    "    abs(song_directory['diff_length']) <= 5)]\n",
    "song_list = valid_directory\n",
    "\n",
    "all_labels = np.ndarray((0,4))\n",
    "all_chords = pd.Series([])\n",
    "for i, row in song_list.iterrows():\n",
    "    if row.dataset == 'isophonics/The Beatles':\n",
    "        sep = ' '\n",
    "    else:\n",
    "        sep = '\\t'\n",
    "    song_labels = chord_loader.get_labels(row.chord_filepath,sep,block_length)\n",
    "    df = pd.read_csv(row.chord_filepath,sep=sep,header=None,names=[\"start_time\",\"end_time\",\"chord\"])\n",
    "    blocked_df = chord_loader.blockify(df,block_length)\n",
    "    \n",
    "    all_labels = np.concatenate((all_labels,song_labels),axis=0)\n",
    "    all_chords = all_chords.append(blocked_df,ignore_index=True)"
   ]
  },
  {
   "cell_type": "code",
   "execution_count": 95,
   "metadata": {
    "ExecuteTime": {
     "end_time": "2019-12-06T21:27:11.710722Z",
     "start_time": "2019-12-06T21:27:11.702664Z"
    },
    "collapsed": true
   },
   "outputs": [
    {
     "name": "stdout",
     "output_type": "stream",
     "text": [
      "[[ 4.  2.  7.  0.]\n",
      " [ 0.  4.  0.  0.]\n",
      " [ 9.  7.  0.  0.]\n",
      " [ 0.  7.  0.  0.]\n",
      " [ 2.  3.  0.  2.]\n",
      " [ 2.  3.  0.  0.]\n",
      " [ 9.  7.  0.  0.]\n",
      " [-1.  0.  0.  0.]\n",
      " [ 9.  7.  0.  0.]\n",
      " [11.  7.  0.  0.]]\n",
      "10500      E:maj6\n",
      "11500      C:sus4\n",
      "12500           A\n",
      "13500           C\n",
      "14500    D:min/b3\n",
      "15500       D:min\n",
      "16500           A\n",
      "17500           N\n",
      "18500           A\n",
      "19500           B\n",
      "dtype: object\n"
     ]
    }
   ],
   "source": [
    "print(all_labels[10500:20000:1000,:])\n",
    "print(all_chords[10500:20000:1000])"
   ]
  },
  {
   "cell_type": "markdown",
   "metadata": {},
   "source": []
  }
 ],
 "metadata": {
  "kernelspec": {
   "display_name": "Python 3",
   "language": "python",
   "name": "python3"
  },
  "language_info": {
   "codemirror_mode": {
    "name": "ipython",
    "version": 3
   },
   "file_extension": ".py",
   "mimetype": "text/x-python",
   "name": "python",
   "nbconvert_exporter": "python",
   "pygments_lexer": "ipython3",
   "version": "3.7.4"
  },
  "toc": {
   "base_numbering": 1,
   "nav_menu": {},
   "number_sections": true,
   "sideBar": true,
   "skip_h1_title": true,
   "title_cell": "Table of Contents",
   "title_sidebar": "Contents",
   "toc_cell": true,
   "toc_position": {
    "height": "calc(100% - 180px)",
    "left": "10px",
    "top": "150px",
    "width": "242.43206787109375px"
   },
   "toc_section_display": true,
   "toc_window_display": true
  }
 },
 "nbformat": 4,
 "nbformat_minor": 2
}
