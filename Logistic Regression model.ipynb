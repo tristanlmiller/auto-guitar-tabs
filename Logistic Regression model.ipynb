{
 "cells": [
  {
   "cell_type": "markdown",
   "metadata": {},
   "source": [
    "# Logistic Regression Model\n",
    "Tristan Miller, 9/18/2019\n",
    "\n"
   ]
  },
  {
   "cell_type": "markdown",
   "metadata": {
    "toc": true
   },
   "source": [
    "<h1>Table of Contents<span class=\"tocSkip\"></span></h1>\n",
    "<div class=\"toc\"><ul class=\"toc-item\"><li><span><a href=\"#Outline-of-model\" data-toc-modified-id=\"Outline-of-model-1\"><span class=\"toc-item-num\">1&nbsp;&nbsp;</span>Outline of model</a></span></li><li><span><a href=\"#Setup\" data-toc-modified-id=\"Setup-2\"><span class=\"toc-item-num\">2&nbsp;&nbsp;</span>Setup</a></span></li><li><span><a href=\"#Features-&amp;-Labels-testing\" data-toc-modified-id=\"Features-&amp;-Labels-testing-3\"><span class=\"toc-item-num\">3&nbsp;&nbsp;</span>Features &amp; Labels testing</a></span></li><li><span><a href=\"#Scratch\" data-toc-modified-id=\"Scratch-4\"><span class=\"toc-item-num\">4&nbsp;&nbsp;</span>Scratch</a></span></li></ul></div>"
   ]
  },
  {
   "cell_type": "markdown",
   "metadata": {},
   "source": [
    "## Outline of model"
   ]
  },
  {
   "cell_type": "markdown",
   "metadata": {},
   "source": [
    "For the minimum viable product, I will use the simplest model: logistic regression.  There will be four classification models:\n",
    "1. root (12 classes: -1 to 11)\n",
    "1. character (6 classes: unison, power, maj, min, dim, aug)\n",
    "1. add (9 classes: min9, 9, 4, tt, min6, 6, min7, maj7, nan)\n",
    "1. inversion (3 classes: 3, 5, nan)\n",
    "\n",
    "mp3 data will undergo the following preparation steps:\n",
    "1. Converted to dB spectra\n",
    "1. Abridged to be same length as chord file\n",
    "1. Remove rows with nan root\n",
    "1. Normalized by song\n",
    "1. (Training data only) Duplicated 12 times, each with a different transposition \n",
    "1. Concatenated, with 'flag' rows between songs\n",
    "1. After root is predicted, each time step is transposed to have root at same location.  Then other 3 models are applied.\n",
    "\n",
    "Chord labels will undergo the following preparation steps:\n",
    "1. 'Blockified' meaning for each interval of fixed length, the most common chord is labeled.\n",
    "1. Abridged to be same length as mp3 spectra\n",
    "1. Ignore rows with nan root\n",
    "1. root, character, add, and inversion extracted from chord string\n",
    "1. (Training data only) root label transposed as mp3 data is transposed\n",
    "\n",
    "These steps imply the following model parameters:\n",
    "1. Time step length\n",
    "1. range of fequencies in spectra\n",
    "1. Any classes worth ignoring (e.g. aug and dim)\n",
    "\n",
    "During validation, I will score the model as follows:\n",
    "\n",
    "```0.5(F1 of root) +\n",
    "0.3(accuracy of root)(F1 of character, among data with correct root) +\n",
    "0.1(accuracy of root & character)(F1 of add) +\n",
    "0.1(accuracy of root & character)(F1 of inversion)```\n",
    "\n",
    "The F1 score I intend to use is the weighted F1 (see https://towardsdatascience.com/multi-class-metrics-made-simple-part-ii-the-f1-score-ebe8b2c2ca1)."
   ]
  },
  {
   "cell_type": "markdown",
   "metadata": {},
   "source": [
    "## Setup"
   ]
  },
  {
   "cell_type": "code",
   "execution_count": 232,
   "metadata": {
    "ExecuteTime": {
     "end_time": "2019-09-18T22:34:19.611986Z",
     "start_time": "2019-09-18T22:34:19.607151Z"
    }
   },
   "outputs": [],
   "source": [
    "import pandas as pd\n",
    "import numpy as np\n",
    "import librosa\n",
    "import librosa.display\n",
    "import matplotlib.pyplot as plt\n",
    "import sys"
   ]
  },
  {
   "cell_type": "code",
   "execution_count": 233,
   "metadata": {
    "ExecuteTime": {
     "end_time": "2019-09-18T22:34:19.771061Z",
     "start_time": "2019-09-18T22:34:19.761724Z"
    }
   },
   "outputs": [],
   "source": [
    "if 'chord_loader' in sys.modules:\n",
    "    del sys.modules['chord_loader']\n",
    "sys.path.append('.')\n",
    "import chord_loader"
   ]
  },
  {
   "cell_type": "code",
   "execution_count": 3,
   "metadata": {
    "ExecuteTime": {
     "end_time": "2019-09-18T18:19:18.585362Z",
     "start_time": "2019-09-18T18:19:18.565112Z"
    }
   },
   "outputs": [],
   "source": [
    "song_directory = pd.read_csv('song_directory.csv')"
   ]
  },
  {
   "cell_type": "markdown",
   "metadata": {},
   "source": [
    "## Features & Labels testing"
   ]
  },
  {
   "cell_type": "code",
   "execution_count": 234,
   "metadata": {
    "ExecuteTime": {
     "end_time": "2019-09-18T22:34:34.535011Z",
     "start_time": "2019-09-18T22:34:21.931697Z"
    }
   },
   "outputs": [],
   "source": [
    "features, labels, transposition = chord_loader.get_features_labels(\n",
    "    song_directory.iloc[0:2,:],1,32.7,7,1,True)"
   ]
  },
  {
   "cell_type": "code",
   "execution_count": 235,
   "metadata": {
    "ExecuteTime": {
     "end_time": "2019-09-18T22:34:36.832010Z",
     "start_time": "2019-09-18T22:34:36.824750Z"
    }
   },
   "outputs": [
    {
     "data": {
      "text/plain": [
       "(3552, 97)"
      ]
     },
     "execution_count": 235,
     "metadata": {},
     "output_type": "execute_result"
    }
   ],
   "source": [
    "features.shape"
   ]
  },
  {
   "cell_type": "markdown",
   "metadata": {},
   "source": [
    "If it takes 6.3 s per song, then this whole thing will take about an hour and a half, and that's before even training the model.\n",
    "\n",
    "The number of rows will be about 1.5 million, and it will take up about 1 GB."
   ]
  },
  {
   "cell_type": "markdown",
   "metadata": {},
   "source": [
    "## Scratch"
   ]
  },
  {
   "cell_type": "code",
   "execution_count": null,
   "metadata": {},
   "outputs": [],
   "source": []
  }
 ],
 "metadata": {
  "kernelspec": {
   "display_name": "Python 3",
   "language": "python",
   "name": "python3"
  },
  "language_info": {
   "codemirror_mode": {
    "name": "ipython",
    "version": 3
   },
   "file_extension": ".py",
   "mimetype": "text/x-python",
   "name": "python",
   "nbconvert_exporter": "python",
   "pygments_lexer": "ipython3",
   "version": "3.7.4"
  },
  "toc": {
   "base_numbering": 1,
   "nav_menu": {},
   "number_sections": true,
   "sideBar": true,
   "skip_h1_title": true,
   "title_cell": "Table of Contents",
   "title_sidebar": "Contents",
   "toc_cell": true,
   "toc_position": {},
   "toc_section_display": true,
   "toc_window_display": true
  }
 },
 "nbformat": 4,
 "nbformat_minor": 2
}
