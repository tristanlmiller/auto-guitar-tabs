{
 "cells": [
  {
   "cell_type": "markdown",
   "metadata": {},
   "source": [
    "# Logistic Regression Model\n",
    "Tristan Miller, 9/18/2019\n",
    "\n"
   ]
  },
  {
   "cell_type": "markdown",
   "metadata": {
    "toc": true
   },
   "source": [
    "<h1>Table of Contents<span class=\"tocSkip\"></span></h1>\n",
    "<div class=\"toc\"><ul class=\"toc-item\"><li><span><a href=\"#Outline-of-model\" data-toc-modified-id=\"Outline-of-model-1\"><span class=\"toc-item-num\">1&nbsp;&nbsp;</span>Outline of model</a></span></li><li><span><a href=\"#Setup\" data-toc-modified-id=\"Setup-2\"><span class=\"toc-item-num\">2&nbsp;&nbsp;</span>Setup</a></span></li><li><span><a href=\"#Testing\" data-toc-modified-id=\"Testing-3\"><span class=\"toc-item-num\">3&nbsp;&nbsp;</span>Testing</a></span><ul class=\"toc-item\"><li><span><a href=\"#Creating-features/labels\" data-toc-modified-id=\"Creating-features/labels-3.1\"><span class=\"toc-item-num\">3.1&nbsp;&nbsp;</span>Creating features/labels</a></span></li><li><span><a href=\"#Training/validation/test-split\" data-toc-modified-id=\"Training/validation/test-split-3.2\"><span class=\"toc-item-num\">3.2&nbsp;&nbsp;</span>Training/validation/test split</a></span></li><li><span><a href=\"#Train-root-model-on-playground_set\" data-toc-modified-id=\"Train-root-model-on-playground_set-3.3\"><span class=\"toc-item-num\">3.3&nbsp;&nbsp;</span>Train root model on playground_set</a></span></li><li><span><a href=\"#Train-quality-model-on-playground-set\" data-toc-modified-id=\"Train-quality-model-on-playground-set-3.4\"><span class=\"toc-item-num\">3.4&nbsp;&nbsp;</span>Train quality model on playground set</a></span></li><li><span><a href=\"#Producing-labels-given-youtube-video\" data-toc-modified-id=\"Producing-labels-given-youtube-video-3.5\"><span class=\"toc-item-num\">3.5&nbsp;&nbsp;</span>Producing labels given youtube video</a></span></li></ul></li><li><span><a href=\"#Setting-up-bash-commands\" data-toc-modified-id=\"Setting-up-bash-commands-4\"><span class=\"toc-item-num\">4&nbsp;&nbsp;</span>Setting up bash commands</a></span></li></ul></div>"
   ]
  },
  {
   "cell_type": "markdown",
   "metadata": {},
   "source": [
    "## Outline of model"
   ]
  },
  {
   "cell_type": "markdown",
   "metadata": {},
   "source": [
    "For the minimum viable product, I will use the simplest model: logistic regression.  There will be four classification models:\n",
    "1. root (12 classes: -1 to 11)\n",
    "1. character (6 classes: unison, power, maj, min, dim, aug)\n",
    "1. add (9 classes: min9, 9, 4, tt, min6, 6, min7, maj7, nan)\n",
    "1. inversion (3 classes: 3, 5, nan)\n",
    "\n",
    "mp3 data will undergo the following preparation steps:\n",
    "1. Converted to dB spectra\n",
    "1. Abridged to be same length as chord file\n",
    "1. Remove rows with nan root\n",
    "1. Normalized by song\n",
    "1. (Training data only) Duplicated 12 times, each with a different transposition \n",
    "1. Concatenated, with 'flag' rows between songs\n",
    "1. After root is predicted, each time step is transposed to have root at same location.  Then other 3 models are applied.  (In training set, nans are removed, and all data is transposed to have same root)\n",
    "\n",
    "Chord labels will undergo the following preparation steps:\n",
    "1. 'Blockified' meaning for each interval of fixed length, the most common chord is labeled.\n",
    "1. Abridged to be same length as mp3 spectra\n",
    "1. Ignore rows with nan root\n",
    "1. root, character, add, and inversion extracted from chord string\n",
    "1. (Training data only) root label transposed as mp3 data is transposed\n",
    "\n",
    "These steps imply the following model parameters:\n",
    "1. Time step length\n",
    "1. range of fequencies in spectra\n",
    "1. Any classes worth ignoring (e.g. aug and dim)\n",
    "\n",
    "During validation, I will score the models as follows:\n",
    "\n",
    "- root model: F1 of root\n",
    "- quality model: F1 of character, among data with correct root\n",
    "- add model: F1 of add, among data with correct root & character\n",
    "- inversion model: F1 of inversion, among data with correct root & character\n",
    "\n",
    "The F1 score I intend to use is the weighted F1."
   ]
  },
  {
   "cell_type": "markdown",
   "metadata": {},
   "source": [
    "## Setup"
   ]
  },
  {
   "cell_type": "code",
   "execution_count": 37,
   "metadata": {
    "ExecuteTime": {
     "end_time": "2019-09-19T22:52:50.816811Z",
     "start_time": "2019-09-19T22:52:49.358162Z"
    }
   },
   "outputs": [],
   "source": [
    "import pandas as pd\n",
    "import numpy as np\n",
    "import librosa\n",
    "import librosa.display\n",
    "import matplotlib.pyplot as plt\n",
    "import sys, os\n",
    "from sklearn.model_selection import train_test_split\n",
    "import sklearn\n",
    "\n",
    "import requests\n",
    "from bs4 import BeautifulSoup\n",
    "import re\n",
    "from subprocess import call, Popen\n",
    "import time, random\n",
    "import datetime\n",
    "import youtube_dl\n",
    "import traceback"
   ]
  },
  {
   "cell_type": "code",
   "execution_count": 109,
   "metadata": {
    "ExecuteTime": {
     "end_time": "2019-09-19T23:27:43.704445Z",
     "start_time": "2019-09-19T23:27:43.688690Z"
    }
   },
   "outputs": [],
   "source": [
    "if 'chord_loader' in sys.modules:\n",
    "    del sys.modules['chord_loader']\n",
    "sys.path.append('.')\n",
    "import chord_loader"
   ]
  },
  {
   "cell_type": "code",
   "execution_count": 3,
   "metadata": {
    "ExecuteTime": {
     "end_time": "2019-09-19T20:22:22.845402Z",
     "start_time": "2019-09-19T20:22:22.777648Z"
    }
   },
   "outputs": [],
   "source": [
    "song_directory = pd.read_csv('song_directory.csv')"
   ]
  },
  {
   "cell_type": "markdown",
   "metadata": {},
   "source": [
    "## Testing\n",
    "\n",
    "### Creating features/labels"
   ]
  },
  {
   "cell_type": "code",
   "execution_count": 4,
   "metadata": {
    "ExecuteTime": {
     "end_time": "2019-09-19T20:22:50.327928Z",
     "start_time": "2019-09-19T20:22:36.874818Z"
    }
   },
   "outputs": [],
   "source": [
    "features, labels = chord_loader.get_features_labels(\n",
    "    song_directory.iloc[0:2,:],0.5,32.7,7,1,True)"
   ]
  },
  {
   "cell_type": "code",
   "execution_count": 428,
   "metadata": {
    "ExecuteTime": {
     "end_time": "2019-09-19T04:44:34.862463Z",
     "start_time": "2019-09-19T04:44:34.858182Z"
    }
   },
   "outputs": [
    {
     "data": {
      "text/plain": [
       "(7080, 96)"
      ]
     },
     "execution_count": 428,
     "metadata": {},
     "output_type": "execute_result"
    }
   ],
   "source": [
    "features.shape"
   ]
  },
  {
   "cell_type": "code",
   "execution_count": 429,
   "metadata": {
    "ExecuteTime": {
     "end_time": "2019-09-19T04:44:34.868799Z",
     "start_time": "2019-09-19T04:44:34.864918Z"
    }
   },
   "outputs": [
    {
     "data": {
      "text/plain": [
       "(7080, 4)"
      ]
     },
     "execution_count": 429,
     "metadata": {},
     "output_type": "execute_result"
    }
   ],
   "source": [
    "labels.shape"
   ]
  },
  {
   "cell_type": "markdown",
   "metadata": {},
   "source": [
    "If it takes 6.3 s per song, then this whole thing will take about an hour and a half, and that's before even training the model.\n",
    "\n",
    "The features table will be about (3 million,100), and it will take up about 2 GB.\n",
    "\n",
    "Using higher `bins_per_note` or shorter `block_length` expands the data size, but appears not to increase the processing time.  Probably most of that processing time is in librosa's load function."
   ]
  },
  {
   "cell_type": "markdown",
   "metadata": {},
   "source": [
    "### Training/validation/test split"
   ]
  },
  {
   "cell_type": "code",
   "execution_count": 292,
   "metadata": {
    "ExecuteTime": {
     "end_time": "2019-09-19T00:15:46.215342Z",
     "start_time": "2019-09-19T00:15:46.209021Z"
    }
   },
   "outputs": [],
   "source": [
    "valid_rows = song_directory.loc[~pd.isna(song_directory['mp3_filepath'])]"
   ]
  },
  {
   "cell_type": "code",
   "execution_count": 293,
   "metadata": {
    "ExecuteTime": {
     "end_time": "2019-09-19T00:15:46.466995Z",
     "start_time": "2019-09-19T00:15:46.461127Z"
    }
   },
   "outputs": [
    {
     "data": {
      "text/plain": [
       "(837, 8)"
      ]
     },
     "execution_count": 293,
     "metadata": {},
     "output_type": "execute_result"
    }
   ],
   "source": [
    "valid_rows.shape"
   ]
  },
  {
   "cell_type": "code",
   "execution_count": 417,
   "metadata": {
    "ExecuteTime": {
     "end_time": "2019-09-19T04:39:56.134033Z",
     "start_time": "2019-09-19T04:39:56.123338Z"
    }
   },
   "outputs": [],
   "source": [
    "np.random.seed(35402374)\n",
    "temp_set, test_set = train_test_split(valid_rows,shuffle=True,train_size = 0.8)\n",
    "train_set, valid_set = train_test_split(temp_set,shuffle=True,train_size = 0.75)"
   ]
  },
  {
   "cell_type": "markdown",
   "metadata": {},
   "source": [
    "Also create a much smaller playground set for purposes of debugging and initial characterization"
   ]
  },
  {
   "cell_type": "code",
   "execution_count": 418,
   "metadata": {
    "ExecuteTime": {
     "end_time": "2019-09-19T04:39:56.807900Z",
     "start_time": "2019-09-19T04:39:56.798911Z"
    }
   },
   "outputs": [],
   "source": [
    "playground_set, temp_set = train_test_split(train_set,shuffle=True,train_size = 0.1)\n",
    "playvalid_set, temp_set = train_test_split(valid_set,shuffle=True,train_size=0.1)"
   ]
  },
  {
   "cell_type": "markdown",
   "metadata": {},
   "source": [
    "### Train root model on playground_set"
   ]
  },
  {
   "cell_type": "code",
   "execution_count": 430,
   "metadata": {
    "ExecuteTime": {
     "end_time": "2019-09-19T04:51:41.116584Z",
     "start_time": "2019-09-19T04:45:08.099729Z"
    }
   },
   "outputs": [],
   "source": [
    "features_play, labels_play = chord_loader.get_features_labels(\n",
    "    playground_set,0.5,32.7,7,1,True)"
   ]
  },
  {
   "cell_type": "code",
   "execution_count": 431,
   "metadata": {
    "ExecuteTime": {
     "end_time": "2019-09-19T04:53:57.616006Z",
     "start_time": "2019-09-19T04:51:41.119219Z"
    }
   },
   "outputs": [],
   "source": [
    "features_valid, labels_valid = chord_loader.get_features_labels(\n",
    "    playvalid_set,0.5,32.7,7,1,False)"
   ]
  },
  {
   "cell_type": "code",
   "execution_count": 432,
   "metadata": {
    "ExecuteTime": {
     "end_time": "2019-09-19T04:54:54.099573Z",
     "start_time": "2019-09-19T04:54:54.093736Z"
    }
   },
   "outputs": [],
   "source": [
    "root_model = sklearn.linear_model.LogisticRegression(class_weight=None,multi_class='ovr',\n",
    "                                                solver='lbfgs', max_iter=200)"
   ]
  },
  {
   "cell_type": "code",
   "execution_count": 444,
   "metadata": {
    "ExecuteTime": {
     "end_time": "2019-09-19T05:12:40.787773Z",
     "start_time": "2019-09-19T05:11:11.824802Z"
    }
   },
   "outputs": [],
   "source": [
    "#I don't trust sklearn's learning_curve, since I'm not sure it shuffles data\n",
    "#so I'm doing it manually\n",
    "train_sizes = []\n",
    "train_scores = []\n",
    "test_scores = []\n",
    "for frac in np.arange(0.2,1.2,0.2):\n",
    "    n_rows = int(features_play.shape[0] * frac)\n",
    "    train_sizes.append(playground_set.shape[0]*frac)\n",
    "    root_model.fit(features_play[:n_rows], labels_play[:n_rows,0])\n",
    "    predict_play = root_model.predict(features_play[:n_rows,:])\n",
    "    predict_valid = root_model.predict(features_valid)\n",
    "    train_scores.append(sklearn.metrics.f1_score(predict_play,labels_play[:n_rows,0],average='weighted'))\n",
    "    test_scores.append(sklearn.metrics.f1_score(predict_valid,labels_valid[:,0],average='weighted'))"
   ]
  },
  {
   "cell_type": "code",
   "execution_count": 445,
   "metadata": {
    "ExecuteTime": {
     "end_time": "2019-09-19T05:12:40.914680Z",
     "start_time": "2019-09-19T05:12:40.789389Z"
    }
   },
   "outputs": [
    {
     "data": {
      "image/png": "[encoded data removed]",
      "text/plain": [
       "<Figure size 432x288 with 1 Axes>"
      ]
     },
     "metadata": {
      "needs_background": "light"
     },
     "output_type": "display_data"
    }
   ],
   "source": [
    "plt.plot(train_sizes,train_scores)\n",
    "plt.plot(train_sizes,test_scores);"
   ]
  },
  {
   "cell_type": "code",
   "execution_count": 447,
   "metadata": {
    "ExecuteTime": {
     "end_time": "2019-09-19T05:15:31.472978Z",
     "start_time": "2019-09-19T05:15:31.399409Z"
    }
   },
   "outputs": [],
   "source": [
    "root_c_mat = sklearn.metrics.confusion_matrix(predict_valid,labels_valid[:,0])"
   ]
  },
  {
   "cell_type": "code",
   "execution_count": 448,
   "metadata": {
    "ExecuteTime": {
     "end_time": "2019-09-19T05:15:32.202284Z",
     "start_time": "2019-09-19T05:15:32.054562Z"
    }
   },
   "outputs": [
    {
     "data": {
      "image/png": "[encoded data removed]",
      "text/plain": [
       "<Figure size 432x288 with 1 Axes>"
      ]
     },
     "metadata": {
      "needs_background": "light"
     },
     "output_type": "display_data"
    }
   ],
   "source": [
    "plt.pcolor(root_c_mat)\n",
    "#plt.xticks(ticks=np.arange(0.5,11.5,1))\n",
    "#plt.yticks(ticks=np.arange(0.5,11.5,1))\n",
    "plt.xlabel('Truth')\n",
    "plt.ylabel('Prediction')\n",
    "plt.rc('font', size=15)\n",
    "plt.tight_layout()"
   ]
  },
  {
   "cell_type": "code",
   "execution_count": 449,
   "metadata": {
    "ExecuteTime": {
     "end_time": "2019-09-19T05:15:44.210996Z",
     "start_time": "2019-09-19T05:15:44.056395Z"
    }
   },
   "outputs": [
    {
     "data": {
      "text/plain": [
       "<matplotlib.collections.PolyCollection at 0x1c2965ba10>"
      ]
     },
     "execution_count": 449,
     "metadata": {},
     "output_type": "execute_result"
    },
    {
     "data": {
      "image/png": "[encoded data removed]",
      "text/plain": [
       "<Figure size 432x288 with 1 Axes>"
      ]
     },
     "metadata": {
      "needs_background": "light"
     },
     "output_type": "display_data"
    }
   ],
   "source": [
    "plt.pcolor(root_model.coef_)"
   ]
  },
  {
   "cell_type": "markdown",
   "metadata": {},
   "source": [
    "### Train quality model on playground set"
   ]
  },
  {
   "cell_type": "code",
   "execution_count": 495,
   "metadata": {
    "ExecuteTime": {
     "end_time": "2019-09-19T05:45:43.643213Z",
     "start_time": "2019-09-19T05:45:43.609656Z"
    }
   },
   "outputs": [],
   "source": [
    "standard_features_play, standard_labels_play = chord_loader.standardize_root(\n",
    "    features_play,labels_play,1,transposed=True)"
   ]
  },
  {
   "cell_type": "code",
   "execution_count": 496,
   "metadata": {
    "ExecuteTime": {
     "end_time": "2019-09-19T05:45:44.348243Z",
     "start_time": "2019-09-19T05:45:43.867375Z"
    }
   },
   "outputs": [
    {
     "name": "stdout",
     "output_type": "stream",
     "text": [
      "Quality F1 score: 0.853\n"
     ]
    },
    {
     "name": "stderr",
     "output_type": "stream",
     "text": [
      "/anaconda3/envs/insight/lib/python3.7/site-packages/sklearn/metrics/classification.py:1439: UndefinedMetricWarning: F-score is ill-defined and being set to 0.0 in labels with no true samples.\n",
      "  'recall', 'true', average, warn_for)\n"
     ]
    }
   ],
   "source": [
    "quality_model = sklearn.linear_model.LogisticRegression(class_weight=None,multi_class='ovr',\n",
    "                                                solver='lbfgs', max_iter=200)\n",
    "\n",
    "quality_model.fit(standard_features_play, standard_labels_play[:,1]);\n",
    "standard_predict_play = quality_model.predict(standard_features_play)\n",
    "\n",
    "print(f\"Quality F1 score: {sklearn.metrics.f1_score(standard_predict_play,standard_labels_play[:,1],average='weighted'):.3f}\")\n",
    "\n",
    "quality_c_mat = sklearn.metrics.confusion_matrix(standard_predict_play,standard_labels_play[:,1])"
   ]
  },
  {
   "cell_type": "code",
   "execution_count": 497,
   "metadata": {
    "ExecuteTime": {
     "end_time": "2019-09-19T05:45:45.656573Z",
     "start_time": "2019-09-19T05:45:45.517585Z"
    },
    "scrolled": true
   },
   "outputs": [
    {
     "data": {
      "image/png": "[encoded data removed]",
      "text/plain": [
       "<Figure size 432x288 with 1 Axes>"
      ]
     },
     "metadata": {
      "needs_background": "light"
     },
     "output_type": "display_data"
    }
   ],
   "source": [
    "plt.pcolor(quality_c_mat)\n",
    "#plt.xticks(ticks=np.arange(0.5,11.5,1))\n",
    "#plt.yticks(ticks=np.arange(0.5,11.5,1))\n",
    "plt.xlabel('Truth')\n",
    "plt.ylabel('Prediction')\n",
    "plt.rc('font', size=15)\n",
    "plt.tight_layout()"
   ]
  },
  {
   "cell_type": "code",
   "execution_count": 498,
   "metadata": {
    "ExecuteTime": {
     "end_time": "2019-09-19T05:45:47.319457Z",
     "start_time": "2019-09-19T05:45:47.313274Z"
    }
   },
   "outputs": [
    {
     "data": {
      "text/plain": [
       "array([[    0,     0,     0,     0,     0,     0,     0],\n",
       "       [    0,     0,     0,     0,     0,     0,     0],\n",
       "       [  215,    34, 13583,  3830,   438,    64,    27],\n",
       "       [    1,     1,    18,    21,     2,     0,     0],\n",
       "       [    0,     0,     0,     0,     0,     0,     0],\n",
       "       [    0,     0,     0,     0,     0,     0,     0],\n",
       "       [    0,     0,     0,     0,     0,     0,     0]])"
      ]
     },
     "execution_count": 498,
     "metadata": {},
     "output_type": "execute_result"
    }
   ],
   "source": [
    "quality_c_mat"
   ]
  },
  {
   "cell_type": "code",
   "execution_count": 499,
   "metadata": {
    "ExecuteTime": {
     "end_time": "2019-09-19T05:45:48.708905Z",
     "start_time": "2019-09-19T05:45:48.565625Z"
    }
   },
   "outputs": [
    {
     "data": {
      "text/plain": [
       "<matplotlib.collections.PolyCollection at 0x1c346de050>"
      ]
     },
     "execution_count": 499,
     "metadata": {},
     "output_type": "execute_result"
    },
    {
     "data": {
      "image/png": "[encoded data removed]",
      "text/plain": [
       "<Figure size 432x288 with 1 Axes>"
      ]
     },
     "metadata": {
      "needs_background": "light"
     },
     "output_type": "display_data"
    }
   ],
   "source": [
    "plt.pcolor(quality_model.coef_)"
   ]
  },
  {
   "cell_type": "markdown",
   "metadata": {
    "ExecuteTime": {
     "end_time": "2019-09-19T22:50:28.040041Z",
     "start_time": "2019-09-19T22:50:28.037041Z"
    }
   },
   "source": [
    "### Producing labels given youtube video"
   ]
  },
  {
   "cell_type": "code",
   "execution_count": 50,
   "metadata": {
    "ExecuteTime": {
     "end_time": "2019-09-19T23:12:03.737295Z",
     "start_time": "2019-09-19T23:12:03.729501Z"
    }
   },
   "outputs": [],
   "source": [
    "def download_mp3(link,destination):\n",
    "    options = {\n",
    "        'format': 'bestaudio/best', # choice of quality\n",
    "        'extractaudio' : True,      # only keep the audio\n",
    "        'audioformat' : \"mp3\",      # convert to mp3 \n",
    "        'outtmpl': '%(id)s',        # name the file the ID of the video\n",
    "        'noplaylist' : True,}       # only download single song, not playlist\n",
    "    ydl = youtube_dl.YoutubeDL(options)\n",
    "\n",
    "    with ydl:\n",
    "        # download video\n",
    "        try:\n",
    "            result = ydl.extract_info(link, download=True)\n",
    "            os.rename(result['id'], destination)\n",
    "\n",
    "        except Exception as e:\n",
    "            print(\"Can't download audio! %s\\n\" % traceback.format_exc())\n"
   ]
  },
  {
   "cell_type": "code",
   "execution_count": 113,
   "metadata": {
    "ExecuteTime": {
     "end_time": "2019-09-19T23:30:55.462640Z",
     "start_time": "2019-09-19T23:30:53.744067Z"
    },
    "scrolled": true
   },
   "outputs": [
    {
     "name": "stdout",
     "output_type": "stream",
     "text": [
      "[youtube] a__Y4dlP8eo: Downloading webpage\n",
      "[youtube] a__Y4dlP8eo: Downloading video info webpage\n",
      "[youtube] Downloading just video a__Y4dlP8eo because of --no-playlist\n",
      "[download] Destination: a__Y4dlP8eo\n",
      "[download] 100% of 4.08MiB in 00:0033MiB/s ETA 00:005\n"
     ]
    }
   ],
   "source": [
    "download_mp3('https://www.youtube.com/watch?v=a__Y4dlP8eo','test.mp3')"
   ]
  },
  {
   "cell_type": "code",
   "execution_count": 114,
   "metadata": {
    "ExecuteTime": {
     "end_time": "2019-09-19T23:31:09.501478Z",
     "start_time": "2019-09-19T23:30:59.139438Z"
    }
   },
   "outputs": [],
   "source": [
    "song_features = chord_loader.get_features(\"test.mp3\",0.5,21.35,7,1)"
   ]
  },
  {
   "cell_type": "code",
   "execution_count": 117,
   "metadata": {
    "ExecuteTime": {
     "end_time": "2019-09-19T23:32:51.784243Z",
     "start_time": "2019-09-19T23:32:49.921588Z"
    },
    "scrolled": true
   },
   "outputs": [
    {
     "data": {
      "image/png": "[encoded data removed]",
      "text/plain": [
       "<Figure size 432x288 with 1 Axes>"
      ]
     },
     "metadata": {
      "needs_background": "light"
     },
     "output_type": "display_data"
    }
   ],
   "source": [
    "plt.pcolor(song_features);"
   ]
  },
  {
   "cell_type": "code",
   "execution_count": null,
   "metadata": {},
   "outputs": [],
   "source": [
    "!rm test.mp3"
   ]
  },
  {
   "cell_type": "markdown",
   "metadata": {},
   "source": [
    "## Setting up bash commands\n",
    "Now that I've explored a bit, I'm setting up bash commands to process the mp3/chord files, and save the numpy arrays.  The arrays will be saved in `Data/processed/` as npy files.  There will also be a file `Data/processed/directory.csv` with basic info about settings used to process files."
   ]
  },
  {
   "cell_type": "markdown",
   "metadata": {},
   "source": [
    "The following command will process the data:\n",
    "\n",
    "```python chord_process.py default_lr --transpose --standard```"
   ]
  },
  {
   "cell_type": "markdown",
   "metadata": {},
   "source": [
    "After data is processed, I'm training linear regression models, and saving to directory `Models` as pickles.  I use the following command:\n",
    "\n",
    "```python lr_train.py default_lr default_10 --weighted```"
   ]
  },
  {
   "cell_type": "markdown",
   "metadata": {},
   "source": [
    "I'd also like to make learning curves, so I'll also execute the following:\n",
    "\n",
    "```python lr_train.py default_lr default_08 --weighted --frac 0.8\n",
    "python lr_train.py default_lr default_06 --weighted --frac 0.6\n",
    "python lr_train.py default_lr default_04 --weighted --frac 0.4\n",
    "python lr_train.py default_lr default_02 --weighted --frac 0.2```"
   ]
  },
  {
   "cell_type": "code",
   "execution_count": null,
   "metadata": {},
   "outputs": [],
   "source": []
  }
 ],
 "metadata": {
  "kernelspec": {
   "display_name": "Python 3",
   "language": "python",
   "name": "python3"
  },
  "language_info": {
   "codemirror_mode": {
    "name": "ipython",
    "version": 3
   },
   "file_extension": ".py",
   "mimetype": "text/x-python",
   "name": "python",
   "nbconvert_exporter": "python",
   "pygments_lexer": "ipython3",
   "version": "3.7.4"
  },
  "toc": {
   "base_numbering": 1,
   "nav_menu": {},
   "number_sections": true,
   "sideBar": true,
   "skip_h1_title": true,
   "title_cell": "Table of Contents",
   "title_sidebar": "Contents",
   "toc_cell": true,
   "toc_position": {},
   "toc_section_display": true,
   "toc_window_display": false
  }
 },
 "nbformat": 4,
 "nbformat_minor": 2
}
