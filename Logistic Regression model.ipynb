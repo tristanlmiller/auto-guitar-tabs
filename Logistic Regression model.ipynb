{
 "cells": [
  {
   "cell_type": "markdown",
   "metadata": {},
   "source": [
    "# Logistic Regression Model\n",
    "Tristan Miller, 9/18/2019\n",
    "\n"
   ]
  },
  {
   "cell_type": "markdown",
   "metadata": {
    "toc": true
   },
   "source": [
    "<h1>Table of Contents<span class=\"tocSkip\"></span></h1>\n",
    "<div class=\"toc\"><ul class=\"toc-item\"><li><span><a href=\"#Outline-of-model\" data-toc-modified-id=\"Outline-of-model-1\"><span class=\"toc-item-num\">1&nbsp;&nbsp;</span>Outline of model</a></span></li><li><span><a href=\"#Setup\" data-toc-modified-id=\"Setup-2\"><span class=\"toc-item-num\">2&nbsp;&nbsp;</span>Setup</a></span></li><li><span><a href=\"#Features-&amp;-Labels-testing\" data-toc-modified-id=\"Features-&amp;-Labels-testing-3\"><span class=\"toc-item-num\">3&nbsp;&nbsp;</span>Features &amp; Labels testing</a></span></li><li><span><a href=\"#Scratch\" data-toc-modified-id=\"Scratch-4\"><span class=\"toc-item-num\">4&nbsp;&nbsp;</span>Scratch</a></span></li></ul></div>"
   ]
  },
  {
   "cell_type": "markdown",
   "metadata": {},
   "source": [
    "## Outline of model"
   ]
  },
  {
   "cell_type": "markdown",
   "metadata": {},
   "source": [
    "For the minimum viable product, I will use the simplest model: logistic regression.  There will be four classification models:\n",
    "1. root (12 classes: -1 to 11)\n",
    "1. character (6 classes: unison, power, maj, min, dim, aug)\n",
    "1. add (9 classes: min9, 9, 4, tt, min6, 6, min7, maj7, nan)\n",
    "1. inversion (3 classes: 3, 5, nan)\n",
    "\n",
    "mp3 data will undergo the following preparation steps:\n",
    "1. Converted to dB spectra\n",
    "1. Abridged to be same length as chord file\n",
    "1. Remove rows with nan root\n",
    "1. Normalized by song\n",
    "1. (Training data only) Duplicated 12 times, each with a different transposition \n",
    "1. Concatenated, with 'flag' rows between songs\n",
    "1. After root is predicted, each time step is transposed to have root at same location.  Then other 3 models are applied.\n",
    "\n",
    "Chord labels will undergo the following preparation steps:\n",
    "1. 'Blockified' meaning for each interval of fixed length, the most common chord is labeled.\n",
    "1. Abridged to be same length as mp3 spectra\n",
    "1. Ignore rows with nan root\n",
    "1. root, character, add, and inversion extracted from chord string\n",
    "1. (Training data only) root label transposed as mp3 data is transposed\n",
    "\n",
    "These steps imply the following model parameters:\n",
    "1. Time step length\n",
    "1. range of fequencies in spectra\n",
    "1. Any classes worth ignoring (e.g. aug and dim)\n",
    "\n",
    "During validation, I will score the model as follows:\n",
    "\n",
    "```0.5(F1 of root) +\n",
    "0.3(accuracy of root)(F1 of character, among data with correct root) +\n",
    "0.1(accuracy of root & character)(F1 of add) +\n",
    "0.1(accuracy of root & character)(F1 of inversion)```\n",
    "\n",
    "The F1 score I intend to use is the weighted F1 (see https://towardsdatascience.com/multi-class-metrics-made-simple-part-ii-the-f1-score-ebe8b2c2ca1)."
   ]
  },
  {
   "cell_type": "markdown",
   "metadata": {},
   "source": [
    "## Setup"
   ]
  },
  {
   "cell_type": "code",
   "execution_count": 268,
   "metadata": {
    "ExecuteTime": {
     "end_time": "2019-09-18T22:58:47.648130Z",
     "start_time": "2019-09-18T22:58:47.643563Z"
    }
   },
   "outputs": [],
   "source": [
    "import pandas as pd\n",
    "import numpy as np\n",
    "import librosa\n",
    "import librosa.display\n",
    "import matplotlib.pyplot as plt\n",
    "import sys"
   ]
  },
  {
   "cell_type": "code",
   "execution_count": 269,
   "metadata": {
    "ExecuteTime": {
     "end_time": "2019-09-18T22:58:53.252764Z",
     "start_time": "2019-09-18T22:58:53.246150Z"
    }
   },
   "outputs": [],
   "source": [
    "if 'chord_loader' in sys.modules:\n",
    "    del sys.modules['chord_loader']\n",
    "sys.path.append('.')\n",
    "import chord_loader"
   ]
  },
  {
   "cell_type": "code",
   "execution_count": 3,
   "metadata": {
    "ExecuteTime": {
     "end_time": "2019-09-18T18:19:18.585362Z",
     "start_time": "2019-09-18T18:19:18.565112Z"
    }
   },
   "outputs": [],
   "source": [
    "song_directory = pd.read_csv('song_directory.csv')"
   ]
  },
  {
   "cell_type": "markdown",
   "metadata": {},
   "source": [
    "## Features & Labels testing"
   ]
  },
  {
   "cell_type": "code",
   "execution_count": 272,
   "metadata": {
    "ExecuteTime": {
     "end_time": "2019-09-18T23:00:48.672989Z",
     "start_time": "2019-09-18T23:00:36.249767Z"
    }
   },
   "outputs": [],
   "source": [
    "features, labels, transposition = chord_loader.get_features_labels(\n",
    "    song_directory.iloc[0:2,:],0.5,32.7,7,1,True)"
   ]
  },
  {
   "cell_type": "code",
   "execution_count": 273,
   "metadata": {
    "ExecuteTime": {
     "end_time": "2019-09-18T23:00:48.679468Z",
     "start_time": "2019-09-18T23:00:48.674966Z"
    }
   },
   "outputs": [
    {
     "data": {
      "text/plain": [
       "(7080, 96)"
      ]
     },
     "execution_count": 273,
     "metadata": {},
     "output_type": "execute_result"
    }
   ],
   "source": [
    "features.shape"
   ]
  },
  {
   "cell_type": "markdown",
   "metadata": {},
   "source": [
    "If it takes 6.3 s per song, then this whole thing will take about an hour and a half, and that's before even training the model.\n",
    "\n",
    "The featurs table will be about (3 million,100), and it will take up about 2 GB.\n",
    "\n",
    "Using higher `bins_per_note` or shorter `block_length` expands the data size, but appears not to increase the processing time.  Probably most of that processing time is in librosa's load function."
   ]
  },
  {
   "cell_type": "markdown",
   "metadata": {},
   "source": [
    "## Scratch"
   ]
  },
  {
   "cell_type": "code",
   "execution_count": 255,
   "metadata": {
    "ExecuteTime": {
     "end_time": "2019-09-18T22:53:24.089494Z",
     "start_time": "2019-09-18T22:53:24.084827Z"
    }
   },
   "outputs": [
    {
     "name": "stdout",
     "output_type": "stream",
     "text": [
      "0.5010034403669724\n"
     ]
    }
   ],
   "source": [
    "print(chord_loader.get_true_block(0.5,32.7,7,1))"
   ]
  },
  {
   "cell_type": "code",
   "execution_count": 256,
   "metadata": {
    "ExecuteTime": {
     "end_time": "2019-09-18T22:54:02.296499Z",
     "start_time": "2019-09-18T22:54:02.290651Z"
    }
   },
   "outputs": [
    {
     "name": "stdout",
     "output_type": "stream",
     "text": [
      "8388\n"
     ]
    }
   ],
   "source": [
    "maxfreq = 32.7*(2**7)\n",
    "sr = 4*maxfreq\n",
    "hop_restriction = (7-1)**2\n",
    "hop_length = round(.5*sr/hop_restriction)*hop_restriction\n",
    "print(hop_length)"
   ]
  },
  {
   "cell_type": "code",
   "execution_count": 257,
   "metadata": {
    "ExecuteTime": {
     "end_time": "2019-09-18T22:54:10.262882Z",
     "start_time": "2019-09-18T22:54:10.258590Z"
    }
   },
   "outputs": [
    {
     "name": "stdout",
     "output_type": "stream",
     "text": [
      "36\n"
     ]
    }
   ],
   "source": [
    "print(hop_restriction)"
   ]
  },
  {
   "cell_type": "code",
   "execution_count": 258,
   "metadata": {
    "ExecuteTime": {
     "end_time": "2019-09-18T22:54:21.983663Z",
     "start_time": "2019-09-18T22:54:21.978789Z"
    }
   },
   "outputs": [
    {
     "name": "stdout",
     "output_type": "stream",
     "text": [
      "36\n"
     ]
    }
   ],
   "source": [
    "print((7-1)**2)"
   ]
  },
  {
   "cell_type": "code",
   "execution_count": null,
   "metadata": {},
   "outputs": [],
   "source": []
  }
 ],
 "metadata": {
  "kernelspec": {
   "display_name": "Python 3",
   "language": "python",
   "name": "python3"
  },
  "language_info": {
   "codemirror_mode": {
    "name": "ipython",
    "version": 3
   },
   "file_extension": ".py",
   "mimetype": "text/x-python",
   "name": "python",
   "nbconvert_exporter": "python",
   "pygments_lexer": "ipython3",
   "version": "3.7.4"
  },
  "toc": {
   "base_numbering": 1,
   "nav_menu": {},
   "number_sections": true,
   "sideBar": true,
   "skip_h1_title": true,
   "title_cell": "Table of Contents",
   "title_sidebar": "Contents",
   "toc_cell": true,
   "toc_position": {},
   "toc_section_display": true,
   "toc_window_display": true
  }
 },
 "nbformat": 4,
 "nbformat_minor": 2
}
