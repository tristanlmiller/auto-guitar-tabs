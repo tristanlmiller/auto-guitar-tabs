{
 "cells": [
  {
   "cell_type": "markdown",
   "metadata": {},
   "source": [
    "# First Model\n",
    "Tristan Miller, 9/12/2019\n",
    "\n",
    "Currently, I have one mp3, and one text file with corresponding chord information.  My goal is to build a model trained on the first half of the song, which predicts the chords of the second half.  This is to be as simple a model as possible, using logistic regression on the constant-Q transform of the track, segmented in 1 second blocks.\n",
    "\n",
    "The song is \"I saw her standing there\" by The Beatles.  The chord file was downloaded in csv format from http://www.isophonics.net/content/reference-annotations-beatles."
   ]
  },
  {
   "cell_type": "markdown",
   "metadata": {},
   "source": [
    "## Table of contents\n",
    "\n",
    "- [Setup](#Setup)\n",
    "- [Loading music file](#Loading-music-file)\n",
    "- [Loading chord file](#Loading-chord-file)\n",
    "- [Training model](#Training-model)"
   ]
  },
  {
   "cell_type": "markdown",
   "metadata": {},
   "source": [
    "## Setup\n",
    "[Return to top](#Table-of-contents)"
   ]
  },
  {
   "cell_type": "code",
   "execution_count": 1,
   "metadata": {
    "ExecuteTime": {
     "end_time": "2019-09-18T22:33:39.948647Z",
     "start_time": "2019-09-18T22:33:37.308037Z"
    }
   },
   "outputs": [],
   "source": [
    "from IPython.display import Audio, display\n",
    "#import urllib.request\n",
    "import numpy as np\n",
    "import scipy.stats\n",
    "#import seaborn as sns\n",
    "import pandas as pd\n",
    "import matplotlib\n",
    "import matplotlib.pyplot as plt\n",
    "#from urllib.request import urlopen\n",
    "import librosa\n",
    "import librosa.display\n",
    "import sklearn"
   ]
  },
  {
   "cell_type": "code",
   "execution_count": 26,
   "metadata": {},
   "outputs": [],
   "source": [
    "chord_dir = \"../Data/Isophonics/The Beatles Annotations/chordlab/The Beatles/01_-_Please_Please_Me/\"\n",
    "chord_filename = \"01_-_I_Saw_Her_Standing_There.lab\"\n",
    "mp3_dir = \"../Data/YouTube/\"\n",
    "mp3_filename = \"I saw Her Standing There--The Beatles.mp3\""
   ]
  },
  {
   "cell_type": "markdown",
   "metadata": {},
   "source": [
    "## Loading music file\n",
    "[Return to top](#Table-of-contents)"
   ]
  },
  {
   "cell_type": "code",
   "execution_count": null,
   "metadata": {},
   "outputs": [],
   "source": []
  },
  {
   "cell_type": "code",
   "execution_count": 14,
   "metadata": {},
   "outputs": [],
   "source": [
    "track,sr = librosa.load(mp3_dir + mp3_filename)"
   ]
  },
  {
   "cell_type": "code",
   "execution_count": 15,
   "metadata": {},
   "outputs": [
    {
     "name": "stdout",
     "output_type": "stream",
     "text": [
      "size of track: 3835524\n",
      "sampling rate: 22050 Hz\n",
      "length of track: 173.95 s\n"
     ]
    }
   ],
   "source": [
    "print(f\"size of track: {track.shape[0]:d}\")\n",
    "print(f\"sampling rate: {sr:d} Hz\")\n",
    "print(f\"length of track: {track.shape[0]/sr:.2f} s\")"
   ]
  },
  {
   "cell_type": "code",
   "execution_count": 16,
   "metadata": {},
   "outputs": [
    {
     "data": {
      "text/plain": [
       "1917762"
      ]
     },
     "execution_count": 16,
     "metadata": {},
     "output_type": "execute_result"
    }
   ],
   "source": [
    "int(track.shape[0]/2)"
   ]
  },
  {
   "cell_type": "code",
   "execution_count": 17,
   "metadata": {},
   "outputs": [],
   "source": [
    "track_train = track[0:int(track.shape[0]/2)]\n",
    "track_test = track[int(track.shape[0]/2):]"
   ]
  },
  {
   "cell_type": "code",
   "execution_count": 18,
   "metadata": {},
   "outputs": [],
   "source": [
    "def testfunc(a=10):\n",
    "    print(a)"
   ]
  },
  {
   "cell_type": "code",
   "execution_count": 19,
   "metadata": {},
   "outputs": [
    {
     "name": "stdout",
     "output_type": "stream",
     "text": [
      "5\n"
     ]
    }
   ],
   "source": [
    "testfunc(**{'a':5})"
   ]
  },
  {
   "cell_type": "code",
   "execution_count": 20,
   "metadata": {},
   "outputs": [],
   "source": [
    "cqt_options = {'sr':sr,\n",
    "               'hop_length':int(sr/64)*64, #approx 1 s\n",
    "               'fmin':32.7, #minimum frequency, in Hz\n",
    "               'n_bins':120, #10 octaves\n",
    "               'bins_per_octave':12,\n",
    "               'tuning':0.0}\n",
    "spec_train = librosa.cqt(track_train, **cqt_options)\n",
    "spec_test = librosa.cqt(track_test, **cqt_options)\n",
    "#drop the first and last columns, since I don't trust whatever it's doing for padding.\n",
    "spec_train = spec_train[:,1:-1]\n",
    "spec_test = spec_test[:,1:-1]"
   ]
  },
  {
   "cell_type": "code",
   "execution_count": 21,
   "metadata": {
    "scrolled": true
   },
   "outputs": [
    {
     "name": "stdout",
     "output_type": "stream",
     "text": [
      "(252, 86)\n",
      "(252, 86)\n"
     ]
    }
   ],
   "source": [
    "print(spec_train.shape)\n",
    "print(spec_test.shape)"
   ]
  },
  {
   "cell_type": "code",
   "execution_count": 22,
   "metadata": {},
   "outputs": [
    {
     "data": {
      "image/png": "[encoded data removed]",
      "text/plain": [
       "<Figure size 432x288 with 2 Axes>"
      ]
     },
     "metadata": {
      "needs_background": "light"
     },
     "output_type": "display_data"
    }
   ],
   "source": [
    "display_options = {'sr':cqt_options['sr'],\n",
    "                  'hop_length':cqt_options['hop_length'],\n",
    "                  'fmin':cqt_options['fmin'],\n",
    "                  'bins_per_octave':cqt_options['bins_per_octave'],\n",
    "                  'y_axis':'cqt_note',\n",
    "                  'x_axis':'time'}\n",
    "librosa.display.specshow(librosa.amplitude_to_db(np.abs(spec_train[:,0:20]), ref=np.max),**display_options)\n",
    "plt.colorbar()\n",
    "plt.rc('font', size=15)\n",
    "plt.tight_layout()\n",
    "plt.savefig('images/first_spec.png')"
   ]
  },
  {
   "cell_type": "markdown",
   "metadata": {},
   "source": [
    "## Loading chord file\n",
    "[Return to top](#Table-of-contents)"
   ]
  },
  {
   "cell_type": "code",
   "execution_count": 27,
   "metadata": {},
   "outputs": [
    {
     "data": {
      "text/html": [
       "<div>\n",
       "<style scoped>\n",
       "    .dataframe tbody tr th:only-of-type {\n",
       "        vertical-align: middle;\n",
       "    }\n",
       "\n",
       "    .dataframe tbody tr th {\n",
       "        vertical-align: top;\n",
       "    }\n",
       "\n",
       "    .dataframe thead th {\n",
       "        text-align: right;\n",
       "    }\n",
       "</style>\n",
       "<table border=\"1\" class=\"dataframe\">\n",
       "  <thead>\n",
       "    <tr style=\"text-align: right;\">\n",
       "      <th></th>\n",
       "      <th>start_time</th>\n",
       "      <th>end_time</th>\n",
       "      <th>chord</th>\n",
       "    </tr>\n",
       "  </thead>\n",
       "  <tbody>\n",
       "    <tr>\n",
       "      <td>0</td>\n",
       "      <td>0.000000</td>\n",
       "      <td>2.612267</td>\n",
       "      <td>N</td>\n",
       "    </tr>\n",
       "    <tr>\n",
       "      <td>1</td>\n",
       "      <td>2.612267</td>\n",
       "      <td>11.459070</td>\n",
       "      <td>E</td>\n",
       "    </tr>\n",
       "    <tr>\n",
       "      <td>2</td>\n",
       "      <td>11.459070</td>\n",
       "      <td>12.921927</td>\n",
       "      <td>A</td>\n",
       "    </tr>\n",
       "    <tr>\n",
       "      <td>3</td>\n",
       "      <td>12.921927</td>\n",
       "      <td>17.443474</td>\n",
       "      <td>E</td>\n",
       "    </tr>\n",
       "    <tr>\n",
       "      <td>4</td>\n",
       "      <td>17.443474</td>\n",
       "      <td>20.410362</td>\n",
       "      <td>B</td>\n",
       "    </tr>\n",
       "  </tbody>\n",
       "</table>\n",
       "</div>"
      ],
      "text/plain": [
       "   start_time   end_time chord\n",
       "0    0.000000   2.612267     N\n",
       "1    2.612267  11.459070     E\n",
       "2   11.459070  12.921927     A\n",
       "3   12.921927  17.443474     E\n",
       "4   17.443474  20.410362     B"
      ]
     },
     "execution_count": 27,
     "metadata": {},
     "output_type": "execute_result"
    }
   ],
   "source": [
    "chords = pd.read_csv(chord_dir + chord_filename,sep=\" \",\n",
    "                     header=None,names=[\"start_time\",\"end_time\",\"chord\"])\n",
    "chords.head()"
   ]
  },
  {
   "cell_type": "code",
   "execution_count": 28,
   "metadata": {},
   "outputs": [
    {
     "data": {
      "text/plain": [
       "array(['N', 'E', 'A', 'B', 'E:7/3', 'A:min/b3', 'E:9'], dtype=object)"
      ]
     },
     "execution_count": 28,
     "metadata": {},
     "output_type": "execute_result"
    }
   ],
   "source": [
    "chords['chord'].unique()"
   ]
  },
  {
   "cell_type": "markdown",
   "metadata": {},
   "source": [
    "Here I want to divide the song into blocks of time (approx 1 s each), and label each block according to the proportion of each chord within that block."
   ]
  },
  {
   "cell_type": "code",
   "execution_count": 29,
   "metadata": {},
   "outputs": [],
   "source": [
    "def find_block(time,cut_point,block_length,train_len,test_len):\n",
    "    \"\"\"\n",
    "    ad-hoc function to find the location of a timestamp within the cqts\n",
    "    returns: \n",
    "    whichdata (True if test set, false if training set)\n",
    "    block (index within cqt)\n",
    "    frac (fraction within block)\n",
    "    Warning: currently assumes that cqt centers windows at n*block_length.\n",
    "    I haven't yet verified this.\n",
    "    \"\"\"\n",
    "    whichdata = time > cut_point\n",
    "    if whichdata:\n",
    "        time -= cut_point\n",
    "    block = int(time / block_length - 0.5)\n",
    "    frac = time / block_length - block\n",
    "    \n",
    "    #apply upper and lower caps\n",
    "    if block < 0:\n",
    "        block = 0\n",
    "        frac = 0\n",
    "    elif not whichdata:\n",
    "        if block > train_len-1:\n",
    "            block = train_len-1\n",
    "            block = 1\n",
    "    else:\n",
    "        if block > test_len-1:\n",
    "            block = test_len-1\n",
    "            frac = 1\n",
    "    return whichdata,block,frac"
   ]
  },
  {
   "cell_type": "code",
   "execution_count": 30,
   "metadata": {},
   "outputs": [],
   "source": [
    "labels_train = pd.DataFrame()\n",
    "labels_test = pd.DataFrame()\n",
    "for unique_chord in chords['chord'].unique():\n",
    "    labels_train[unique_chord] = np.zeros(spec_train.shape[1])\n",
    "    labels_test[unique_chord] = np.zeros(spec_test.shape[1])\n",
    "\n",
    "block_length = cqt_options['hop_length']/sr\n",
    "cut_point = track_train.shape[0]/sr\n",
    "\n",
    "for i, row in chords.iterrows():\n",
    "    #first find the blocks where the chord starts and ends\n",
    "    start_set,start_block,start_frac = find_block(row.start_time,cut_point,block_length,\n",
    "                                                  labels_train.shape[0],labels_test.shape[0])\n",
    "    end_set,end_block,end_frac = find_block(row.end_time,cut_point,block_length,\n",
    "                                                  labels_train.shape[0],labels_test.shape[0])\n",
    "    \n",
    "    #Divide into cases, depending on which datasets the chords start and end in.\n",
    "    if not start_set:\n",
    "        if not end_set:\n",
    "            for block in range(start_block,end_block+1):\n",
    "                labels_train[row.chord].iloc[block] += 1\n",
    "            labels_train[row.chord].iloc[start_block] -= start_frac\n",
    "            labels_train[row.chord].iloc[end_block] -= (1-end_frac)\n",
    "        else:\n",
    "            for block in range(start_block,labels_train.shape[0]):\n",
    "                labels_train[row.chord].iloc[block] += 1\n",
    "            labels_train[row.chord].iloc[start_block] -= start_frac\n",
    "            for block in range(end_block+1):\n",
    "                labels_test[row.chord].iloc[block] += 1\n",
    "            labels_test[row.chord].iloc[end_block] -= (1-end_frac)\n",
    "    else:\n",
    "        for block in range(start_block,end_block+1):\n",
    "            labels_test[row.chord].iloc[block] += 1\n",
    "        labels_test[row.chord].iloc[start_block] -= start_frac\n",
    "        labels_test[row.chord].iloc[end_block] -= (1-end_frac)\n",
    "        "
   ]
  },
  {
   "cell_type": "code",
   "execution_count": 31,
   "metadata": {
    "scrolled": true
   },
   "outputs": [
    {
     "name": "stdout",
     "output_type": "stream",
     "text": [
      "           N         E         A    B  E:7/3  A:min/b3  E:9\n",
      "0   1.000000  0.000000  0.000000  0.0    0.0       0.0  0.0\n",
      "1   1.000000  0.000000  0.000000  0.0    0.0       0.0  0.0\n",
      "2   0.616301  0.383699  0.000000  0.0    0.0       0.0  0.0\n",
      "3   0.000000  1.000000  0.000000  0.0    0.0       0.0  0.0\n",
      "4   0.000000  1.000000  0.000000  0.0    0.0       0.0  0.0\n",
      "5   0.000000  1.000000  0.000000  0.0    0.0       0.0  0.0\n",
      "6   0.000000  1.000000  0.000000  0.0    0.0       0.0  0.0\n",
      "7   0.000000  1.000000  0.000000  0.0    0.0       0.0  0.0\n",
      "8   0.000000  1.000000  0.000000  0.0    0.0       0.0  0.0\n",
      "9   0.000000  1.000000  0.000000  0.0    0.0       0.0  0.0\n",
      "10  0.000000  1.476767 -0.476767  0.0    0.0       0.0  0.0\n",
      "11  0.000000  0.000000  1.000000  0.0    0.0       0.0  0.0\n",
      "12  0.000000  0.058117  0.941883  0.0    0.0       0.0  0.0\n",
      "13  0.000000  1.000000  0.000000  0.0    0.0       0.0  0.0\n",
      "14  0.000000  1.000000  0.000000  0.0    0.0       0.0  0.0\n",
      "   start_time   end_time chord\n",
      "0    0.000000   2.612267     N\n",
      "1    2.612267  11.459070     E\n",
      "2   11.459070  12.921927     A\n",
      "3   12.921927  17.443474     E\n",
      "4   17.443474  20.410362     B\n"
     ]
    }
   ],
   "source": [
    "#visually verify results\n",
    "print(labels_train.iloc[0:15])\n",
    "print(chords.iloc[0:5])"
   ]
  },
  {
   "cell_type": "code",
   "execution_count": 32,
   "metadata": {},
   "outputs": [
    {
     "name": "stdout",
     "output_type": "stream",
     "text": [
      "      N         E         A         B  E:7/3  A:min/b3  E:9\n",
      "0   0.0  0.000000  0.764466  0.000000    0.0  0.235534  0.0\n",
      "1   0.0 -0.287722  0.000000  0.000000    0.0  1.287722  0.0\n",
      "2   0.0  1.000000  0.000000  0.000000    0.0  0.000000  0.0\n",
      "3   0.0  0.752838  0.000000  0.247162    0.0  0.000000  0.0\n",
      "4   0.0 -0.192126  0.000000  1.192126    0.0  0.000000  0.0\n",
      "5   0.0  1.000000  0.000000  0.000000    0.0  0.000000  0.0\n",
      "6   0.0  1.000000  0.000000  0.000000    0.0  0.000000  0.0\n",
      "7   0.0  1.000000  0.000000  0.000000    0.0  0.000000  0.0\n",
      "8   0.0  1.000000  0.000000  0.000000    0.0  0.000000  0.0\n",
      "9   0.0  1.000000  0.000000  0.000000    0.0  0.000000  0.0\n",
      "10  0.0  1.000000  0.000000  0.000000    0.0  0.000000  0.0\n",
      "11  0.0  1.000000  0.000000  0.000000    0.0  0.000000  0.0\n",
      "12  0.0  1.000000  0.000000  0.000000    0.0  0.000000  0.0\n",
      "13  0.0  1.000000  0.000000  0.000000    0.0  0.000000  0.0\n",
      "14  0.0  1.000000  0.000000  0.000000    0.0  0.000000  0.0\n",
      "    start_time    end_time     chord\n",
      "30   86.221693   87.736621         A\n",
      "31   87.736621   89.257528  A:min/b3\n",
      "32   89.257528   90.720385         E\n",
      "33   90.720385   92.157453         B\n",
      "34   92.157453  104.106689         E\n"
     ]
    }
   ],
   "source": [
    "print(labels_test.iloc[0:15])\n",
    "print(chords.iloc[30:35])"
   ]
  },
  {
   "cell_type": "code",
   "execution_count": 33,
   "metadata": {
    "scrolled": true
   },
   "outputs": [
    {
     "name": "stdout",
     "output_type": "stream",
     "text": [
      "True\n",
      "True\n"
     ]
    }
   ],
   "source": [
    "#verify that each row sums to 1\n",
    "print(all(np.sum(labels_train,1)==1))\n",
    "print(all(np.sum(labels_test,1)==1))"
   ]
  },
  {
   "cell_type": "markdown",
   "metadata": {},
   "source": [
    "A couple problems I've run into.  First, sklearn's logistic regression doesn't support multiple labels!  Second problem is that logistic regression expects labels that are either 1s or zeros, or a categorical.  For now I'll just find the column which has the maximum value"
   ]
  },
  {
   "cell_type": "code",
   "execution_count": 34,
   "metadata": {},
   "outputs": [],
   "source": [
    "class_train = labels_train.idxmax(axis=1)\n",
    "class_test = labels_test.idxmax(axis=1)"
   ]
  },
  {
   "cell_type": "markdown",
   "metadata": {},
   "source": [
    "## Training model\n",
    "[Return to top](#Table-of-contents)"
   ]
  },
  {
   "cell_type": "code",
   "execution_count": 62,
   "metadata": {},
   "outputs": [],
   "source": [
    "#first, apply some scaling\n",
    "features_train = librosa.amplitude_to_db(np.abs(spec_train)).T\n",
    "feature_mean = np.mean(features_train)\n",
    "feature_var = np.var(features_train)\n",
    "features_train = (features_train - feature_mean ) / feature_var\n",
    "features_test = (librosa.amplitude_to_db(np.abs(spec_test)).T - feature_mean) / feature_var"
   ]
  },
  {
   "cell_type": "code",
   "execution_count": 63,
   "metadata": {},
   "outputs": [],
   "source": [
    "#create a model\n",
    "model = sklearn.linear_model.LogisticRegression(class_weight=None,multi_class='ovr',solver='lbfgs')"
   ]
  },
  {
   "cell_type": "code",
   "execution_count": 64,
   "metadata": {},
   "outputs": [
    {
     "data": {
      "text/plain": [
       "LogisticRegression(C=1.0, class_weight=None, dual=False, fit_intercept=True,\n",
       "                   intercept_scaling=1, l1_ratio=None, max_iter=100,\n",
       "                   multi_class='ovr', n_jobs=None, penalty='l2',\n",
       "                   random_state=None, solver='lbfgs', tol=0.0001, verbose=0,\n",
       "                   warm_start=False)"
      ]
     },
     "execution_count": 64,
     "metadata": {},
     "output_type": "execute_result"
    }
   ],
   "source": [
    "#fit the model\n",
    "model.fit(features_train, class_train)"
   ]
  },
  {
   "cell_type": "code",
   "execution_count": 65,
   "metadata": {},
   "outputs": [],
   "source": [
    "#make predictions\n",
    "predict_train = model.predict(features_train)\n",
    "predict_test = model.predict(features_test)"
   ]
  },
  {
   "cell_type": "code",
   "execution_count": 66,
   "metadata": {},
   "outputs": [
    {
     "name": "stdout",
     "output_type": "stream",
     "text": [
      "Training set score: 0.849\n",
      "Test set score: 0.698\n"
     ]
    }
   ],
   "source": [
    "print(f'Training set score: {model.score(features_train,class_train):.3f}')\n",
    "print(f'Test set score: {model.score(features_test,class_test):.3f}')"
   ]
  },
  {
   "cell_type": "code",
   "execution_count": 67,
   "metadata": {},
   "outputs": [
    {
     "name": "stdout",
     "output_type": "stream",
     "text": [
      "['A' 'A:min/b3' 'B' 'E' 'E:7/3' 'N']\n",
      "(6, 252)\n"
     ]
    }
   ],
   "source": [
    "print(model.classes_)\n",
    "print(model.coef_.shape)"
   ]
  },
  {
   "cell_type": "code",
   "execution_count": 68,
   "metadata": {},
   "outputs": [],
   "source": [
    "#get complete set of unique chords\n",
    "chord_set = list(set(np.unique(class_train)).union( set(np.unique(class_test))))"
   ]
  },
  {
   "cell_type": "code",
   "execution_count": 69,
   "metadata": {},
   "outputs": [],
   "source": [
    "c_mat = sklearn.metrics.confusion_matrix(class_test,predict_test,labels=chord_set)"
   ]
  },
  {
   "cell_type": "code",
   "execution_count": 70,
   "metadata": {},
   "outputs": [
    {
     "data": {
      "text/plain": [
       "array([[41,  0,  2,  1,  0,  0,  0],\n",
       "       [ 1,  0,  0,  0,  0,  0,  1],\n",
       "       [ 7,  0,  6,  1,  0,  0,  0],\n",
       "       [10,  0,  0, 12,  0,  0,  0],\n",
       "       [ 0,  0,  0,  2,  0,  0,  0],\n",
       "       [ 1,  0,  0,  0,  0,  0,  0],\n",
       "       [ 0,  0,  0,  0,  0,  0,  1]])"
      ]
     },
     "execution_count": 70,
     "metadata": {},
     "output_type": "execute_result"
    }
   ],
   "source": [
    "c_mat"
   ]
  },
  {
   "cell_type": "code",
   "execution_count": 71,
   "metadata": {},
   "outputs": [
    {
     "data": {
      "image/png": "[encoded data removed]",
      "text/plain": [
       "<Figure size 432x288 with 1 Axes>"
      ]
     },
     "metadata": {
      "needs_background": "light"
     },
     "output_type": "display_data"
    }
   ],
   "source": [
    "plt.pcolor(c_mat)\n",
    "plt.xticks(ticks=np.arange(0.5,6.5,1),labels=chord_set)\n",
    "plt.yticks(ticks=np.arange(0.5,6.5,1),labels=chord_set)\n",
    "plt.xlabel('Truth')\n",
    "plt.ylabel('Prediction')\n",
    "plt.rc('font', size=15)\n",
    "plt.tight_layout()\n",
    "plt.savefig('images/first_cmat.png')"
   ]
  },
  {
   "cell_type": "code",
   "execution_count": 72,
   "metadata": {},
   "outputs": [],
   "source": [
    "chord_dict = {}\n",
    "for i, chord in enumerate(chord_set):\n",
    "    chord_dict[chord] = i"
   ]
  },
  {
   "cell_type": "code",
   "execution_count": 73,
   "metadata": {},
   "outputs": [],
   "source": [
    "predict_i = [chord_dict[x] for x in predict_train] + [chord_dict[x] for x in predict_test]\n",
    "truth_i = [chord_dict[x] for x in class_train] + [chord_dict[x] for x in class_test]\n",
    "compare_i = np.zeros((2,len(predict_i)))\n",
    "compare_i[0,:] = truth_i\n",
    "compare_i[1,:] = predict_i"
   ]
  },
  {
   "cell_type": "code",
   "execution_count": 74,
   "metadata": {},
   "outputs": [
    {
     "data": {
      "image/png": "[encoded data removed]",
      "text/plain": [
       "<Figure size 504x216 with 2 Axes>"
      ]
     },
     "metadata": {
      "needs_background": "light"
     },
     "output_type": "display_data"
    }
   ],
   "source": [
    "def truncate_colormap(cmap, minval=0.0, maxval=1.0, n=100):\n",
    "    new_cmap = matplotlib.colors.LinearSegmentedColormap.from_list(\n",
    "        'trunc({n},{a:.2f},{b:.2f})'.format(n=cmap.name, a=minval, b=maxval),\n",
    "        cmap(np.linspace(minval, maxval, n)))\n",
    "    return new_cmap\n",
    "\n",
    "cmap = plt.get_cmap('Set2')\n",
    "new_cmap = truncate_colormap(cmap, .0625, .8125)\n",
    "\n",
    "plt.figure(figsize=(7,3))\n",
    "plt.pcolor(compare_i,cmap=new_cmap)\n",
    "plt.yticks(ticks=[0.5,1.5],labels=['Truth','Prediction'])\n",
    "plt.xlabel('Time (s)')\n",
    "plt.rc('font', size=15)\n",
    "cbar = plt.colorbar(orientation='horizontal')\n",
    "cbar.ax.set_xticklabels(chord_set)\n",
    "plt.tight_layout()\n",
    "plt.savefig('images/first_comparison.png')"
   ]
  },
  {
   "cell_type": "code",
   "execution_count": null,
   "metadata": {},
   "outputs": [],
   "source": []
  }
 ],
 "metadata": {
  "kernelspec": {
   "display_name": "Python 3",
   "language": "python",
   "name": "python3"
  },
  "language_info": {
   "codemirror_mode": {
    "name": "ipython",
    "version": 3
   },
   "file_extension": ".py",
   "mimetype": "text/x-python",
   "name": "python",
   "nbconvert_exporter": "python",
   "pygments_lexer": "ipython3",
   "version": "3.7.4"
  },
  "toc": {
   "base_numbering": 1,
   "nav_menu": {},
   "number_sections": true,
   "sideBar": true,
   "skip_h1_title": true,
   "title_cell": "Table of Contents",
   "title_sidebar": "Contents",
   "toc_cell": false,
   "toc_position": {},
   "toc_section_display": true,
   "toc_window_display": false
  }
 },
 "nbformat": 4,
 "nbformat_minor": 2
}
