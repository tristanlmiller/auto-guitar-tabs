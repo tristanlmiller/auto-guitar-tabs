{
 "cells": [
  {
   "cell_type": "markdown",
   "metadata": {},
   "source": [
    "# Data Characterization: Chords\n",
    "Tristan Miller, 9/16/2019\n",
    "\n",
    "The goal of this notebook is to create a directory of all chord files, load them into a table, and do some basic characterization."
   ]
  },
  {
   "cell_type": "markdown",
   "metadata": {},
   "source": [
    "# Table of Contents\n",
    "\n",
    "1. [Setup](#Setup)\n",
    "1. [Chord file directory](#Chord-file-directory)\n",
    "1. [Loading chords](#Loading-chords)\n",
    "1. [Chord interpretation](#chord-interpretation)\n",
    "1. [Characterization](#characterization)"
   ]
  },
  {
   "cell_type": "markdown",
   "metadata": {},
   "source": [
    "# Setup\n",
    "[Return to Table of Contents](#Table-of-Contents)"
   ]
  },
  {
   "cell_type": "code",
   "execution_count": 1,
   "metadata": {
    "ExecuteTime": {
     "end_time": "2019-09-20T09:42:09.925031Z",
     "start_time": "2019-09-20T09:42:08.826459Z"
    }
   },
   "outputs": [],
   "source": [
    "import sys\n",
    "import os\n",
    "import pandas as pd\n",
    "import numpy as np\n",
    "import matplotlib\n",
    "import matplotlib.pyplot as plt\n",
    "%matplotlib inline\n",
    "import re"
   ]
  },
  {
   "cell_type": "markdown",
   "metadata": {},
   "source": [
    "# Chord file directory\n",
    "[Return to Table of Contents](#Table-of-Contents)"
   ]
  },
  {
   "cell_type": "code",
   "execution_count": 2,
   "metadata": {
    "ExecuteTime": {
     "end_time": "2019-09-20T09:42:11.907852Z",
     "start_time": "2019-09-20T09:42:11.900056Z"
    }
   },
   "outputs": [],
   "source": [
    "num_songs = 1108\n",
    "song_directory = pd.DataFrame(data=np.zeros((num_songs,4)),columns=['dataset','artist','track','chord_filepath'])\n",
    "song_directory['dataset'] = pd.Categorical(values = [np.nan]*num_songs,\n",
    "                                           categories=['isophonics/The Beatles','isophonics/Queen',\n",
    "                                                       'isophonics/Zweieck','mcgill'])"
   ]
  },
  {
   "cell_type": "code",
   "execution_count": 3,
   "metadata": {
    "ExecuteTime": {
     "end_time": "2019-09-20T09:42:12.348583Z",
     "start_time": "2019-09-20T09:42:12.341398Z"
    },
    "scrolled": true
   },
   "outputs": [],
   "source": [
    "#first do isophonics\n",
    "def get_iso_band(bandname,curr_row):\n",
    "    \"\"\"Fills out rows of the song directory for a band in the isophonics dataset.\n",
    "    Returns next row number and number of rows filled out.\"\"\"\n",
    "    first_row = curr_row\n",
    "    curr_dir = f'Data/Isophonics/{bandname} Annotations/chordlab/{bandname}'\n",
    "    for r,d,f in os.walk('../'+curr_dir):\n",
    "        for file in f:\n",
    "            if '.lab' in file:\n",
    "                song_directory.iloc[curr_row,:] = [f'isophonics/{bandname}',bandname,file[5:-4].replace('_',' '),\n",
    "                                                      r[3:]+'/'+file]\n",
    "                curr_row += 1\n",
    "    return curr_row, (curr_row-first_row)"
   ]
  },
  {
   "cell_type": "code",
   "execution_count": 4,
   "metadata": {
    "ExecuteTime": {
     "end_time": "2019-09-20T09:42:13.814782Z",
     "start_time": "2019-09-20T09:42:13.442474Z"
    }
   },
   "outputs": [],
   "source": [
    "curr_row = 0\n",
    "curr_row, num_beatles = get_iso_band('The Beatles',curr_row)\n",
    "curr_row, num_queen = get_iso_band('Queen',curr_row)\n",
    "curr_row, num_zweieck = get_iso_band('Zweieck',curr_row)"
   ]
  },
  {
   "cell_type": "code",
   "execution_count": 5,
   "metadata": {
    "ExecuteTime": {
     "end_time": "2019-09-20T09:42:14.745010Z",
     "start_time": "2019-09-20T09:42:14.730260Z"
    }
   },
   "outputs": [
    {
     "data": {
      "text/html": [
       "<div>\n",
       "<style scoped>\n",
       "    .dataframe tbody tr th:only-of-type {\n",
       "        vertical-align: middle;\n",
       "    }\n",
       "\n",
       "    .dataframe tbody tr th {\n",
       "        vertical-align: top;\n",
       "    }\n",
       "\n",
       "    .dataframe thead th {\n",
       "        text-align: right;\n",
       "    }\n",
       "</style>\n",
       "<table border=\"1\" class=\"dataframe\">\n",
       "  <thead>\n",
       "    <tr style=\"text-align: right;\">\n",
       "      <th></th>\n",
       "      <th>dataset</th>\n",
       "      <th>artist</th>\n",
       "      <th>track</th>\n",
       "      <th>chord_filepath</th>\n",
       "    </tr>\n",
       "  </thead>\n",
       "  <tbody>\n",
       "    <tr>\n",
       "      <td>215</td>\n",
       "      <td>isophonics/Zweieck</td>\n",
       "      <td>Zweieck</td>\n",
       "      <td>Spiel Mir Eine Alte Melodie</td>\n",
       "      <td>Data/Isophonics/Zweieck Annotations/chordlab/Z...</td>\n",
       "    </tr>\n",
       "    <tr>\n",
       "      <td>216</td>\n",
       "      <td>isophonics/Zweieck</td>\n",
       "      <td>Zweieck</td>\n",
       "      <td>Rawhide</td>\n",
       "      <td>Data/Isophonics/Zweieck Annotations/chordlab/Z...</td>\n",
       "    </tr>\n",
       "    <tr>\n",
       "      <td>217</td>\n",
       "      <td>isophonics/Zweieck</td>\n",
       "      <td>Zweieck</td>\n",
       "      <td>Jakob Und Marie</td>\n",
       "      <td>Data/Isophonics/Zweieck Annotations/chordlab/Z...</td>\n",
       "    </tr>\n",
       "    <tr>\n",
       "      <td>218</td>\n",
       "      <td>NaN</td>\n",
       "      <td>0</td>\n",
       "      <td>0</td>\n",
       "      <td>0</td>\n",
       "    </tr>\n",
       "    <tr>\n",
       "      <td>219</td>\n",
       "      <td>NaN</td>\n",
       "      <td>0</td>\n",
       "      <td>0</td>\n",
       "      <td>0</td>\n",
       "    </tr>\n",
       "  </tbody>\n",
       "</table>\n",
       "</div>"
      ],
      "text/plain": [
       "                dataset   artist                        track  \\\n",
       "215  isophonics/Zweieck  Zweieck  Spiel Mir Eine Alte Melodie   \n",
       "216  isophonics/Zweieck  Zweieck                      Rawhide   \n",
       "217  isophonics/Zweieck  Zweieck              Jakob Und Marie   \n",
       "218                 NaN        0                            0   \n",
       "219                 NaN        0                            0   \n",
       "\n",
       "                                        chord_filepath  \n",
       "215  Data/Isophonics/Zweieck Annotations/chordlab/Z...  \n",
       "216  Data/Isophonics/Zweieck Annotations/chordlab/Z...  \n",
       "217  Data/Isophonics/Zweieck Annotations/chordlab/Z...  \n",
       "218                                                  0  \n",
       "219                                                  0  "
      ]
     },
     "execution_count": 5,
     "metadata": {},
     "output_type": "execute_result"
    }
   ],
   "source": [
    "song_directory.iloc[215:220]"
   ]
  },
  {
   "cell_type": "code",
   "execution_count": 7,
   "metadata": {
    "ExecuteTime": {
     "end_time": "2019-09-20T09:42:35.098689Z",
     "start_time": "2019-09-20T09:42:35.084891Z"
    }
   },
   "outputs": [],
   "source": [
    "#next do mcgill billboard project\n",
    "mcgill_index = pd.read_csv('../Data/McGill-Billboard/billboard-2.0-index.csv')"
   ]
  },
  {
   "cell_type": "code",
   "execution_count": 7,
   "metadata": {
    "ExecuteTime": {
     "end_time": "2019-09-18T16:50:10.131430Z",
     "start_time": "2019-09-18T16:50:10.118070Z"
    }
   },
   "outputs": [
    {
     "data": {
      "text/html": [
       "<div>\n",
       "<style scoped>\n",
       "    .dataframe tbody tr th:only-of-type {\n",
       "        vertical-align: middle;\n",
       "    }\n",
       "\n",
       "    .dataframe tbody tr th {\n",
       "        vertical-align: top;\n",
       "    }\n",
       "\n",
       "    .dataframe thead th {\n",
       "        text-align: right;\n",
       "    }\n",
       "</style>\n",
       "<table border=\"1\" class=\"dataframe\">\n",
       "  <thead>\n",
       "    <tr style=\"text-align: right;\">\n",
       "      <th></th>\n",
       "      <th>id</th>\n",
       "      <th>chart_date</th>\n",
       "      <th>target_rank</th>\n",
       "      <th>actual_rank</th>\n",
       "      <th>title</th>\n",
       "      <th>artist</th>\n",
       "      <th>peak_rank</th>\n",
       "      <th>weeks_on_chart</th>\n",
       "    </tr>\n",
       "  </thead>\n",
       "  <tbody>\n",
       "    <tr>\n",
       "      <td>0</td>\n",
       "      <td>1</td>\n",
       "      <td>1987-07-11</td>\n",
       "      <td>82</td>\n",
       "      <td>NaN</td>\n",
       "      <td>NaN</td>\n",
       "      <td>NaN</td>\n",
       "      <td>NaN</td>\n",
       "      <td>NaN</td>\n",
       "    </tr>\n",
       "    <tr>\n",
       "      <td>1</td>\n",
       "      <td>2</td>\n",
       "      <td>1973-08-04</td>\n",
       "      <td>14</td>\n",
       "      <td>NaN</td>\n",
       "      <td>NaN</td>\n",
       "      <td>NaN</td>\n",
       "      <td>NaN</td>\n",
       "      <td>NaN</td>\n",
       "    </tr>\n",
       "    <tr>\n",
       "      <td>2</td>\n",
       "      <td>3</td>\n",
       "      <td>1961-07-03</td>\n",
       "      <td>56</td>\n",
       "      <td>57.0</td>\n",
       "      <td>I Don't Mind</td>\n",
       "      <td>James Brown</td>\n",
       "      <td>47.0</td>\n",
       "      <td>8.0</td>\n",
       "    </tr>\n",
       "    <tr>\n",
       "      <td>3</td>\n",
       "      <td>4</td>\n",
       "      <td>1971-08-07</td>\n",
       "      <td>32</td>\n",
       "      <td>31.0</td>\n",
       "      <td>You've Got A Friend</td>\n",
       "      <td>Roberta Flack,Donny Hathaway</td>\n",
       "      <td>29.0</td>\n",
       "      <td>12.0</td>\n",
       "    </tr>\n",
       "    <tr>\n",
       "      <td>4</td>\n",
       "      <td>5</td>\n",
       "      <td>1976-07-10</td>\n",
       "      <td>51</td>\n",
       "      <td>NaN</td>\n",
       "      <td>NaN</td>\n",
       "      <td>NaN</td>\n",
       "      <td>NaN</td>\n",
       "      <td>NaN</td>\n",
       "    </tr>\n",
       "  </tbody>\n",
       "</table>\n",
       "</div>"
      ],
      "text/plain": [
       "   id  chart_date  target_rank  actual_rank                title  \\\n",
       "0   1  1987-07-11           82          NaN                  NaN   \n",
       "1   2  1973-08-04           14          NaN                  NaN   \n",
       "2   3  1961-07-03           56         57.0         I Don't Mind   \n",
       "3   4  1971-08-07           32         31.0  You've Got A Friend   \n",
       "4   5  1976-07-10           51          NaN                  NaN   \n",
       "\n",
       "                         artist  peak_rank  weeks_on_chart  \n",
       "0                           NaN        NaN             NaN  \n",
       "1                           NaN        NaN             NaN  \n",
       "2                   James Brown       47.0             8.0  \n",
       "3  Roberta Flack,Donny Hathaway       29.0            12.0  \n",
       "4                           NaN        NaN             NaN  "
      ]
     },
     "execution_count": 7,
     "metadata": {},
     "output_type": "execute_result"
    }
   ],
   "source": [
    "mcgill_index.head()"
   ]
  },
  {
   "cell_type": "code",
   "execution_count": 8,
   "metadata": {
    "ExecuteTime": {
     "end_time": "2019-09-20T09:42:38.577639Z",
     "start_time": "2019-09-20T09:42:37.135621Z"
    }
   },
   "outputs": [],
   "source": [
    "curr_dir = 'Data/McGill-Billboard/'\n",
    "first_row = curr_row\n",
    "for i, row in mcgill_index.iterrows():\n",
    "    if not pd.isna(row['title']):\n",
    "        filepath = curr_dir + f'{row[\"id\"]:04.0f}/full.lab'\n",
    "        #print(filepath)\n",
    "        song_directory.iloc[curr_row,:] = ['mcgill',row['artist'],row['title'],filepath]\n",
    "        curr_row += 1\n",
    "num_mcgill = curr_row - first_row"
   ]
  },
  {
   "cell_type": "code",
   "execution_count": 9,
   "metadata": {
    "ExecuteTime": {
     "end_time": "2019-09-18T16:50:16.809039Z",
     "start_time": "2019-09-18T16:50:16.798544Z"
    },
    "scrolled": true
   },
   "outputs": [
    {
     "data": {
      "text/html": [
       "<div>\n",
       "<style scoped>\n",
       "    .dataframe tbody tr th:only-of-type {\n",
       "        vertical-align: middle;\n",
       "    }\n",
       "\n",
       "    .dataframe tbody tr th {\n",
       "        vertical-align: top;\n",
       "    }\n",
       "\n",
       "    .dataframe thead th {\n",
       "        text-align: right;\n",
       "    }\n",
       "</style>\n",
       "<table border=\"1\" class=\"dataframe\">\n",
       "  <thead>\n",
       "    <tr style=\"text-align: right;\">\n",
       "      <th></th>\n",
       "      <th>dataset</th>\n",
       "      <th>artist</th>\n",
       "      <th>track</th>\n",
       "      <th>chord_filepath</th>\n",
       "    </tr>\n",
       "  </thead>\n",
       "  <tbody>\n",
       "    <tr>\n",
       "      <td>1103</td>\n",
       "      <td>mcgill</td>\n",
       "      <td>The Turtles</td>\n",
       "      <td>Happy Together</td>\n",
       "      <td>Data/McGill-Billboard/1290/full.lab</td>\n",
       "    </tr>\n",
       "    <tr>\n",
       "      <td>1104</td>\n",
       "      <td>mcgill</td>\n",
       "      <td>The Chiffons</td>\n",
       "      <td>He's So Fine</td>\n",
       "      <td>Data/McGill-Billboard/1292/full.lab</td>\n",
       "    </tr>\n",
       "    <tr>\n",
       "      <td>1105</td>\n",
       "      <td>mcgill</td>\n",
       "      <td>Billy Idol</td>\n",
       "      <td>White Wedding</td>\n",
       "      <td>Data/McGill-Billboard/1296/full.lab</td>\n",
       "    </tr>\n",
       "    <tr>\n",
       "      <td>1106</td>\n",
       "      <td>mcgill</td>\n",
       "      <td>The Everly Brothers</td>\n",
       "      <td>Ebony Eyes</td>\n",
       "      <td>Data/McGill-Billboard/1297/full.lab</td>\n",
       "    </tr>\n",
       "    <tr>\n",
       "      <td>1107</td>\n",
       "      <td>mcgill</td>\n",
       "      <td>Pet Shop Boys</td>\n",
       "      <td>Where The Streets Have No Name</td>\n",
       "      <td>Data/McGill-Billboard/1300/full.lab</td>\n",
       "    </tr>\n",
       "  </tbody>\n",
       "</table>\n",
       "</div>"
      ],
      "text/plain": [
       "     dataset               artist                           track  \\\n",
       "1103  mcgill          The Turtles                  Happy Together   \n",
       "1104  mcgill         The Chiffons                    He's So Fine   \n",
       "1105  mcgill           Billy Idol                   White Wedding   \n",
       "1106  mcgill  The Everly Brothers                      Ebony Eyes   \n",
       "1107  mcgill        Pet Shop Boys  Where The Streets Have No Name   \n",
       "\n",
       "                           chord_filepath  \n",
       "1103  Data/McGill-Billboard/1290/full.lab  \n",
       "1104  Data/McGill-Billboard/1292/full.lab  \n",
       "1105  Data/McGill-Billboard/1296/full.lab  \n",
       "1106  Data/McGill-Billboard/1297/full.lab  \n",
       "1107  Data/McGill-Billboard/1300/full.lab  "
      ]
     },
     "execution_count": 9,
     "metadata": {},
     "output_type": "execute_result"
    }
   ],
   "source": [
    "song_directory.tail()"
   ]
  },
  {
   "cell_type": "markdown",
   "metadata": {},
   "source": [
    "Let's get rid of those annoying integers at the beginning of the titles of the white album\n"
   ]
  },
  {
   "cell_type": "code",
   "execution_count": 9,
   "metadata": {
    "ExecuteTime": {
     "end_time": "2019-09-20T09:42:43.326878Z",
     "start_time": "2019-09-20T09:42:43.315433Z"
    }
   },
   "outputs": [
    {
     "name": "stderr",
     "output_type": "stream",
     "text": [
      "/anaconda3/envs/insight/lib/python3.7/site-packages/pandas/core/indexing.py:205: SettingWithCopyWarning: \n",
      "A value is trying to be set on a copy of a slice from a DataFrame\n",
      "\n",
      "See the caveats in the documentation: http://pandas.pydata.org/pandas-docs/stable/user_guide/indexing.html#returning-a-view-versus-a-copy\n",
      "  self._setitem_with_indexer(indexer, value)\n"
     ]
    }
   ],
   "source": [
    "song_directory['track'].iloc[113:126] = song_directory['track'].iloc[113:126].apply(lambda x: x[5:])\n",
    "song_directory['track'].iloc[71:88] = song_directory['track'].iloc[71:88].apply(lambda x: x[5:])"
   ]
  },
  {
   "cell_type": "code",
   "execution_count": 11,
   "metadata": {
    "ExecuteTime": {
     "end_time": "2019-09-18T16:50:21.954670Z",
     "start_time": "2019-09-18T16:50:21.940609Z"
    }
   },
   "outputs": [],
   "source": [
    "#song_directory.to_csv('../song_directory.csv',index=False)"
   ]
  },
  {
   "cell_type": "markdown",
   "metadata": {},
   "source": [
    "# Loading chords\n",
    "[Return to Table of Contents](#Table-of-Contents)"
   ]
  },
  {
   "cell_type": "code",
   "execution_count": 10,
   "metadata": {
    "ExecuteTime": {
     "end_time": "2019-09-20T09:42:45.858325Z",
     "start_time": "2019-09-20T09:42:45.846367Z"
    }
   },
   "outputs": [],
   "source": [
    "song_directory = pd.read_csv('../song_directory.csv')"
   ]
  },
  {
   "cell_type": "code",
   "execution_count": 11,
   "metadata": {
    "ExecuteTime": {
     "end_time": "2019-09-20T09:42:46.665141Z",
     "start_time": "2019-09-20T09:42:46.658488Z"
    }
   },
   "outputs": [],
   "source": [
    "def get_chords(dataset_filter,sep):\n",
    "    \"\"\"Returns a dataframe with all chord data concatenated\n",
    "    Only uses datasets that contain the dataset_filter string\"\"\"\n",
    "    df = pd.DataFrame(columns=[\"start_time\",\"end_time\",\"chord\"])\n",
    "    for i, row in song_directory[song_directory.dataset.str.contains(dataset_filter)].iterrows():\n",
    "        df = df.append(pd.read_csv(f\"../{row['chord_filepath']}\",sep=sep,\n",
    "                     header=None,names=[\"start_time\",\"end_time\",\"chord\"]),ignore_index=True)\n",
    "    return df\n",
    "        "
   ]
  },
  {
   "cell_type": "code",
   "execution_count": 12,
   "metadata": {
    "ExecuteTime": {
     "end_time": "2019-09-20T09:42:52.262894Z",
     "start_time": "2019-09-20T09:42:47.361530Z"
    }
   },
   "outputs": [],
   "source": [
    "df_beatles = get_chords('isophonics/The Beatles',' ')\n",
    "df_queen = get_chords('isophonics/Queen','\\t')\n",
    "df_zweieck = get_chords('isophonics/Zweieck','\\t')\n",
    "df_mcgill = get_chords('mcgill','\\t')\n",
    "df_all = df_beatles.append(df_queen).append(df_zweieck).append(df_mcgill)"
   ]
  },
  {
   "cell_type": "code",
   "execution_count": 13,
   "metadata": {
    "ExecuteTime": {
     "end_time": "2019-09-20T09:42:52.269298Z",
     "start_time": "2019-09-20T09:42:52.264848Z"
    }
   },
   "outputs": [
    {
     "name": "stdout",
     "output_type": "stream",
     "text": [
      "total number of chords:\n",
      "Beatles: 14621\n",
      "Queen: 2411\n",
      "Zweieck: 1962\n",
      "McGill: 124895\n",
      "Total: 143889\n"
     ]
    }
   ],
   "source": [
    "print('total number of chords:')\n",
    "print(f'Beatles: {df_beatles.shape[0]}')\n",
    "print(f'Queen: {df_queen.shape[0]}')\n",
    "print(f'Zweieck: {df_zweieck.shape[0]}')\n",
    "print(f'McGill: {df_mcgill.shape[0]}')\n",
    "print(f'Total: {df_all.shape[0]}')"
   ]
  },
  {
   "cell_type": "code",
   "execution_count": 14,
   "metadata": {
    "ExecuteTime": {
     "end_time": "2019-09-20T09:43:07.624261Z",
     "start_time": "2019-09-20T09:43:07.596102Z"
    }
   },
   "outputs": [
    {
     "name": "stdout",
     "output_type": "stream",
     "text": [
      "number of unique chords:\n",
      "Beatles: 407\n",
      "Queen: 189\n",
      "Zweieck: 127\n",
      "McGill: 976\n",
      "Total: 1236\n"
     ]
    }
   ],
   "source": [
    "print('number of unique chords:')\n",
    "print(f'Beatles: {df_beatles.chord.unique().shape[0]}')\n",
    "print(f'Queen: {df_queen.chord.unique().shape[0]}')\n",
    "print(f'Zweieck: {df_zweieck.chord.unique().shape[0]}')\n",
    "print(f'McGill: {df_mcgill.chord.unique().shape[0]}')\n",
    "print(f'Total: {df_all.chord.unique().shape[0]}')"
   ]
  },
  {
   "cell_type": "markdown",
   "metadata": {},
   "source": [
    "# Chord interpretation\n",
    "[Return to Table of Contents](#Table-of-Contents)"
   ]
  },
  {
   "cell_type": "code",
   "execution_count": 343,
   "metadata": {
    "scrolled": true
   },
   "outputs": [
    {
     "data": {
      "text/plain": [
       "B:min(11)/4       3\n",
       "G:5(b7)           1\n",
       "D:maj6(b7,11)     4\n",
       "D:5(b7)          26\n",
       "B:sus2            1\n",
       "E:min/b7         97\n",
       "C:maj7/3          2\n",
       "G:sus2            2\n",
       "F/7               2\n",
       "F#:hdim7/b7       3\n",
       "Cb:maj9           2\n",
       "B:min7/5          5\n",
       "F:maj9(*7)        1\n",
       "F#:min(b13)       6\n",
       "Db:maj/2         69\n",
       "F/9               4\n",
       "E:maj/b5          4\n",
       "Ab:hdim7          3\n",
       "Db:7/5            2\n",
       "E:7(b13)/3        4\n",
       "Name: chord, dtype: int64"
      ]
     },
     "execution_count": 343,
     "metadata": {},
     "output_type": "execute_result"
    }
   ],
   "source": [
    "#sample chord formats\n",
    "df_all.chord.value_counts().sample(20)"
   ]
  },
  {
   "cell_type": "markdown",
   "metadata": {},
   "source": [
    "Time for some regular expressions!  It looks intimidating and probably a bit overly complicated.  But it's just matching the following four groups:\n",
    "- Root (e.g. F#)\n",
    "- shorthand for chord quality(e.g. min, min, sus4, hdim7) (optional)\n",
    "- added/removed notes (e.g. \\*5,b7 means 5th removed, b7 added) (optional)\n",
    "- Base (e.g. /3 means the bass plays the third) (optional)"
   ]
  },
  {
   "cell_type": "code",
   "execution_count": 16,
   "metadata": {},
   "outputs": [],
   "source": [
    "matchstr = r'^([^:(\\/]+):?([^(\\/]+)?(?:\\(([^)]+)\\))?(?:\\/(\\S*))?$'"
   ]
  },
  {
   "cell_type": "code",
   "execution_count": 17,
   "metadata": {},
   "outputs": [],
   "source": [
    "m = df_all['chord'].str.extract(matchstr)"
   ]
  },
  {
   "cell_type": "code",
   "execution_count": 18,
   "metadata": {
    "scrolled": true
   },
   "outputs": [
    {
     "data": {
      "text/plain": [
       "Series([], Name: chord, dtype: object)"
      ]
     },
     "execution_count": 18,
     "metadata": {},
     "output_type": "execute_result"
    }
   ],
   "source": [
    "#check that all chords matched\n",
    "df_all.chord[pd.isna(m[0])]"
   ]
  },
  {
   "cell_type": "markdown",
   "metadata": {},
   "source": [
    "Here's my strategy for interpreting chords.  I'm not going to bother retaining all the information, and will instead retain the following:\n",
    "1. Root (int format, C=0, Db=1,etc.; N=-1, X=nan)\n",
    "1. Quality (unison, power, maj, min, dim, aug, sus)\n",
    "1. Inversion (5 or 3, ignore all others)\n",
    "1. Added interval (only most \"important\" interval given from this list: min7, 9, 6, maj7, 4, tt, min6, min9)"
   ]
  },
  {
   "cell_type": "code",
   "execution_count": 19,
   "metadata": {},
   "outputs": [],
   "source": [
    "#define a function to get the root\n",
    "root_to_num = {'Cb':11,'C':0,'C#':1,'Db':1,'D':2,'D#':3,'Eb':3,'E':4,'E#':5,'Fb':4,'F':5,'F#':6,'Gb':6,\n",
    "              'G':7,'G#':8,'Ab':8,'A':9,'A#':10,'Bb':10,'B':11,'B#':0,'N':-1,'X':np.nan}\n",
    "#dict to put the root in readable format\n",
    "num_to_root = {0:'C',1:'Db',2:'D',3:'Eb',4:'E',5:'F',6:'F#',7:'G',8:'Ab',9:'A',10:'Bb',11:'B',-1:'~'}\n",
    "\n",
    "def get_root(row):\n",
    "    if row[1] == 'sus2':\n",
    "        return (root_to_num[row[0]] + 7) % 12\n",
    "    else:\n",
    "        return root_to_num[row[0]]"
   ]
  },
  {
   "cell_type": "code",
   "execution_count": 38,
   "metadata": {},
   "outputs": [],
   "source": [
    "#define a function to get chord quality (unison, power, maj, min, dim, aug, sus)\n",
    "shorthand_to_quality = {'1':'unison',\n",
    "                        '5':'power',\n",
    "                        'maj':'maj','min':'min','dim':'dim','aug':'aug','sus4':'sus',\n",
    "                        'sus2':'sus', #and change the root to the perfect 5th\n",
    "                        '7':'maj','min7':'min','maj7':'maj','hdim7':'dim','dim7':'dim','minmaj7':'min',\n",
    "                        'maj6':'maj','min6':'min',\n",
    "                        'min9':'min','maj9':'maj','9':'maj',\n",
    "                        '11':'maj','min11':'min','13':'maj','maj13':'maj','min13':'min'}\n",
    "\n",
    "def get_quality(row):\n",
    "    if row[1] in shorthand_to_quality:\n",
    "        return shorthand_to_quality[row[1]]\n",
    "    elif row[0] != 'N' and row[0] != 'X':\n",
    "        #some chords just aren't labeled properly, but I think they're major chords.\n",
    "        return 'maj'\n",
    "    else:\n",
    "        return np.nan"
   ]
  },
  {
   "cell_type": "code",
   "execution_count": 21,
   "metadata": {},
   "outputs": [],
   "source": [
    "#define function to get inversion\n",
    "def simplify_inversion(row):\n",
    "    if row[1] == 'sus2':\n",
    "        return np.nan\n",
    "    if row[3] in ['5','b5','#5','#4']:\n",
    "        return '5'\n",
    "    if row[3] in ['3','b3','b4']:\n",
    "        return '3'\n",
    "    else:\n",
    "        return np.nan"
   ]
  },
  {
   "cell_type": "code",
   "execution_count": 22,
   "metadata": {},
   "outputs": [],
   "source": [
    "#I want to create a column with the single most relevant added interval\n",
    "#first prioritizing info implied by the shorthand, with 13=6 > 11=4 > 2=9 > 7\n",
    "#second prioritizing the last interval listed among the added intervals\n",
    "shorthand_to_add = {'1':'',\n",
    "                    '5':'',\n",
    "                    'maj':'','min':'','dim':'','aug':'','sus4':'',#'sus2':'',\n",
    "                    '7':'min7','min7':'min7','maj7':'maj7','hdim7':'min7','dim7':'6','minmaj7':'maj7',\n",
    "                    'maj6':'6','min6':'6',\n",
    "                    'min9':'9','maj9':'9','9':'9',\n",
    "                    '11':'4','min11':'4','13':'6','maj13':'6','min13':'6'}\n",
    "\n",
    "interval_to_add = {'7':'maj7',\n",
    "                   'b7':'min7','#6':'min7',\n",
    "                   '9':'9','2':'9',\n",
    "                   'b9':'min9','b2':'min9',\n",
    "                    '11':'4','4':'4',\n",
    "                  '#11':'tt','#4':'tt','b5':'tt',\n",
    "                  '13':'6','6':'6',\n",
    "                   'b13':'min6','b6':'min6','#5':'min6'}\n",
    "\n",
    "def get_add(row):\n",
    "    if row[1] not in shorthand_to_add:\n",
    "        return np.nan\n",
    "    out = shorthand_to_add[row[1]]\n",
    "    if out:\n",
    "        return out\n",
    "    if not row[2]:\n",
    "        return np.nan\n",
    "    interval = str(row[2]).split(',')[-1]\n",
    "    if interval not in interval_to_add:\n",
    "        return np.nan\n",
    "    else:\n",
    "        return interval_to_add[interval]"
   ]
  },
  {
   "cell_type": "code",
   "execution_count": 39,
   "metadata": {},
   "outputs": [],
   "source": [
    "df_all['root'] = m.apply(lambda x: get_root(x),axis=1)\n",
    "df_all['quality'] = m.apply(lambda x: get_quality(x),axis=1)\n",
    "df_all['inversion'] = m.apply(lambda x: simplify_inversion(x),axis=1)\n",
    "df_all['add'] = m.apply(lambda x: get_add(x),axis=1)"
   ]
  },
  {
   "cell_type": "code",
   "execution_count": 416,
   "metadata": {},
   "outputs": [
    {
     "data": {
      "text/html": [
       "<div>\n",
       "<style scoped>\n",
       "    .dataframe tbody tr th:only-of-type {\n",
       "        vertical-align: middle;\n",
       "    }\n",
       "\n",
       "    .dataframe tbody tr th {\n",
       "        vertical-align: top;\n",
       "    }\n",
       "\n",
       "    .dataframe thead th {\n",
       "        text-align: right;\n",
       "    }\n",
       "</style>\n",
       "<table border=\"1\" class=\"dataframe\">\n",
       "  <thead>\n",
       "    <tr style=\"text-align: right;\">\n",
       "      <th></th>\n",
       "      <th>start_time</th>\n",
       "      <th>end_time</th>\n",
       "      <th>chord</th>\n",
       "      <th>root</th>\n",
       "      <th>quality</th>\n",
       "      <th>inversion</th>\n",
       "      <th>add</th>\n",
       "    </tr>\n",
       "  </thead>\n",
       "  <tbody>\n",
       "    <tr>\n",
       "      <td>58055</td>\n",
       "      <td>3.160723</td>\n",
       "      <td>4.005317</td>\n",
       "      <td>Ab:5</td>\n",
       "      <td>8.0</td>\n",
       "      <td>power</td>\n",
       "      <td>NaN</td>\n",
       "      <td>NaN</td>\n",
       "    </tr>\n",
       "    <tr>\n",
       "      <td>4875</td>\n",
       "      <td>132.418384</td>\n",
       "      <td>132.882531</td>\n",
       "      <td>A:sus4</td>\n",
       "      <td>9.0</td>\n",
       "      <td>sus</td>\n",
       "      <td>NaN</td>\n",
       "      <td>NaN</td>\n",
       "    </tr>\n",
       "    <tr>\n",
       "      <td>56729</td>\n",
       "      <td>134.783333</td>\n",
       "      <td>135.793243</td>\n",
       "      <td>B:1/1</td>\n",
       "      <td>11.0</td>\n",
       "      <td>unison</td>\n",
       "      <td>NaN</td>\n",
       "      <td>NaN</td>\n",
       "    </tr>\n",
       "    <tr>\n",
       "      <td>38398</td>\n",
       "      <td>199.266156</td>\n",
       "      <td>201.318141</td>\n",
       "      <td>Eb:maj</td>\n",
       "      <td>3.0</td>\n",
       "      <td>maj</td>\n",
       "      <td>NaN</td>\n",
       "      <td>NaN</td>\n",
       "    </tr>\n",
       "    <tr>\n",
       "      <td>109584</td>\n",
       "      <td>267.317021</td>\n",
       "      <td>269.497153</td>\n",
       "      <td>A:maj</td>\n",
       "      <td>9.0</td>\n",
       "      <td>maj</td>\n",
       "      <td>NaN</td>\n",
       "      <td>NaN</td>\n",
       "    </tr>\n",
       "    <tr>\n",
       "      <td>15666</td>\n",
       "      <td>162.592630</td>\n",
       "      <td>165.501973</td>\n",
       "      <td>A:maj</td>\n",
       "      <td>9.0</td>\n",
       "      <td>maj</td>\n",
       "      <td>NaN</td>\n",
       "      <td>NaN</td>\n",
       "    </tr>\n",
       "    <tr>\n",
       "      <td>94195</td>\n",
       "      <td>29.679790</td>\n",
       "      <td>31.287004</td>\n",
       "      <td>G#:min</td>\n",
       "      <td>8.0</td>\n",
       "      <td>min</td>\n",
       "      <td>NaN</td>\n",
       "      <td>NaN</td>\n",
       "    </tr>\n",
       "    <tr>\n",
       "      <td>109883</td>\n",
       "      <td>85.250476</td>\n",
       "      <td>86.026820</td>\n",
       "      <td>Bb:maj</td>\n",
       "      <td>10.0</td>\n",
       "      <td>maj</td>\n",
       "      <td>NaN</td>\n",
       "      <td>NaN</td>\n",
       "    </tr>\n",
       "    <tr>\n",
       "      <td>24619</td>\n",
       "      <td>168.005488</td>\n",
       "      <td>170.003492</td>\n",
       "      <td>D:min7</td>\n",
       "      <td>2.0</td>\n",
       "      <td>min</td>\n",
       "      <td>NaN</td>\n",
       "      <td>min7</td>\n",
       "    </tr>\n",
       "    <tr>\n",
       "      <td>74004</td>\n",
       "      <td>176.906213</td>\n",
       "      <td>179.432812</td>\n",
       "      <td>F:min</td>\n",
       "      <td>5.0</td>\n",
       "      <td>min</td>\n",
       "      <td>NaN</td>\n",
       "      <td>NaN</td>\n",
       "    </tr>\n",
       "    <tr>\n",
       "      <td>85625</td>\n",
       "      <td>103.464067</td>\n",
       "      <td>103.757385</td>\n",
       "      <td>C:1/1</td>\n",
       "      <td>0.0</td>\n",
       "      <td>unison</td>\n",
       "      <td>NaN</td>\n",
       "      <td>NaN</td>\n",
       "    </tr>\n",
       "    <tr>\n",
       "      <td>6213</td>\n",
       "      <td>169.199229</td>\n",
       "      <td>171.479478</td>\n",
       "      <td>A:maj</td>\n",
       "      <td>9.0</td>\n",
       "      <td>maj</td>\n",
       "      <td>NaN</td>\n",
       "      <td>NaN</td>\n",
       "    </tr>\n",
       "    <tr>\n",
       "      <td>94505</td>\n",
       "      <td>12.144892</td>\n",
       "      <td>13.281921</td>\n",
       "      <td>Bb:maj</td>\n",
       "      <td>10.0</td>\n",
       "      <td>maj</td>\n",
       "      <td>NaN</td>\n",
       "      <td>NaN</td>\n",
       "    </tr>\n",
       "    <tr>\n",
       "      <td>98235</td>\n",
       "      <td>14.994915</td>\n",
       "      <td>16.067316</td>\n",
       "      <td>E:maj</td>\n",
       "      <td>4.0</td>\n",
       "      <td>maj</td>\n",
       "      <td>NaN</td>\n",
       "      <td>NaN</td>\n",
       "    </tr>\n",
       "    <tr>\n",
       "      <td>79944</td>\n",
       "      <td>44.292472</td>\n",
       "      <td>45.700998</td>\n",
       "      <td>G:7</td>\n",
       "      <td>7.0</td>\n",
       "      <td>maj</td>\n",
       "      <td>NaN</td>\n",
       "      <td>min7</td>\n",
       "    </tr>\n",
       "    <tr>\n",
       "      <td>69295</td>\n",
       "      <td>57.582265</td>\n",
       "      <td>59.065119</td>\n",
       "      <td>A:maj7/7</td>\n",
       "      <td>9.0</td>\n",
       "      <td>maj</td>\n",
       "      <td>NaN</td>\n",
       "      <td>maj7</td>\n",
       "    </tr>\n",
       "    <tr>\n",
       "      <td>390</td>\n",
       "      <td>218.948288</td>\n",
       "      <td>219.495283</td>\n",
       "      <td>C:maj</td>\n",
       "      <td>0.0</td>\n",
       "      <td>maj</td>\n",
       "      <td>NaN</td>\n",
       "      <td>NaN</td>\n",
       "    </tr>\n",
       "    <tr>\n",
       "      <td>67184</td>\n",
       "      <td>279.230249</td>\n",
       "      <td>280.919955</td>\n",
       "      <td>Eb:maj</td>\n",
       "      <td>3.0</td>\n",
       "      <td>maj</td>\n",
       "      <td>NaN</td>\n",
       "      <td>NaN</td>\n",
       "    </tr>\n",
       "    <tr>\n",
       "      <td>69006</td>\n",
       "      <td>259.700658</td>\n",
       "      <td>261.155215</td>\n",
       "      <td>F#:min7</td>\n",
       "      <td>6.0</td>\n",
       "      <td>min</td>\n",
       "      <td>NaN</td>\n",
       "      <td>min7</td>\n",
       "    </tr>\n",
       "    <tr>\n",
       "      <td>44882</td>\n",
       "      <td>260.325714</td>\n",
       "      <td>260.960669</td>\n",
       "      <td>E:sus4(b7,9,13)</td>\n",
       "      <td>4.0</td>\n",
       "      <td>sus</td>\n",
       "      <td>NaN</td>\n",
       "      <td>6</td>\n",
       "    </tr>\n",
       "  </tbody>\n",
       "</table>\n",
       "</div>"
      ],
      "text/plain": [
       "        start_time    end_time            chord  root quality inversion   add\n",
       "58055     3.160723    4.005317             Ab:5   8.0   power       NaN   NaN\n",
       "4875    132.418384  132.882531           A:sus4   9.0     sus       NaN   NaN\n",
       "56729   134.783333  135.793243            B:1/1  11.0  unison       NaN   NaN\n",
       "38398   199.266156  201.318141           Eb:maj   3.0     maj       NaN   NaN\n",
       "109584  267.317021  269.497153            A:maj   9.0     maj       NaN   NaN\n",
       "15666   162.592630  165.501973            A:maj   9.0     maj       NaN   NaN\n",
       "94195    29.679790   31.287004           G#:min   8.0     min       NaN   NaN\n",
       "109883   85.250476   86.026820           Bb:maj  10.0     maj       NaN   NaN\n",
       "24619   168.005488  170.003492           D:min7   2.0     min       NaN  min7\n",
       "74004   176.906213  179.432812            F:min   5.0     min       NaN   NaN\n",
       "85625   103.464067  103.757385            C:1/1   0.0  unison       NaN   NaN\n",
       "6213    169.199229  171.479478            A:maj   9.0     maj       NaN   NaN\n",
       "94505    12.144892   13.281921           Bb:maj  10.0     maj       NaN   NaN\n",
       "98235    14.994915   16.067316            E:maj   4.0     maj       NaN   NaN\n",
       "79944    44.292472   45.700998              G:7   7.0     maj       NaN  min7\n",
       "69295    57.582265   59.065119         A:maj7/7   9.0     maj       NaN  maj7\n",
       "390     218.948288  219.495283            C:maj   0.0     maj       NaN   NaN\n",
       "67184   279.230249  280.919955           Eb:maj   3.0     maj       NaN   NaN\n",
       "69006   259.700658  261.155215          F#:min7   6.0     min       NaN  min7\n",
       "44882   260.325714  260.960669  E:sus4(b7,9,13)   4.0     sus       NaN     6"
      ]
     },
     "execution_count": 416,
     "metadata": {},
     "output_type": "execute_result"
    }
   ],
   "source": [
    "df_all.sample(20)"
   ]
  },
  {
   "cell_type": "markdown",
   "metadata": {},
   "source": [
    "Okay, now I'm satisfied with this procedure, and will transfer it over to a .py file.\n",
    "\n",
    "`chord_loader.py`\n",
    "\n",
    "ETA: I later renamed and reworked this model, so this code will no longer work"
   ]
  },
  {
   "cell_type": "code",
   "execution_count": 27,
   "metadata": {
    "scrolled": true
   },
   "outputs": [
    {
     "data": {
      "text/html": [
       "<div>\n",
       "<style scoped>\n",
       "    .dataframe tbody tr th:only-of-type {\n",
       "        vertical-align: middle;\n",
       "    }\n",
       "\n",
       "    .dataframe tbody tr th {\n",
       "        vertical-align: top;\n",
       "    }\n",
       "\n",
       "    .dataframe thead th {\n",
       "        text-align: right;\n",
       "    }\n",
       "</style>\n",
       "<table border=\"1\" class=\"dataframe\">\n",
       "  <thead>\n",
       "    <tr style=\"text-align: right;\">\n",
       "      <th></th>\n",
       "      <th>start_time</th>\n",
       "      <th>end_time</th>\n",
       "      <th>chord</th>\n",
       "      <th>root</th>\n",
       "      <th>quality</th>\n",
       "      <th>add</th>\n",
       "      <th>inversion</th>\n",
       "    </tr>\n",
       "  </thead>\n",
       "  <tbody>\n",
       "    <tr>\n",
       "      <td>7359</td>\n",
       "      <td>33.698526</td>\n",
       "      <td>36.821609</td>\n",
       "      <td>A</td>\n",
       "      <td>9</td>\n",
       "      <td>NaN</td>\n",
       "      <td>NaN</td>\n",
       "      <td>NaN</td>\n",
       "    </tr>\n",
       "    <tr>\n",
       "      <td>11892</td>\n",
       "      <td>101.222154</td>\n",
       "      <td>103.184240</td>\n",
       "      <td>A</td>\n",
       "      <td>9</td>\n",
       "      <td>NaN</td>\n",
       "      <td>NaN</td>\n",
       "      <td>NaN</td>\n",
       "    </tr>\n",
       "    <tr>\n",
       "      <td>2060</td>\n",
       "      <td>58.382831</td>\n",
       "      <td>61.157616</td>\n",
       "      <td>A</td>\n",
       "      <td>9</td>\n",
       "      <td>NaN</td>\n",
       "      <td>NaN</td>\n",
       "      <td>NaN</td>\n",
       "    </tr>\n",
       "    <tr>\n",
       "      <td>2925</td>\n",
       "      <td>105.352186</td>\n",
       "      <td>106.350644</td>\n",
       "      <td>E</td>\n",
       "      <td>4</td>\n",
       "      <td>NaN</td>\n",
       "      <td>NaN</td>\n",
       "      <td>NaN</td>\n",
       "    </tr>\n",
       "    <tr>\n",
       "      <td>9629</td>\n",
       "      <td>2.163680</td>\n",
       "      <td>4.001851</td>\n",
       "      <td>D/5</td>\n",
       "      <td>2</td>\n",
       "      <td>NaN</td>\n",
       "      <td>NaN</td>\n",
       "      <td>5</td>\n",
       "    </tr>\n",
       "    <tr>\n",
       "      <td>10816</td>\n",
       "      <td>138.687551</td>\n",
       "      <td>139.767278</td>\n",
       "      <td>A</td>\n",
       "      <td>9</td>\n",
       "      <td>NaN</td>\n",
       "      <td>NaN</td>\n",
       "      <td>NaN</td>\n",
       "    </tr>\n",
       "    <tr>\n",
       "      <td>11758</td>\n",
       "      <td>66.311114</td>\n",
       "      <td>67.274742</td>\n",
       "      <td>G</td>\n",
       "      <td>7</td>\n",
       "      <td>NaN</td>\n",
       "      <td>NaN</td>\n",
       "      <td>NaN</td>\n",
       "    </tr>\n",
       "    <tr>\n",
       "      <td>13557</td>\n",
       "      <td>24.282834</td>\n",
       "      <td>25.734081</td>\n",
       "      <td>C#:min</td>\n",
       "      <td>1</td>\n",
       "      <td>min</td>\n",
       "      <td>NaN</td>\n",
       "      <td>NaN</td>\n",
       "    </tr>\n",
       "    <tr>\n",
       "      <td>11813</td>\n",
       "      <td>123.176783</td>\n",
       "      <td>124.987939</td>\n",
       "      <td>C</td>\n",
       "      <td>0</td>\n",
       "      <td>NaN</td>\n",
       "      <td>NaN</td>\n",
       "      <td>NaN</td>\n",
       "    </tr>\n",
       "    <tr>\n",
       "      <td>12834</td>\n",
       "      <td>120.692086</td>\n",
       "      <td>122.004013</td>\n",
       "      <td>Bb</td>\n",
       "      <td>10</td>\n",
       "      <td>NaN</td>\n",
       "      <td>NaN</td>\n",
       "      <td>NaN</td>\n",
       "    </tr>\n",
       "  </tbody>\n",
       "</table>\n",
       "</div>"
      ],
      "text/plain": [
       "       start_time    end_time   chord  root quality  add inversion\n",
       "7359    33.698526   36.821609       A     9     NaN  NaN       NaN\n",
       "11892  101.222154  103.184240       A     9     NaN  NaN       NaN\n",
       "2060    58.382831   61.157616       A     9     NaN  NaN       NaN\n",
       "2925   105.352186  106.350644       E     4     NaN  NaN       NaN\n",
       "9629     2.163680    4.001851     D/5     2     NaN  NaN         5\n",
       "10816  138.687551  139.767278       A     9     NaN  NaN       NaN\n",
       "11758   66.311114   67.274742       G     7     NaN  NaN       NaN\n",
       "13557   24.282834   25.734081  C#:min     1     min  NaN       NaN\n",
       "11813  123.176783  124.987939       C     0     NaN  NaN       NaN\n",
       "12834  120.692086  122.004013      Bb    10     NaN  NaN       NaN"
      ]
     },
     "execution_count": 27,
     "metadata": {},
     "output_type": "execute_result"
    }
   ],
   "source": [
    "#quick test that it works\n",
    "sys.path.append('..')\n",
    "import chord_loader\n",
    "chord_loader.chord_simplify(df_beatles)\n",
    "df_beatles.sample(10)"
   ]
  },
  {
   "cell_type": "code",
   "execution_count": 28,
   "metadata": {},
   "outputs": [
    {
     "data": {
      "text/html": [
       "<div>\n",
       "<style scoped>\n",
       "    .dataframe tbody tr th:only-of-type {\n",
       "        vertical-align: middle;\n",
       "    }\n",
       "\n",
       "    .dataframe tbody tr th {\n",
       "        vertical-align: top;\n",
       "    }\n",
       "\n",
       "    .dataframe thead th {\n",
       "        text-align: right;\n",
       "    }\n",
       "</style>\n",
       "<table border=\"1\" class=\"dataframe\">\n",
       "  <thead>\n",
       "    <tr style=\"text-align: right;\">\n",
       "      <th></th>\n",
       "      <th>start_time</th>\n",
       "      <th>end_time</th>\n",
       "      <th>chord</th>\n",
       "      <th>root</th>\n",
       "      <th>quality</th>\n",
       "      <th>add</th>\n",
       "      <th>inversion</th>\n",
       "    </tr>\n",
       "  </thead>\n",
       "  <tbody>\n",
       "    <tr>\n",
       "      <td>0</td>\n",
       "      <td>0.000000</td>\n",
       "      <td>0.459543</td>\n",
       "      <td>N</td>\n",
       "      <td>-1</td>\n",
       "      <td>NaN</td>\n",
       "      <td>NaN</td>\n",
       "      <td>NaN</td>\n",
       "    </tr>\n",
       "    <tr>\n",
       "      <td>1</td>\n",
       "      <td>0.459543</td>\n",
       "      <td>1.340333</td>\n",
       "      <td>E:min</td>\n",
       "      <td>4</td>\n",
       "      <td>min</td>\n",
       "      <td>NaN</td>\n",
       "      <td>NaN</td>\n",
       "    </tr>\n",
       "    <tr>\n",
       "      <td>2</td>\n",
       "      <td>1.340333</td>\n",
       "      <td>2.278566</td>\n",
       "      <td>A</td>\n",
       "      <td>9</td>\n",
       "      <td>NaN</td>\n",
       "      <td>NaN</td>\n",
       "      <td>NaN</td>\n",
       "    </tr>\n",
       "    <tr>\n",
       "      <td>3</td>\n",
       "      <td>2.278566</td>\n",
       "      <td>2.948732</td>\n",
       "      <td>E:min</td>\n",
       "      <td>4</td>\n",
       "      <td>min</td>\n",
       "      <td>NaN</td>\n",
       "      <td>NaN</td>\n",
       "    </tr>\n",
       "    <tr>\n",
       "      <td>4</td>\n",
       "      <td>2.948732</td>\n",
       "      <td>3.389127</td>\n",
       "      <td>A</td>\n",
       "      <td>9</td>\n",
       "      <td>NaN</td>\n",
       "      <td>NaN</td>\n",
       "      <td>NaN</td>\n",
       "    </tr>\n",
       "    <tr>\n",
       "      <td>5</td>\n",
       "      <td>3.389127</td>\n",
       "      <td>4.102040</td>\n",
       "      <td>G</td>\n",
       "      <td>7</td>\n",
       "      <td>NaN</td>\n",
       "      <td>NaN</td>\n",
       "      <td>NaN</td>\n",
       "    </tr>\n",
       "    <tr>\n",
       "      <td>6</td>\n",
       "      <td>4.102040</td>\n",
       "      <td>5.007619</td>\n",
       "      <td>E:min</td>\n",
       "      <td>4</td>\n",
       "      <td>min</td>\n",
       "      <td>NaN</td>\n",
       "      <td>NaN</td>\n",
       "    </tr>\n",
       "    <tr>\n",
       "      <td>7</td>\n",
       "      <td>5.007619</td>\n",
       "      <td>5.878367</td>\n",
       "      <td>A</td>\n",
       "      <td>9</td>\n",
       "      <td>NaN</td>\n",
       "      <td>NaN</td>\n",
       "      <td>NaN</td>\n",
       "    </tr>\n",
       "    <tr>\n",
       "      <td>8</td>\n",
       "      <td>5.878367</td>\n",
       "      <td>6.586576</td>\n",
       "      <td>E:min</td>\n",
       "      <td>4</td>\n",
       "      <td>min</td>\n",
       "      <td>NaN</td>\n",
       "      <td>NaN</td>\n",
       "    </tr>\n",
       "    <tr>\n",
       "      <td>9</td>\n",
       "      <td>6.586576</td>\n",
       "      <td>7.062585</td>\n",
       "      <td>A</td>\n",
       "      <td>9</td>\n",
       "      <td>NaN</td>\n",
       "      <td>NaN</td>\n",
       "      <td>NaN</td>\n",
       "    </tr>\n",
       "  </tbody>\n",
       "</table>\n",
       "</div>"
      ],
      "text/plain": [
       "   start_time  end_time  chord  root quality  add inversion\n",
       "0    0.000000  0.459543      N    -1     NaN  NaN       NaN\n",
       "1    0.459543  1.340333  E:min     4     min  NaN       NaN\n",
       "2    1.340333  2.278566      A     9     NaN  NaN       NaN\n",
       "3    2.278566  2.948732  E:min     4     min  NaN       NaN\n",
       "4    2.948732  3.389127      A     9     NaN  NaN       NaN\n",
       "5    3.389127  4.102040      G     7     NaN  NaN       NaN\n",
       "6    4.102040  5.007619  E:min     4     min  NaN       NaN\n",
       "7    5.007619  5.878367      A     9     NaN  NaN       NaN\n",
       "8    5.878367  6.586576  E:min     4     min  NaN       NaN\n",
       "9    6.586576  7.062585      A     9     NaN  NaN       NaN"
      ]
     },
     "execution_count": 28,
     "metadata": {},
     "output_type": "execute_result"
    }
   ],
   "source": [
    "df_beatles.head(10)"
   ]
  },
  {
   "cell_type": "code",
   "execution_count": 29,
   "metadata": {},
   "outputs": [
    {
     "data": {
      "text/plain": [
       "0         N\n",
       "2         A\n",
       "4         A\n",
       "5         G\n",
       "7         A\n",
       "         ..\n",
       "124750    N\n",
       "124751    N\n",
       "124752    N\n",
       "124753    N\n",
       "124894    N\n",
       "Name: chord, Length: 16928, dtype: object"
      ]
     },
     "execution_count": 29,
     "metadata": {},
     "output_type": "execute_result"
    }
   ],
   "source": [
    "df_all.chord[pd.isna(m[1])]"
   ]
  },
  {
   "cell_type": "markdown",
   "metadata": {},
   "source": [
    "# Characterization\n",
    "[Return to Table of Contents](#Table-of-Contents)"
   ]
  },
  {
   "cell_type": "code",
   "execution_count": 30,
   "metadata": {},
   "outputs": [
    {
     "data": {
      "image/png": "[encoded data removed]",
      "text/plain": [
       "<Figure size 432x288 with 1 Axes>"
      ]
     },
     "metadata": {},
     "output_type": "display_data"
    }
   ],
   "source": [
    "quality_counts = df_all.quality.value_counts(dropna=False)\n",
    "plt.pie(quality_counts,labels=quality_counts.index);"
   ]
  },
  {
   "cell_type": "code",
   "execution_count": 31,
   "metadata": {},
   "outputs": [
    {
     "data": {
      "image/png": "[encoded data removed]",
      "text/plain": [
       "<Figure size 432x288 with 1 Axes>"
      ]
     },
     "metadata": {},
     "output_type": "display_data"
    }
   ],
   "source": [
    "root_counts = df_all.root.value_counts(dropna=True)\n",
    "plt.pie(root_counts,labels=[num_to_root[x] for x in root_counts.index]);"
   ]
  },
  {
   "cell_type": "code",
   "execution_count": 32,
   "metadata": {},
   "outputs": [
    {
     "data": {
      "image/png": "[encoded data removed]",
      "text/plain": [
       "<Figure size 432x288 with 1 Axes>"
      ]
     },
     "metadata": {},
     "output_type": "display_data"
    }
   ],
   "source": [
    "inv_counts = df_all.inversion.value_counts(dropna=False)\n",
    "plt.pie(inv_counts,labels=inv_counts.index);"
   ]
  },
  {
   "cell_type": "code",
   "execution_count": 33,
   "metadata": {},
   "outputs": [
    {
     "data": {
      "image/png": "[encoded data removed]",
      "text/plain": [
       "<Figure size 432x288 with 1 Axes>"
      ]
     },
     "metadata": {},
     "output_type": "display_data"
    }
   ],
   "source": [
    "add_counts = df_all['add'].value_counts(dropna=False)\n",
    "plt.pie(add_counts,labels=add_counts.index);"
   ]
  },
  {
   "cell_type": "markdown",
   "metadata": {},
   "source": [
    "Based on the pie charts, the difficulty of classifying different aspects of the chords goes in the following order:\n",
    "1. root\n",
    "1. quality\n",
    "1. add (min7, 9, maj7, 6 only)\n",
    "1. inversion\n",
    "1. other add"
   ]
  },
  {
   "cell_type": "code",
   "execution_count": 58,
   "metadata": {},
   "outputs": [
    {
     "data": {
      "image/png": "[encoded data removed]",
      "text/plain": [
       "<Figure size 432x288 with 1 Axes>"
      ]
     },
     "metadata": {
      "needs_background": "light"
     },
     "output_type": "display_data"
    }
   ],
   "source": [
    "chord_length = df_all['end_time']-df_all['start_time']\n",
    "length_hist = plt.hist(chord_length,bins=np.arange(0,5,.1));"
   ]
  },
  {
   "cell_type": "code",
   "execution_count": 73,
   "metadata": {},
   "outputs": [
    {
     "name": "stdout",
     "output_type": "stream",
     "text": [
      "0.13044056315951522\n"
     ]
    },
    {
     "data": {
      "image/png": "[encoded data removed]",
      "text/plain": [
       "<Figure size 432x288 with 1 Axes>"
      ]
     },
     "metadata": {
      "needs_background": "light"
     },
     "output_type": "display_data"
    }
   ],
   "source": [
    "length_cumsum = np.cumsum(length_hist[0])/np.sum(length_hist[0])\n",
    "plt.plot(np.arange(0,4.9,.1),length_cumsum);\n",
    "print(length_cumsum[6])"
   ]
  },
  {
   "cell_type": "markdown",
   "metadata": {},
   "source": [
    "## Better figures"
   ]
  },
  {
   "cell_type": "code",
   "execution_count": 49,
   "metadata": {
    "ExecuteTime": {
     "end_time": "2019-09-20T10:00:40.721646Z",
     "start_time": "2019-09-20T10:00:40.716308Z"
    }
   },
   "outputs": [],
   "source": [
    "sys.path.append('..')\n",
    "import chord_loader"
   ]
  },
  {
   "cell_type": "code",
   "execution_count": 50,
   "metadata": {
    "ExecuteTime": {
     "end_time": "2019-09-20T10:00:40.930152Z",
     "start_time": "2019-09-20T10:00:40.924454Z"
    }
   },
   "outputs": [],
   "source": [
    "valid_directory = song_directory.loc[~pd.isna(song_directory['mp3_filepath'])]"
   ]
  },
  {
   "cell_type": "code",
   "execution_count": 51,
   "metadata": {
    "ExecuteTime": {
     "end_time": "2019-09-20T10:01:54.408429Z",
     "start_time": "2019-09-20T10:00:42.097784Z"
    }
   },
   "outputs": [],
   "source": [
    "#just get chords\n",
    "all_labels = np.ndarray((0,4))\n",
    "for i, row in valid_directory.iterrows():\n",
    "    if row.dataset == 'isophonics/The Beatles':\n",
    "        sep = ' '\n",
    "    else:\n",
    "        sep = '\\t'\n",
    "    song_labels = chord_loader.get_labels('../'+row.chord_filepath,sep,0.5)\n",
    "    all_labels = np.concatenate((all_labels,song_labels),axis=0)"
   ]
  },
  {
   "cell_type": "code",
   "execution_count": 68,
   "metadata": {
    "ExecuteTime": {
     "end_time": "2019-09-20T10:10:53.341436Z",
     "start_time": "2019-09-20T10:10:53.335644Z"
    }
   },
   "outputs": [
    {
     "data": {
      "text/plain": [
       "(338736, 4)"
      ]
     },
     "execution_count": 68,
     "metadata": {},
     "output_type": "execute_result"
    }
   ],
   "source": [
    "all_labels.shape"
   ]
  },
  {
   "cell_type": "code",
   "execution_count": 74,
   "metadata": {
    "ExecuteTime": {
     "end_time": "2019-09-20T10:15:48.385736Z",
     "start_time": "2019-09-20T10:15:48.280778Z"
    }
   },
   "outputs": [
    {
     "data": {
      "image/png": "[encoded data removed]",
      "text/plain": [
       "<Figure size 432x288 with 1 Axes>"
      ]
     },
     "metadata": {},
     "output_type": "display_data"
    }
   ],
   "source": [
    "root_unique, root_counts = np.unique(all_labels[:,0], return_counts=True)\n",
    "root_counts = root_counts[~np.isnan(root_unique)]\n",
    "roots = [chord_loader.num_to_root[x] for x in root_unique[~np.isnan(root_unique)]]\n",
    "plt.pie(root_counts,labels=roots)\n",
    "plt.tight_layout()\n",
    "plt.rc('font', size=20)\n",
    "plt.savefig('images/pie_root')"
   ]
  },
  {
   "cell_type": "code",
   "execution_count": 72,
   "metadata": {
    "ExecuteTime": {
     "end_time": "2019-09-20T10:14:57.566895Z",
     "start_time": "2019-09-20T10:14:57.481263Z"
    }
   },
   "outputs": [
    {
     "data": {
      "image/png": "[encoded data removed]",
      "text/plain": [
       "<Figure size 432x288 with 1 Axes>"
      ]
     },
     "metadata": {},
     "output_type": "display_data"
    }
   ],
   "source": [
    "quality_unique, quality_counts = np.unique(all_labels[:,1], return_counts=True)\n",
    "quality_counts = quality_counts[~np.isnan(quality_unique)]\n",
    "qualities = [chord_loader.num_to_quality[x] for x in quality_unique[~np.isnan(quality_unique)]]\n",
    "plt.pie(quality_counts,labels=qualities)\n",
    "plt.tight_layout()\n",
    "plt.rc('font', size=15)\n",
    "plt.savefig('images/pie_quality')"
   ]
  },
  {
   "cell_type": "code",
   "execution_count": 75,
   "metadata": {
    "ExecuteTime": {
     "end_time": "2019-09-20T10:15:52.755500Z",
     "start_time": "2019-09-20T10:15:52.559268Z"
    }
   },
   "outputs": [
    {
     "data": {
      "image/png": "[encoded data removed]",
      "text/plain": [
       "<Figure size 432x288 with 1 Axes>"
      ]
     },
     "metadata": {},
     "output_type": "display_data"
    }
   ],
   "source": [
    "add_unique, add_counts = np.unique(all_labels[:,1], return_counts=True)\n",
    "add_counts = add_counts[~np.isnan(add_unique)]\n",
    "adds = [chord_loader.num_to_add[x] for x in add_unique[~np.isnan(add_unique)]]\n",
    "plt.pie(add_counts,labels=adds)\n",
    "plt.tight_layout()\n",
    "plt.rc('font', size=15)\n",
    "plt.savefig('images/pie_add')"
   ]
  },
  {
   "cell_type": "code",
   "execution_count": 76,
   "metadata": {
    "ExecuteTime": {
     "end_time": "2019-09-20T10:15:54.539755Z",
     "start_time": "2019-09-20T10:15:54.506870Z"
    }
   },
   "outputs": [
    {
     "ename": "KeyError",
     "evalue": "3.0",
     "output_type": "error",
     "traceback": [
      "\u001b[0;31m---------------------------------------------------------------------------\u001b[0m",
      "\u001b[0;31mKeyError\u001b[0m                                  Traceback (most recent call last)",
      "\u001b[0;32m<ipython-input-76-f98959ad27b2>\u001b[0m in \u001b[0;36m<module>\u001b[0;34m\u001b[0m\n\u001b[1;32m      1\u001b[0m \u001b[0minv_unique\u001b[0m\u001b[0;34m,\u001b[0m \u001b[0minv_counts\u001b[0m \u001b[0;34m=\u001b[0m \u001b[0mnp\u001b[0m\u001b[0;34m.\u001b[0m\u001b[0munique\u001b[0m\u001b[0;34m(\u001b[0m\u001b[0mall_labels\u001b[0m\u001b[0;34m[\u001b[0m\u001b[0;34m:\u001b[0m\u001b[0;34m,\u001b[0m\u001b[0;36m1\u001b[0m\u001b[0;34m]\u001b[0m\u001b[0;34m,\u001b[0m \u001b[0mreturn_counts\u001b[0m\u001b[0;34m=\u001b[0m\u001b[0;32mTrue\u001b[0m\u001b[0;34m)\u001b[0m\u001b[0;34m\u001b[0m\u001b[0;34m\u001b[0m\u001b[0m\n\u001b[1;32m      2\u001b[0m \u001b[0minv_counts\u001b[0m \u001b[0;34m=\u001b[0m \u001b[0minv_counts\u001b[0m\u001b[0;34m[\u001b[0m\u001b[0;34m~\u001b[0m\u001b[0mnp\u001b[0m\u001b[0;34m.\u001b[0m\u001b[0misnan\u001b[0m\u001b[0;34m(\u001b[0m\u001b[0minv_unique\u001b[0m\u001b[0;34m)\u001b[0m\u001b[0;34m]\u001b[0m\u001b[0;34m\u001b[0m\u001b[0;34m\u001b[0m\u001b[0m\n\u001b[0;32m----> 3\u001b[0;31m \u001b[0minvs\u001b[0m \u001b[0;34m=\u001b[0m \u001b[0;34m[\u001b[0m\u001b[0mchord_loader\u001b[0m\u001b[0;34m.\u001b[0m\u001b[0mnum_to_inv\u001b[0m\u001b[0;34m[\u001b[0m\u001b[0mx\u001b[0m\u001b[0;34m]\u001b[0m \u001b[0;32mfor\u001b[0m \u001b[0mx\u001b[0m \u001b[0;32min\u001b[0m \u001b[0minv_unique\u001b[0m\u001b[0;34m[\u001b[0m\u001b[0;34m~\u001b[0m\u001b[0mnp\u001b[0m\u001b[0;34m.\u001b[0m\u001b[0misnan\u001b[0m\u001b[0;34m(\u001b[0m\u001b[0minv_unique\u001b[0m\u001b[0;34m)\u001b[0m\u001b[0;34m]\u001b[0m\u001b[0;34m]\u001b[0m\u001b[0;34m\u001b[0m\u001b[0;34m\u001b[0m\u001b[0m\n\u001b[0m\u001b[1;32m      4\u001b[0m \u001b[0mplt\u001b[0m\u001b[0;34m.\u001b[0m\u001b[0mpie\u001b[0m\u001b[0;34m(\u001b[0m\u001b[0minv_counts\u001b[0m\u001b[0;34m,\u001b[0m\u001b[0mlabels\u001b[0m\u001b[0;34m=\u001b[0m\u001b[0minvs\u001b[0m\u001b[0;34m)\u001b[0m\u001b[0;34m\u001b[0m\u001b[0;34m\u001b[0m\u001b[0m\n\u001b[1;32m      5\u001b[0m \u001b[0mplt\u001b[0m\u001b[0;34m.\u001b[0m\u001b[0mtight_layout\u001b[0m\u001b[0;34m(\u001b[0m\u001b[0;34m)\u001b[0m\u001b[0;34m\u001b[0m\u001b[0;34m\u001b[0m\u001b[0m\n",
      "\u001b[0;32m<ipython-input-76-f98959ad27b2>\u001b[0m in \u001b[0;36m<listcomp>\u001b[0;34m(.0)\u001b[0m\n\u001b[1;32m      1\u001b[0m \u001b[0minv_unique\u001b[0m\u001b[0;34m,\u001b[0m \u001b[0minv_counts\u001b[0m \u001b[0;34m=\u001b[0m \u001b[0mnp\u001b[0m\u001b[0;34m.\u001b[0m\u001b[0munique\u001b[0m\u001b[0;34m(\u001b[0m\u001b[0mall_labels\u001b[0m\u001b[0;34m[\u001b[0m\u001b[0;34m:\u001b[0m\u001b[0;34m,\u001b[0m\u001b[0;36m1\u001b[0m\u001b[0;34m]\u001b[0m\u001b[0;34m,\u001b[0m \u001b[0mreturn_counts\u001b[0m\u001b[0;34m=\u001b[0m\u001b[0;32mTrue\u001b[0m\u001b[0;34m)\u001b[0m\u001b[0;34m\u001b[0m\u001b[0;34m\u001b[0m\u001b[0m\n\u001b[1;32m      2\u001b[0m \u001b[0minv_counts\u001b[0m \u001b[0;34m=\u001b[0m \u001b[0minv_counts\u001b[0m\u001b[0;34m[\u001b[0m\u001b[0;34m~\u001b[0m\u001b[0mnp\u001b[0m\u001b[0;34m.\u001b[0m\u001b[0misnan\u001b[0m\u001b[0;34m(\u001b[0m\u001b[0minv_unique\u001b[0m\u001b[0;34m)\u001b[0m\u001b[0;34m]\u001b[0m\u001b[0;34m\u001b[0m\u001b[0;34m\u001b[0m\u001b[0m\n\u001b[0;32m----> 3\u001b[0;31m \u001b[0minvs\u001b[0m \u001b[0;34m=\u001b[0m \u001b[0;34m[\u001b[0m\u001b[0mchord_loader\u001b[0m\u001b[0;34m.\u001b[0m\u001b[0mnum_to_inv\u001b[0m\u001b[0;34m[\u001b[0m\u001b[0mx\u001b[0m\u001b[0;34m]\u001b[0m \u001b[0;32mfor\u001b[0m \u001b[0mx\u001b[0m \u001b[0;32min\u001b[0m \u001b[0minv_unique\u001b[0m\u001b[0;34m[\u001b[0m\u001b[0;34m~\u001b[0m\u001b[0mnp\u001b[0m\u001b[0;34m.\u001b[0m\u001b[0misnan\u001b[0m\u001b[0;34m(\u001b[0m\u001b[0minv_unique\u001b[0m\u001b[0;34m)\u001b[0m\u001b[0;34m]\u001b[0m\u001b[0;34m]\u001b[0m\u001b[0;34m\u001b[0m\u001b[0;34m\u001b[0m\u001b[0m\n\u001b[0m\u001b[1;32m      4\u001b[0m \u001b[0mplt\u001b[0m\u001b[0;34m.\u001b[0m\u001b[0mpie\u001b[0m\u001b[0;34m(\u001b[0m\u001b[0minv_counts\u001b[0m\u001b[0;34m,\u001b[0m\u001b[0mlabels\u001b[0m\u001b[0;34m=\u001b[0m\u001b[0minvs\u001b[0m\u001b[0;34m)\u001b[0m\u001b[0;34m\u001b[0m\u001b[0;34m\u001b[0m\u001b[0m\n\u001b[1;32m      5\u001b[0m \u001b[0mplt\u001b[0m\u001b[0;34m.\u001b[0m\u001b[0mtight_layout\u001b[0m\u001b[0;34m(\u001b[0m\u001b[0;34m)\u001b[0m\u001b[0;34m\u001b[0m\u001b[0;34m\u001b[0m\u001b[0m\n",
      "\u001b[0;31mKeyError\u001b[0m: 3.0"
     ]
    }
   ],
   "source": [
    "inv_unique, inv_counts = np.unique(all_labels[:,1], return_counts=True)\n",
    "inv_counts = inv_counts[~np.isnan(inv_unique)]\n",
    "invs = [chord_loader.num_to_inv[x] for x in inv_unique[~np.isnan(inv_unique)]]\n",
    "plt.pie(inv_counts,labels=invs)\n",
    "plt.tight_layout()\n",
    "plt.rc('font', size=15)\n",
    "plt.savefig('images/pie_inv')"
   ]
  },
  {
   "cell_type": "code",
   "execution_count": null,
   "metadata": {},
   "outputs": [],
   "source": []
  }
 ],
 "metadata": {
  "kernelspec": {
   "display_name": "Python 3",
   "language": "python",
   "name": "python3"
  },
  "language_info": {
   "codemirror_mode": {
    "name": "ipython",
    "version": 3
   },
   "file_extension": ".py",
   "mimetype": "text/x-python",
   "name": "python",
   "nbconvert_exporter": "python",
   "pygments_lexer": "ipython3",
   "version": "3.7.4"
  },
  "toc": {
   "base_numbering": 1,
   "nav_menu": {},
   "number_sections": true,
   "sideBar": true,
   "skip_h1_title": false,
   "title_cell": "Table of Contents",
   "title_sidebar": "Contents",
   "toc_cell": false,
   "toc_position": {},
   "toc_section_display": true,
   "toc_window_display": false
  }
 },
 "nbformat": 4,
 "nbformat_minor": 2
}
