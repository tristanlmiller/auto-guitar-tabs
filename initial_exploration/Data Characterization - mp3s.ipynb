{
 "cells": [
  {
   "cell_type": "markdown",
   "metadata": {},
   "source": [
    "# Data Characterization - mp3s\n",
    "Tristan Miller, 9/17/2019\n",
    "\n",
    "Naturally I have not included the mp3 data in this repository, but I will say a bit here.  Out of the 1108 songs I have chord files for, only 952 are actually unique (the McGill Billboard project includes some duplicates because the selected tracks with replacement).  Of these, I was able to acquire 837 corresponding mp3s.  The length of the mp3s do not always match the length indicated in the chord files; I tossed files that were at least 10 seconds longer or shorter.  The difference in time length will be noted in `song_directory.csv` as a measure of data quality (and possible issues with music shifting)."
   ]
  },
  {
   "cell_type": "markdown",
   "metadata": {
    "toc": true
   },
   "source": [
    "<h1>Table of Contents<span class=\"tocSkip\"></span></h1>\n",
    "<div class=\"toc\"><ul class=\"toc-item\"><li><span><a href=\"#Setup\" data-toc-modified-id=\"Setup-1\"><span class=\"toc-item-num\">1&nbsp;&nbsp;</span>Setup</a></span></li><li><span><a href=\"#Modifying-song_directory\" data-toc-modified-id=\"Modifying-song_directory-2\"><span class=\"toc-item-num\">2&nbsp;&nbsp;</span>Modifying song_directory</a></span></li></ul></div>"
   ]
  },
  {
   "cell_type": "markdown",
   "metadata": {},
   "source": [
    "## Setup"
   ]
  },
  {
   "cell_type": "code",
   "execution_count": 1,
   "metadata": {
    "ExecuteTime": {
     "end_time": "2019-09-18T06:48:15.984600Z",
     "start_time": "2019-09-18T06:48:14.863487Z"
    }
   },
   "outputs": [],
   "source": [
    "import pandas as pd\n",
    "import numpy as np"
   ]
  },
  {
   "cell_type": "markdown",
   "metadata": {},
   "source": [
    "## Modifying song_directory"
   ]
  },
  {
   "cell_type": "code",
   "execution_count": 14,
   "metadata": {
    "ExecuteTime": {
     "end_time": "2019-09-18T07:08:34.906588Z",
     "start_time": "2019-09-18T07:08:34.891817Z"
    }
   },
   "outputs": [],
   "source": [
    "mp3_directory = pd.read_csv('../Data/mp3s/mp3_directory.csv')\n",
    "song_directory = pd.read_csv('../song_directory.csv')"
   ]
  },
  {
   "cell_type": "code",
   "execution_count": 15,
   "metadata": {
    "ExecuteTime": {
     "end_time": "2019-09-18T07:08:36.476377Z",
     "start_time": "2019-09-18T07:08:36.464888Z"
    }
   },
   "outputs": [
    {
     "data": {
      "text/html": [
       "<div>\n",
       "<style scoped>\n",
       "    .dataframe tbody tr th:only-of-type {\n",
       "        vertical-align: middle;\n",
       "    }\n",
       "\n",
       "    .dataframe tbody tr th {\n",
       "        vertical-align: top;\n",
       "    }\n",
       "\n",
       "    .dataframe thead th {\n",
       "        text-align: right;\n",
       "    }\n",
       "</style>\n",
       "<table border=\"1\" class=\"dataframe\">\n",
       "  <thead>\n",
       "    <tr style=\"text-align: right;\">\n",
       "      <th></th>\n",
       "      <th>mp3_filepath</th>\n",
       "      <th>mp3_length</th>\n",
       "      <th>chord_length</th>\n",
       "      <th>diff_length</th>\n",
       "    </tr>\n",
       "  </thead>\n",
       "  <tbody>\n",
       "    <tr>\n",
       "      <td>0</td>\n",
       "      <td>Data/mp3s/Money - The Beatles.mp3</td>\n",
       "      <td>2:46</td>\n",
       "      <td>2:47</td>\n",
       "      <td>-1.0</td>\n",
       "    </tr>\n",
       "    <tr>\n",
       "      <td>1</td>\n",
       "      <td>Data/mp3s/Not A Second Time - The Beatles.mp3</td>\n",
       "      <td>2:14</td>\n",
       "      <td>2:08</td>\n",
       "      <td>6.0</td>\n",
       "    </tr>\n",
       "    <tr>\n",
       "      <td>2</td>\n",
       "      <td>Data/mp3s/Don't Bother Me - The Beatles.mp3</td>\n",
       "      <td>2:32</td>\n",
       "      <td>2:29</td>\n",
       "      <td>3.0</td>\n",
       "    </tr>\n",
       "    <tr>\n",
       "      <td>3</td>\n",
       "      <td>Data/mp3s/Little Child - The Beatles.mp3</td>\n",
       "      <td>1:45</td>\n",
       "      <td>1:48</td>\n",
       "      <td>-3.0</td>\n",
       "    </tr>\n",
       "    <tr>\n",
       "      <td>4</td>\n",
       "      <td>Data/mp3s/It Won't Be Long - The Beatles.mp3</td>\n",
       "      <td>2:12</td>\n",
       "      <td>2:13</td>\n",
       "      <td>-1.0</td>\n",
       "    </tr>\n",
       "  </tbody>\n",
       "</table>\n",
       "</div>"
      ],
      "text/plain": [
       "                                    mp3_filepath mp3_length chord_length  \\\n",
       "0              Data/mp3s/Money - The Beatles.mp3       2:46         2:47   \n",
       "1  Data/mp3s/Not A Second Time - The Beatles.mp3       2:14         2:08   \n",
       "2    Data/mp3s/Don't Bother Me - The Beatles.mp3       2:32         2:29   \n",
       "3       Data/mp3s/Little Child - The Beatles.mp3       1:45         1:48   \n",
       "4   Data/mp3s/It Won't Be Long - The Beatles.mp3       2:12         2:13   \n",
       "\n",
       "   diff_length  \n",
       "0         -1.0  \n",
       "1          6.0  \n",
       "2          3.0  \n",
       "3         -3.0  \n",
       "4         -1.0  "
      ]
     },
     "execution_count": 15,
     "metadata": {},
     "output_type": "execute_result"
    }
   ],
   "source": [
    "mp3_directory.head()"
   ]
  },
  {
   "cell_type": "code",
   "execution_count": 16,
   "metadata": {
    "ExecuteTime": {
     "end_time": "2019-09-18T07:08:39.489041Z",
     "start_time": "2019-09-18T07:08:39.476906Z"
    }
   },
   "outputs": [
    {
     "data": {
      "text/html": [
       "<div>\n",
       "<style scoped>\n",
       "    .dataframe tbody tr th:only-of-type {\n",
       "        vertical-align: middle;\n",
       "    }\n",
       "\n",
       "    .dataframe tbody tr th {\n",
       "        vertical-align: top;\n",
       "    }\n",
       "\n",
       "    .dataframe thead th {\n",
       "        text-align: right;\n",
       "    }\n",
       "</style>\n",
       "<table border=\"1\" class=\"dataframe\">\n",
       "  <thead>\n",
       "    <tr style=\"text-align: right;\">\n",
       "      <th></th>\n",
       "      <th>dataset</th>\n",
       "      <th>artist</th>\n",
       "      <th>track</th>\n",
       "      <th>chord_filepath</th>\n",
       "    </tr>\n",
       "  </thead>\n",
       "  <tbody>\n",
       "    <tr>\n",
       "      <td>0</td>\n",
       "      <td>isophonics/The Beatles</td>\n",
       "      <td>The Beatles</td>\n",
       "      <td>Money</td>\n",
       "      <td>Data/Isophonics/The Beatles Annotations/chordl...</td>\n",
       "    </tr>\n",
       "    <tr>\n",
       "      <td>1</td>\n",
       "      <td>isophonics/The Beatles</td>\n",
       "      <td>The Beatles</td>\n",
       "      <td>Not A Second Time</td>\n",
       "      <td>Data/Isophonics/The Beatles Annotations/chordl...</td>\n",
       "    </tr>\n",
       "    <tr>\n",
       "      <td>2</td>\n",
       "      <td>isophonics/The Beatles</td>\n",
       "      <td>The Beatles</td>\n",
       "      <td>Don't Bother Me</td>\n",
       "      <td>Data/Isophonics/The Beatles Annotations/chordl...</td>\n",
       "    </tr>\n",
       "    <tr>\n",
       "      <td>3</td>\n",
       "      <td>isophonics/The Beatles</td>\n",
       "      <td>The Beatles</td>\n",
       "      <td>Little Child</td>\n",
       "      <td>Data/Isophonics/The Beatles Annotations/chordl...</td>\n",
       "    </tr>\n",
       "    <tr>\n",
       "      <td>4</td>\n",
       "      <td>isophonics/The Beatles</td>\n",
       "      <td>The Beatles</td>\n",
       "      <td>It Won't Be Long</td>\n",
       "      <td>Data/Isophonics/The Beatles Annotations/chordl...</td>\n",
       "    </tr>\n",
       "  </tbody>\n",
       "</table>\n",
       "</div>"
      ],
      "text/plain": [
       "                  dataset       artist              track  \\\n",
       "0  isophonics/The Beatles  The Beatles              Money   \n",
       "1  isophonics/The Beatles  The Beatles  Not A Second Time   \n",
       "2  isophonics/The Beatles  The Beatles    Don't Bother Me   \n",
       "3  isophonics/The Beatles  The Beatles       Little Child   \n",
       "4  isophonics/The Beatles  The Beatles   It Won't Be Long   \n",
       "\n",
       "                                      chord_filepath  \n",
       "0  Data/Isophonics/The Beatles Annotations/chordl...  \n",
       "1  Data/Isophonics/The Beatles Annotations/chordl...  \n",
       "2  Data/Isophonics/The Beatles Annotations/chordl...  \n",
       "3  Data/Isophonics/The Beatles Annotations/chordl...  \n",
       "4  Data/Isophonics/The Beatles Annotations/chordl...  "
      ]
     },
     "execution_count": 16,
     "metadata": {},
     "output_type": "execute_result"
    }
   ],
   "source": [
    "song_directory.head()"
   ]
  },
  {
   "cell_type": "code",
   "execution_count": 17,
   "metadata": {
    "ExecuteTime": {
     "end_time": "2019-09-18T07:11:30.048559Z",
     "start_time": "2019-09-18T07:11:30.029149Z"
    }
   },
   "outputs": [
    {
     "data": {
      "text/html": [
       "<div>\n",
       "<style scoped>\n",
       "    .dataframe tbody tr th:only-of-type {\n",
       "        vertical-align: middle;\n",
       "    }\n",
       "\n",
       "    .dataframe tbody tr th {\n",
       "        vertical-align: top;\n",
       "    }\n",
       "\n",
       "    .dataframe thead th {\n",
       "        text-align: right;\n",
       "    }\n",
       "</style>\n",
       "<table border=\"1\" class=\"dataframe\">\n",
       "  <thead>\n",
       "    <tr style=\"text-align: right;\">\n",
       "      <th></th>\n",
       "      <th>dataset</th>\n",
       "      <th>artist</th>\n",
       "      <th>track</th>\n",
       "      <th>chord_filepath</th>\n",
       "      <th>mp3_filepath</th>\n",
       "      <th>mp3_length</th>\n",
       "      <th>chord_length</th>\n",
       "      <th>diff_length</th>\n",
       "    </tr>\n",
       "  </thead>\n",
       "  <tbody>\n",
       "    <tr>\n",
       "      <td>0</td>\n",
       "      <td>isophonics/The Beatles</td>\n",
       "      <td>The Beatles</td>\n",
       "      <td>Money</td>\n",
       "      <td>Data/Isophonics/The Beatles Annotations/chordl...</td>\n",
       "      <td>Data/mp3s/Money - The Beatles.mp3</td>\n",
       "      <td>2:46</td>\n",
       "      <td>2:47</td>\n",
       "      <td>-1.0</td>\n",
       "    </tr>\n",
       "    <tr>\n",
       "      <td>1</td>\n",
       "      <td>isophonics/The Beatles</td>\n",
       "      <td>The Beatles</td>\n",
       "      <td>Not A Second Time</td>\n",
       "      <td>Data/Isophonics/The Beatles Annotations/chordl...</td>\n",
       "      <td>Data/mp3s/Not A Second Time - The Beatles.mp3</td>\n",
       "      <td>2:14</td>\n",
       "      <td>2:08</td>\n",
       "      <td>6.0</td>\n",
       "    </tr>\n",
       "    <tr>\n",
       "      <td>2</td>\n",
       "      <td>isophonics/The Beatles</td>\n",
       "      <td>The Beatles</td>\n",
       "      <td>Don't Bother Me</td>\n",
       "      <td>Data/Isophonics/The Beatles Annotations/chordl...</td>\n",
       "      <td>Data/mp3s/Don't Bother Me - The Beatles.mp3</td>\n",
       "      <td>2:32</td>\n",
       "      <td>2:29</td>\n",
       "      <td>3.0</td>\n",
       "    </tr>\n",
       "    <tr>\n",
       "      <td>3</td>\n",
       "      <td>isophonics/The Beatles</td>\n",
       "      <td>The Beatles</td>\n",
       "      <td>Little Child</td>\n",
       "      <td>Data/Isophonics/The Beatles Annotations/chordl...</td>\n",
       "      <td>Data/mp3s/Little Child - The Beatles.mp3</td>\n",
       "      <td>1:45</td>\n",
       "      <td>1:48</td>\n",
       "      <td>-3.0</td>\n",
       "    </tr>\n",
       "    <tr>\n",
       "      <td>4</td>\n",
       "      <td>isophonics/The Beatles</td>\n",
       "      <td>The Beatles</td>\n",
       "      <td>It Won't Be Long</td>\n",
       "      <td>Data/Isophonics/The Beatles Annotations/chordl...</td>\n",
       "      <td>Data/mp3s/It Won't Be Long - The Beatles.mp3</td>\n",
       "      <td>2:12</td>\n",
       "      <td>2:13</td>\n",
       "      <td>-1.0</td>\n",
       "    </tr>\n",
       "  </tbody>\n",
       "</table>\n",
       "</div>"
      ],
      "text/plain": [
       "                  dataset       artist              track  \\\n",
       "0  isophonics/The Beatles  The Beatles              Money   \n",
       "1  isophonics/The Beatles  The Beatles  Not A Second Time   \n",
       "2  isophonics/The Beatles  The Beatles    Don't Bother Me   \n",
       "3  isophonics/The Beatles  The Beatles       Little Child   \n",
       "4  isophonics/The Beatles  The Beatles   It Won't Be Long   \n",
       "\n",
       "                                      chord_filepath  \\\n",
       "0  Data/Isophonics/The Beatles Annotations/chordl...   \n",
       "1  Data/Isophonics/The Beatles Annotations/chordl...   \n",
       "2  Data/Isophonics/The Beatles Annotations/chordl...   \n",
       "3  Data/Isophonics/The Beatles Annotations/chordl...   \n",
       "4  Data/Isophonics/The Beatles Annotations/chordl...   \n",
       "\n",
       "                                    mp3_filepath mp3_length chord_length  \\\n",
       "0              Data/mp3s/Money - The Beatles.mp3       2:46         2:47   \n",
       "1  Data/mp3s/Not A Second Time - The Beatles.mp3       2:14         2:08   \n",
       "2    Data/mp3s/Don't Bother Me - The Beatles.mp3       2:32         2:29   \n",
       "3       Data/mp3s/Little Child - The Beatles.mp3       1:45         1:48   \n",
       "4   Data/mp3s/It Won't Be Long - The Beatles.mp3       2:12         2:13   \n",
       "\n",
       "   diff_length  \n",
       "0         -1.0  \n",
       "1          6.0  \n",
       "2          3.0  \n",
       "3         -3.0  \n",
       "4         -1.0  "
      ]
     },
     "execution_count": 17,
     "metadata": {},
     "output_type": "execute_result"
    }
   ],
   "source": [
    "pd.concat([song_directory,mp3_directory],axis=1).head()"
   ]
  },
  {
   "cell_type": "code",
   "execution_count": null,
   "metadata": {},
   "outputs": [],
   "source": []
  }
 ],
 "metadata": {
  "kernelspec": {
   "display_name": "Python 3",
   "language": "python",
   "name": "python3"
  },
  "language_info": {
   "codemirror_mode": {
    "name": "ipython",
    "version": 3
   },
   "file_extension": ".py",
   "mimetype": "text/x-python",
   "name": "python",
   "nbconvert_exporter": "python",
   "pygments_lexer": "ipython3",
   "version": "3.7.4"
  },
  "toc": {
   "base_numbering": 1,
   "nav_menu": {},
   "number_sections": true,
   "sideBar": true,
   "skip_h1_title": true,
   "title_cell": "Table of Contents",
   "title_sidebar": "Contents",
   "toc_cell": true,
   "toc_position": {},
   "toc_section_display": true,
   "toc_window_display": true
  }
 },
 "nbformat": 4,
 "nbformat_minor": 2
}
